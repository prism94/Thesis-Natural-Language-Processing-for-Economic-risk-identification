{
  "cells": [
    {
      "cell_type": "code",
      "execution_count": null,
      "metadata": {
        "colab": {
          "base_uri": "https://localhost:8080/"
        },
        "id": "_vtW4BoEElU8",
        "outputId": "0e6d379c-fac3-4e90-9946-91d3bca2e81b"
      },
      "outputs": [
        {
          "output_type": "stream",
          "name": "stdout",
          "text": [
            "Collecting transformers\n",
            "  Downloading transformers-4.16.1-py3-none-any.whl (3.5 MB)\n",
            "\u001b[K     |████████████████████████████████| 3.5 MB 5.4 MB/s \n",
            "\u001b[?25hRequirement already satisfied: importlib-metadata in /usr/local/lib/python3.7/dist-packages (from transformers) (4.10.1)\n",
            "Collecting sacremoses\n",
            "  Downloading sacremoses-0.0.47-py2.py3-none-any.whl (895 kB)\n",
            "\u001b[K     |████████████████████████████████| 895 kB 36.7 MB/s \n",
            "\u001b[?25hRequirement already satisfied: numpy>=1.17 in /usr/local/lib/python3.7/dist-packages (from transformers) (1.19.5)\n",
            "Requirement already satisfied: packaging>=20.0 in /usr/local/lib/python3.7/dist-packages (from transformers) (21.3)\n",
            "Collecting tokenizers!=0.11.3,>=0.10.1\n",
            "  Downloading tokenizers-0.11.4-cp37-cp37m-manylinux_2_12_x86_64.manylinux2010_x86_64.whl (6.8 MB)\n",
            "\u001b[K     |████████████████████████████████| 6.8 MB 8.3 MB/s \n",
            "\u001b[?25hCollecting huggingface-hub<1.0,>=0.1.0\n",
            "  Downloading huggingface_hub-0.4.0-py3-none-any.whl (67 kB)\n",
            "\u001b[K     |████████████████████████████████| 67 kB 2.0 MB/s \n",
            "\u001b[?25hCollecting pyyaml>=5.1\n",
            "  Downloading PyYAML-6.0-cp37-cp37m-manylinux_2_5_x86_64.manylinux1_x86_64.manylinux_2_12_x86_64.manylinux2010_x86_64.whl (596 kB)\n",
            "\u001b[K     |████████████████████████████████| 596 kB 45.7 MB/s \n",
            "\u001b[?25hRequirement already satisfied: requests in /usr/local/lib/python3.7/dist-packages (from transformers) (2.23.0)\n",
            "Requirement already satisfied: filelock in /usr/local/lib/python3.7/dist-packages (from transformers) (3.4.2)\n",
            "Requirement already satisfied: tqdm>=4.27 in /usr/local/lib/python3.7/dist-packages (from transformers) (4.62.3)\n",
            "Requirement already satisfied: regex!=2019.12.17 in /usr/local/lib/python3.7/dist-packages (from transformers) (2019.12.20)\n",
            "Requirement already satisfied: typing-extensions>=3.7.4.3 in /usr/local/lib/python3.7/dist-packages (from huggingface-hub<1.0,>=0.1.0->transformers) (3.10.0.2)\n",
            "Requirement already satisfied: pyparsing!=3.0.5,>=2.0.2 in /usr/local/lib/python3.7/dist-packages (from packaging>=20.0->transformers) (3.0.7)\n",
            "Requirement already satisfied: zipp>=0.5 in /usr/local/lib/python3.7/dist-packages (from importlib-metadata->transformers) (3.7.0)\n",
            "Requirement already satisfied: idna<3,>=2.5 in /usr/local/lib/python3.7/dist-packages (from requests->transformers) (2.10)\n",
            "Requirement already satisfied: urllib3!=1.25.0,!=1.25.1,<1.26,>=1.21.1 in /usr/local/lib/python3.7/dist-packages (from requests->transformers) (1.24.3)\n",
            "Requirement already satisfied: certifi>=2017.4.17 in /usr/local/lib/python3.7/dist-packages (from requests->transformers) (2021.10.8)\n",
            "Requirement already satisfied: chardet<4,>=3.0.2 in /usr/local/lib/python3.7/dist-packages (from requests->transformers) (3.0.4)\n",
            "Requirement already satisfied: click in /usr/local/lib/python3.7/dist-packages (from sacremoses->transformers) (7.1.2)\n",
            "Requirement already satisfied: joblib in /usr/local/lib/python3.7/dist-packages (from sacremoses->transformers) (1.1.0)\n",
            "Requirement already satisfied: six in /usr/local/lib/python3.7/dist-packages (from sacremoses->transformers) (1.15.0)\n",
            "Installing collected packages: pyyaml, tokenizers, sacremoses, huggingface-hub, transformers\n",
            "  Attempting uninstall: pyyaml\n",
            "    Found existing installation: PyYAML 3.13\n",
            "    Uninstalling PyYAML-3.13:\n",
            "      Successfully uninstalled PyYAML-3.13\n",
            "Successfully installed huggingface-hub-0.4.0 pyyaml-6.0 sacremoses-0.0.47 tokenizers-0.11.4 transformers-4.16.1\n",
            "Collecting tensorflow_addons\n",
            "  Downloading tensorflow_addons-0.15.0-cp37-cp37m-manylinux_2_12_x86_64.manylinux2010_x86_64.whl (1.1 MB)\n",
            "\u001b[K     |████████████████████████████████| 1.1 MB 5.5 MB/s \n",
            "\u001b[?25hRequirement already satisfied: typeguard>=2.7 in /usr/local/lib/python3.7/dist-packages (from tensorflow_addons) (2.7.1)\n",
            "Installing collected packages: tensorflow-addons\n",
            "Successfully installed tensorflow-addons-0.15.0\n"
          ]
        }
      ],
      "source": [
        "!pip install transformers\n",
        "!pip install tensorflow_addons"
      ]
    },
    {
      "cell_type": "code",
      "execution_count": null,
      "metadata": {
        "id": "KYIDR_Ql0ZL0"
      },
      "outputs": [],
      "source": [
        "from google.colab import drive\n",
        "import pickle\n",
        "from transformers import BertTokenizer, TFAutoModel, AlbertTokenizerFast, TFBertModel\n",
        "import numpy as np\n",
        "import tensorflow as tf\n",
        "import tensorflow_addons as tfa\n",
        "from tensorflow.keras.callbacks import ModelCheckpoint"
      ]
    },
    {
      "cell_type": "code",
      "execution_count": null,
      "metadata": {
        "colab": {
          "base_uri": "https://localhost:8080/"
        },
        "id": "fQKC3h6QErhq",
        "outputId": "34378955-adbe-4365-b9aa-50dc518f732b"
      },
      "outputs": [
        {
          "output_type": "stream",
          "name": "stdout",
          "text": [
            "Mounted at /content/drive\n"
          ]
        }
      ],
      "source": [
        "drive.mount('/content/drive')"
      ]
    },
    {
      "cell_type": "code",
      "execution_count": null,
      "metadata": {
        "id": "i7Z-HdOL0oEt"
      },
      "outputs": [],
      "source": [
        "drive_loc = './drive/MyDrive/'\n",
        "\n",
        "with open(f'{drive_loc}/Compiled_Labeled_Data_Final.pkl', 'rb' ) as f:\n",
        "  training_data = pickle.load(f)"
      ]
    },
    {
      "cell_type": "code",
      "execution_count": null,
      "metadata": {
        "id": "OlMr8p9GFARq",
        "colab": {
          "base_uri": "https://localhost:8080/",
          "height": 145,
          "referenced_widgets": [
            "f8cda2c37bfe4b75bc22f3de72eeff06",
            "48da90b3614941af91e7f7faadd28985",
            "9145ff3e97364dda8f78c277e5fef8c1",
            "7e0c44f39d824e3abc441cb07b16a970",
            "1b29e874766f4a6d97befb73f32bb96b",
            "79f1d7e8004445bcaa03d1c223356b62",
            "4d955769e9c9452a810aeb49e67defef",
            "c1c89cbfdc544643b314472edfba35eb",
            "c15f1440e7f74b4cb11e6064a256ddd2",
            "7d28fc60e2344b60b9139598b5718e84",
            "a44cc9e8c6754bd3ab685ed22da9bc01",
            "d755da2e513c4081b50a8a33fe72a7fc",
            "4493b0b7e6824d1386b6220acec7f005",
            "7f4fcb6f48b6442f91e4b5610dc1186a",
            "b1019b26e0b746f38f2b4489036dd551",
            "845f97d686a94f9c9e3a953f33411911",
            "c7d5a1502526438c9d43768b32ca773f",
            "23f3d747ad194eaf9d417972288f4942",
            "7e2cfcc5cc8947a8b6cf8945ed7121ff",
            "594b7a9b657148d3901be0cf46b0759e",
            "1c26ab480eec4bf18f2c7db442c0c32a",
            "822bf3a439ae4b808faf9a736667452c",
            "072b5b06f2fb4856ba8b70521d247eea",
            "ba17ecd5408342ac9431dc3352f88b67",
            "c20298aaa501406da6f072c5280c337a",
            "986d28deaf0b49d8a1fcd26a5e4b20db",
            "b0c8896a2cc5464b93e63bed6ccdc0b8",
            "67fc46b15a164eb784573481bbed095b",
            "7d6d844227c646f192d1f07d9f7a2dad",
            "c5d80040f7e649e9bb239d88121b59f7",
            "bd8c63dd158e4098ad4cc05f937a1c8d",
            "2bfc6eb25f8e4bfbb0dd61d0fe367fd1",
            "5756cf129f274ab4ba7bb5324f939f25",
            "7e67b2df9b85445da9c42adb25d4d6ff",
            "ac6a8dbe369442518a0505fad00c2e3d",
            "aafc89f69fad4eae9d16809c9253ee5d",
            "158d1fd42b4d40168926e8e09f26f727",
            "b2fafd50433f4ce5a3650a304ad17d1d",
            "73f72b37c5324df4b0640adef208114b",
            "dba46fe3558e48bbb7abccf44d227f2f",
            "834451454d39498eae832da7c53c0f2a",
            "dfd7922dfa2c4db8a68b45765f5204f9",
            "585fb68984a348f9b75486c80d585bed",
            "76f2952a852e40b6a55785fea1a12af1"
          ]
        },
        "outputId": "17d8e6bd-b5d6-4977-d863-687274185723"
      },
      "outputs": [
        {
          "output_type": "display_data",
          "data": {
            "application/vnd.jupyter.widget-view+json": {
              "model_id": "f8cda2c37bfe4b75bc22f3de72eeff06",
              "version_minor": 0,
              "version_major": 2
            },
            "text/plain": [
              "Downloading:   0%|          | 0.00/28.0 [00:00<?, ?B/s]"
            ]
          },
          "metadata": {}
        },
        {
          "output_type": "display_data",
          "data": {
            "application/vnd.jupyter.widget-view+json": {
              "model_id": "d755da2e513c4081b50a8a33fe72a7fc",
              "version_minor": 0,
              "version_major": 2
            },
            "text/plain": [
              "Downloading:   0%|          | 0.00/226k [00:00<?, ?B/s]"
            ]
          },
          "metadata": {}
        },
        {
          "output_type": "display_data",
          "data": {
            "application/vnd.jupyter.widget-view+json": {
              "model_id": "072b5b06f2fb4856ba8b70521d247eea",
              "version_minor": 0,
              "version_major": 2
            },
            "text/plain": [
              "Downloading:   0%|          | 0.00/455k [00:00<?, ?B/s]"
            ]
          },
          "metadata": {}
        },
        {
          "output_type": "display_data",
          "data": {
            "application/vnd.jupyter.widget-view+json": {
              "model_id": "7e67b2df9b85445da9c42adb25d4d6ff",
              "version_minor": 0,
              "version_major": 2
            },
            "text/plain": [
              "Downloading:   0%|          | 0.00/570 [00:00<?, ?B/s]"
            ]
          },
          "metadata": {}
        }
      ],
      "source": [
        "model_name = 'bert-base-uncased'\n",
        "\n",
        "tokenizer = BertTokenizer.from_pretrained(model_name)\n",
        "\n",
        "max_len = 512\n",
        "\n",
        "entity_diction = { \"Reason\":2,\n",
        "  \"Defendant\":1,\n",
        "  \"Penalties\":3,\n",
        "  \"Outcome\":4,\n",
        "  \"Platiff\":0\n",
        "}\n"
      ]
    },
    {
      "cell_type": "code",
      "execution_count": null,
      "metadata": {
        "id": "CDs2EzGiD2_M"
      },
      "outputs": [],
      "source": [
        "\n",
        "example = training_data[2]\n",
        "def labeling_to_output(train):\n",
        "\n",
        "  text = train[0]\n",
        "  tokens = train[1]\n",
        "  stringer = tokenizer.tokenize(text)\n",
        "  tok = tokenizer(\n",
        "                  text,\n",
        "                  max_length = max_len, #change this for padding\n",
        "                  truncation=True,\n",
        "                  padding='max_length',\n",
        "                  add_special_tokens=True,\n",
        "                  return_tensors='np'\n",
        "\n",
        "  )\n",
        "\n",
        "  output = np.zeros((len(tok['attention_mask'][0]), len(entity_diction)*3))\n",
        "  \n",
        "  for tag in tokens['entities']:\n",
        "    start = tag[0]\n",
        "    end = tag[1]\n",
        "    tager = tag[2]\n",
        "\n",
        "    before = tokenizer(text[:start], return_tensors='np')\n",
        "    after = tokenizer(text[start:+end], return_tensors='np')\n",
        "\n",
        "    starter = len(before['input_ids'][0]) - 1\n",
        "    afterer = len(after['input_ids'][0]) - 1\n",
        "    if (starter+afterer) < max_len:\n",
        "      output[starter:(starter+afterer-1), entity_diction[tager]] = 1\n",
        "      output[starter, (entity_diction[tager]+len(entity_diction))] = 1\n",
        "      output[(starter+afterer-2), int((entity_diction[tager]+len(entity_diction)*2))] = 1\n",
        "    \n",
        "\n",
        "  return tok, output\n",
        "\n",
        "def get_entities(text, output, prob):\n",
        "\n",
        "  output[output> prob] = 1\n",
        "  output[output<= prob] = 0\n",
        "\n",
        "  identified = []\n",
        "\n",
        "  entity_loc = { \n",
        "    2:[\"Reason\", False, []],\n",
        "    1:[\"Defendant\",False, []],\n",
        "    3:[\"Penalties\", False, []],\n",
        "    4:[\"Outcome\", False, []],\n",
        "    0:[\"Platiff\", False, []]\n",
        "  }\n",
        "\n",
        "  for i in range(1, len(output)):\n",
        "      word = text[i]\n",
        "      for n in range(5):\n",
        "          open = entity_loc[n][1]\n",
        "          val = output[i, n]\n",
        "          if open == True:\n",
        "              if val == 1:\n",
        "                  entity_loc[n][2].append(word)\n",
        "              else:\n",
        "                  entity_loc[n][1] = False\n",
        "                  identified.append([entity_loc[n][0], tokenizer.convert_tokens_to_string(tokenizer.convert_ids_to_tokens(entity_loc[n][2]))])\n",
        "                  entity_loc[n][2] = []\n",
        "          else:\n",
        "              if val == 1:\n",
        "                  entity_loc[n][2].append(word)\n",
        "                  entity_loc[n][1] = True\n",
        "\n",
        "  return identified\n",
        "\n",
        "def get_entities_altered(text, output, prob):\n",
        "\n",
        "  output[output> prob] = 1\n",
        "  output[output<= prob] = 0\n",
        "\n",
        "  identified = []\n",
        "\n",
        "  entity_loc = { \n",
        "    1:[\"Defendant\", False, []],\n",
        "    0:[\"Plantiff\",False, []],\n",
        "    3:[\"Outcome\", False, []],\n",
        "  }\n",
        "\n",
        "  for i in range(1, len(output)):\n",
        "      word = text[i]\n",
        "      for n in range(3):\n",
        "          open = entity_loc[n][1]\n",
        "          val = output[i, n]\n",
        "          if open == True:\n",
        "              if val == 1:\n",
        "                  entity_loc[n][2].append(word)\n",
        "              else:\n",
        "                  entity_loc[n][1] = False\n",
        "                  identified.append([entity_loc[n][0], tokenizer.convert_tokens_to_string(tokenizer.convert_ids_to_tokens(entity_loc[n][2]))])\n",
        "                  entity_loc[n][2] = []\n",
        "          else:\n",
        "              if val == 1:\n",
        "                  entity_loc[n][2].append(word)\n",
        "                  entity_loc[n][1] = True\n",
        "\n",
        "  return identified\n",
        "\n",
        "\n",
        "def get_entities_argmax(text, out, prob):\n",
        "  \n",
        "  new_out = []\n",
        "\n",
        "  for i in range(len(out)):\n",
        "      new = np.zeros(len(out[i]))\n",
        "      maxer = out[i].argmax()\n",
        "      new[maxer] = 1\n",
        "      new_out.append(new.tolist())\n",
        "  \n",
        "  output = np.array(new_out)\n",
        "  \n",
        "  identified = []\n",
        "\n",
        "  entity_loc = {\n",
        "    2:[\"Reason\", False, []],\n",
        "    1:[\"Defendant\",False, []],\n",
        "    3:[\"Penalties\", False, []],\n",
        "    4:[\"Outcome\", False, []],\n",
        "    0:[\"Platiff\", False, []]\n",
        "  }\n",
        "  \n",
        "  for i in range(1, len(output)):\n",
        "      word = text[i]\n",
        "      for n in range(5):\n",
        "          open = entity_loc[n][1]\n",
        "          try:\n",
        "            val = output[i, n]\n",
        "          except:\n",
        "            pdb.set_trace()\n",
        "          if open == True:\n",
        "              if val == 1:\n",
        "                  entity_loc[n][2].append(word)\n",
        "              else:\n",
        "                  entity_loc[n][1] = False\n",
        "                  identified.append([entity_loc[n][0], tokenizer.convert_tokens_to_string(tokenizer.convert_ids_to_tokens(entity_loc[n][2]))])\n",
        "                  entity_loc[n][2] = []\n",
        "          else:\n",
        "              if val == 1:\n",
        "                  entity_loc[n][2].append(word)\n",
        "                  entity_loc[n][1] = True\n",
        "\n",
        "  return identified\n",
        "\n",
        "def get_entities_argmax_altered(text, out, prob):\n",
        "  \n",
        "  new_out = []\n",
        "\n",
        "  for i in range(len(out)):\n",
        "      new = np.zeros(len(out[i]))\n",
        "      maxer = out[i].argmax()\n",
        "      new[maxer] = 1\n",
        "      new_out.append(new.tolist())\n",
        "  \n",
        "  output = np.array(new_out)\n",
        "  \n",
        "  identified = []\n",
        "\n",
        "  entity_loc = { \n",
        "    0:[\"Plantiff\", False, []],\n",
        "    1:[\"Defendant\",False, []],\n",
        "  }\n",
        "  \n",
        "  for i in range(1, len(output)):\n",
        "      word = text[i]\n",
        "      for n in range(2):\n",
        "          open = entity_loc[n][1]\n",
        "          try:\n",
        "            val = output[i, n]\n",
        "          except:\n",
        "            pdb.set_trace()\n",
        "          if open == True:\n",
        "              if val == 1:\n",
        "                  entity_loc[n][2].append(word)\n",
        "              else:\n",
        "                  entity_loc[n][1] = False\n",
        "                  identified.append([entity_loc[n][0], tokenizer.convert_tokens_to_string(tokenizer.convert_ids_to_tokens(entity_loc[n][2]))])\n",
        "                  entity_loc[n][2] = []\n",
        "          else:\n",
        "              if val == 1:\n",
        "                  entity_loc[n][2].append(word)\n",
        "                  entity_loc[n][1] = True\n",
        "\n",
        "  return identified"
      ]
    },
    {
      "cell_type": "code",
      "execution_count": null,
      "metadata": {
        "id": "WarB6S-qUghF"
      },
      "outputs": [],
      "source": [
        "X, y = labeling_to_output(example)\n",
        "test = get_entities(X['input_ids'][0], y, 0.5) #Change this depending on output type"
      ]
    },
    {
      "cell_type": "code",
      "execution_count": null,
      "metadata": {
        "id": "mYPkXS6CX98r"
      },
      "outputs": [],
      "source": [
        "X = {'input_ids':[],\n",
        "     'attention_mask':[],\n",
        "     'token_type_ids':[],\n",
        "     }\n",
        "    \n",
        "y = []\n"
      ]
    },
    {
      "cell_type": "code",
      "execution_count": null,
      "metadata": {
        "colab": {
          "base_uri": "https://localhost:8080/"
        },
        "id": "wjNjumOyYafj",
        "outputId": "385e25dd-d679-443d-d6fc-e0b72b92c977"
      },
      "outputs": [
        {
          "output_type": "stream",
          "name": "stderr",
          "text": [
            "Token indices sequence length is longer than the specified maximum sequence length for this model (584 > 512). Running this sequence through the model will result in indexing errors\n"
          ]
        }
      ],
      "source": [
        "article_texts = []\n",
        "for i in range(len(training_data)):\n",
        "    example = training_data[i]\n",
        "    article_texts.append(example[0])\n",
        "    tok, output = labeling_to_output(example)\n",
        "    inputer = tok['input_ids'].tolist()[0]\n",
        "    mask = tok['attention_mask'].tolist()[0]\n",
        "    types = tok['token_type_ids'].tolist()[0]\n",
        "    X['input_ids'].append(inputer)\n",
        "    X['attention_mask'].append(mask)\n",
        "    X['token_type_ids'].append(types)\n",
        "    y.append(output.tolist())\n",
        "article_texts = np.array(article_texts)"
      ]
    },
    {
      "cell_type": "code",
      "execution_count": null,
      "metadata": {
        "id": "JJl3hHflaa4j"
      },
      "outputs": [],
      "source": [
        "X['input_ids'] = np.array(X['input_ids'])\n",
        "X['attention_mask'] = np.array(X['attention_mask'])\n",
        "X['token_type_ids'] = np.array(X['token_type_ids'])\n",
        "y = np.array(y)\n",
        "#y = np.array(y).reshape(len(y), int(y.shape[1]*y.shape[2]))"
      ]
    },
    {
      "cell_type": "code",
      "execution_count": null,
      "metadata": {
        "id": "h8M4TxUXEeCW",
        "colab": {
          "base_uri": "https://localhost:8080/",
          "height": 54
        },
        "outputId": "7069040d-b611-4f15-e9fb-2820856bd671"
      },
      "outputs": [
        {
          "output_type": "execute_result",
          "data": {
            "application/vnd.google.colaboratory.intrinsic+json": {
              "type": "string"
            },
            "text/plain": [
              "\"ran = np.random.permutation(len(X['input_ids']))\\n\\nX['input_ids'] = X['input_ids'][ran]\\nX['attention_mask'] = X['attention_mask'][ran]\\nX['token_type_ids'] = X['token_type_ids'][ran]\\n\\narticle_texts = article_texts[ran]\\n\\ny = y[ran]\""
            ]
          },
          "metadata": {},
          "execution_count": 11
        }
      ],
      "source": [
        "#Already randomized in prep scripts to ensure same dataset between models\n",
        "\"\"\"ran = np.random.permutation(len(X['input_ids']))\n",
        "\n",
        "X['input_ids'] = X['input_ids'][ran]\n",
        "X['attention_mask'] = X['attention_mask'][ran]\n",
        "X['token_type_ids'] = X['token_type_ids'][ran]\n",
        "\n",
        "article_texts = article_texts[ran]\n",
        "\n",
        "y = y[ran]\"\"\""
      ]
    },
    {
      "cell_type": "code",
      "execution_count": null,
      "metadata": {
        "id": "9DMrT3RKSht2"
      },
      "outputs": [],
      "source": [
        "import copy\n",
        "split = 0.75\n",
        "\n",
        "X_train = {}\n",
        "\n",
        "X_train['input_ids'] = X['input_ids'][:int(0.75*len(X['input_ids']))]\n",
        "X_train['attention_mask'] = X['attention_mask'][:int(0.75*len(X['attention_mask']))]\n",
        "X_train['token_type_ids'] = X['token_type_ids'][:int(0.75*len(X['token_type_ids']))]\n",
        "\n",
        "X_test = {}\n",
        "\n",
        "X_test['input_ids'] = X['input_ids'][int(0.75*len(X['input_ids'])):]\n",
        "X_test['attention_mask'] = X['attention_mask'][int(0.75*len(X['attention_mask'])):]\n",
        "X_test['token_type_ids'] = X['token_type_ids'][int(0.75*len(X['token_type_ids'])):]\n",
        "\n",
        "y_train = y[:int(len(y)*split)]\n",
        "y_test = y[int(len(y)*split):]\n",
        "\n",
        "y_train_2 = copy.copy(y_train)\n",
        "y_test_2 = copy.copy(y_test)"
      ]
    },
    {
      "cell_type": "code",
      "execution_count": null,
      "metadata": {
        "id": "ZSpTmjxTe_fB"
      },
      "outputs": [],
      "source": [
        "import copy\n",
        "import pdb\n",
        "\n",
        "shapes = [[0,1,], [2, 4]]\n",
        "data = y_train\n",
        "\n",
        "def create_multidimensional_data(data, shapes):\n",
        "  \n",
        "  new = []\n",
        "  \n",
        "\n",
        "  for i in range(len(data)):\n",
        "    newer = []\n",
        "    for n in range(len(data[i])):\n",
        "      newest = []\n",
        "      for shape in shapes:\n",
        "          newester = []\n",
        "          for s in shape:\n",
        "            newester.append(data[i][n][s])\n",
        "          summer = np.array(newester).sum()\n",
        "          if summer > 0:\n",
        "            newester.append(0)\n",
        "          else:\n",
        "            newester.append(1)\n",
        "          newest.append(newester)\n",
        "      newer.append(newest)\n",
        "    new.append(newer)\n",
        "\n",
        "  return np.array(new)\n",
        "\n",
        "y_train = create_multidimensional_data(y_train, shapes)\n",
        "y_test = create_multidimensional_data(y_test, shapes)"
      ]
    },
    {
      "cell_type": "code",
      "execution_count": null,
      "metadata": {
        "id": "_piti6qu8Ybs"
      },
      "outputs": [],
      "source": [
        "short_list = [7, 9, 12, 14]\n",
        "y_train_2 = y_train_2[:, :, short_list]\n",
        "y_test_2 = y_test_2[:, :, short_list]"
      ]
    },
    {
      "cell_type": "code",
      "execution_count": null,
      "metadata": {
        "id": "xgBajM3lie4i"
      },
      "outputs": [],
      "source": [
        "\n",
        "def transpose_dimensions(data):\n",
        "  new_data = []\n",
        "  for i in range(len(data)):\n",
        "      new = np.transpose(data[i])\n",
        "      new_data.append(new.tolist())\n",
        "  return np.array(new_data)\n",
        "\n",
        "y_train_2 = transpose_dimensions(y_train_2)\n",
        "y_test_2 = transpose_dimensions(y_test_2)\n"
      ]
    },
    {
      "cell_type": "code",
      "source": [
        "\"\"\"import copy\n",
        "\n",
        "original_train = copy.copy(X_train)\n",
        "original_outcome = copy.copy(y_train)\n",
        "original_outcome_2 = copy.copy(y_train_2)\n",
        "\n",
        "def evaluate_outcomes(_y_, numbers):\n",
        "  outs = []\n",
        "  checker_dict = {#'Plaintiff':[0,  0],\n",
        "                  #'Defendant':[0,  1],\n",
        "                  #'Reason':[1,  0],\n",
        "                  'Outcome':[1,  1]}\n",
        "  checking = []\n",
        "  for i in range(len(_y_)):\n",
        "    vals = []\n",
        "    for key in checker_dict.keys():\n",
        "      val = _y_[i, :, checker_dict[key][0], checker_dict[key][1]]\n",
        "      if val.sum() > 0:\n",
        "        val = 1\n",
        "      else:\n",
        "        val = 0\n",
        "      vals.append(val)\n",
        "    if np.array(vals).sum() >= numbers:\n",
        "      checking.append(True)\n",
        "    else:\n",
        "      checking.append(False)\n",
        "  return np.array(checking)\n",
        "\n",
        "found = evaluate_outcomes(original_outcome, 1)\"\"\""
      ],
      "metadata": {
        "id": "qI0SRAZRWiJw",
        "colab": {
          "base_uri": "https://localhost:8080/",
          "height": 90
        },
        "outputId": "7afc5329-15d6-4324-e04e-cd49598afbed"
      },
      "execution_count": null,
      "outputs": [
        {
          "output_type": "execute_result",
          "data": {
            "application/vnd.google.colaboratory.intrinsic+json": {
              "type": "string"
            },
            "text/plain": [
              "\"import copy\\n\\noriginal_train = copy.copy(X_train)\\noriginal_outcome = copy.copy(y_train)\\noriginal_outcome_2 = copy.copy(y_train_2)\\n\\ndef evaluate_outcomes(_y_, numbers):\\n  outs = []\\n  checker_dict = {#'Plaintiff':[0,  0],\\n                  #'Defendant':[0,  1],\\n                  #'Reason':[1,  0],\\n                  'Outcome':[1,  1]}\\n  checking = []\\n  for i in range(len(_y_)):\\n    vals = []\\n    for key in checker_dict.keys():\\n      val = _y_[i, :, checker_dict[key][0], checker_dict[key][1]]\\n      if val.sum() > 0:\\n        val = 1\\n      else:\\n        val = 0\\n      vals.append(val)\\n    if np.array(vals).sum() >= numbers:\\n      checking.append(True)\\n    else:\\n      checking.append(False)\\n  return np.array(checking)\\n\\nfound = evaluate_outcomes(original_outcome, 1)\""
            ]
          },
          "metadata": {},
          "execution_count": 16
        }
      ]
    },
    {
      "cell_type": "code",
      "source": [
        "\"\"\"X_train['input_ids'] = X_train['input_ids'][found]\n",
        "X_train['attention_mask'] = X_train['attention_mask'][found]\n",
        "X_train['token_type_ids'] = X_train['token_type_ids'][found]\n",
        "\n",
        "y_train = y_train[found]\n",
        "y_train_2 = y_train_2[found]\"\"\""
      ],
      "metadata": {
        "id": "2RS21ueA0peR",
        "colab": {
          "base_uri": "https://localhost:8080/",
          "height": 54
        },
        "outputId": "db72eed1-1985-40d8-c350-7cd397e0c6e5"
      },
      "execution_count": null,
      "outputs": [
        {
          "output_type": "execute_result",
          "data": {
            "application/vnd.google.colaboratory.intrinsic+json": {
              "type": "string"
            },
            "text/plain": [
              "\"X_train['input_ids'] = X_train['input_ids'][found]\\nX_train['attention_mask'] = X_train['attention_mask'][found]\\nX_train['token_type_ids'] = X_train['token_type_ids'][found]\\n\\ny_train = y_train[found]\\ny_train_2 = y_train_2[found]\""
            ]
          },
          "metadata": {},
          "execution_count": 17
        }
      ]
    },
    {
      "cell_type": "code",
      "execution_count": null,
      "metadata": {
        "id": "zuSPi305mYrL"
      },
      "outputs": [],
      "source": [
        "from tensorflow.keras.layers import Dropout, Reshape, Softmax\n",
        "\n",
        "dense_shape = int(y_train.shape[2]*y_train.shape[3])\n",
        "\n",
        "seq_len = max_len\n",
        "check = 'checkpoint-InformationExtraction'\n",
        "checkpoint_dir = f'{drive_loc}/BERT_NER'\n",
        "\n",
        "checkpoint = ModelCheckpoint(checkpoint_dir, monitor='val_loss', verbose=0, save_best_only=True, mode='auto')#, save_weights_only=True, mode='auto')\n",
        "callbacks = [checkpoint]\n",
        "\n",
        "def create_model():\n",
        "  BERT = TFBertModel.from_pretrained(model_name)\n",
        "\n",
        "  input_ids = tf.keras.layers.Input(shape=(seq_len, ), name='input_ids', dtype='int32')\n",
        "  token_type_ids = tf.keras.layers.Input(shape=(seq_len, ), name='token_type_ids', dtype='int32')\n",
        "  mask = tf.keras.layers.Input(shape=(seq_len, ), name='attention_mask', dtype='int32')\n",
        "\n",
        "  embeddings = BERT(input_ids, token_type_ids=token_type_ids, attention_mask=mask)[0]#'pooler_output'] #Try out index 0\n",
        "  #embeddings = BERT.albert(input_ids, attention_mask=mask)['pooler_output']\n",
        "\n",
        "  #den_1 = tf.keras.layers.Dense(1000, activation='relu')(embeddings)]\n",
        "  den_1 = Dropout(0.5)(embeddings)\n",
        "  #den_2  = tf.keras.layers.Dense(1000, activation='relu')(den_1)\n",
        "  #den_3 = Dropout(0.5)(den_2)\n",
        "  #den_1 = tf.keras.layers.Dense(10000, activation='relu')(den_1)\n",
        "  #den_1 = Dropout(0.5)(den_1)\n",
        "  #den_1 = tf.keras.layers.Dense(1000, activation='relu')(den_1)\n",
        "  output = tf.keras.layers.Dense(dense_shape)(den_1) #Alter this depending on output type\n",
        "  output = Reshape((512, 2, 3))(output)#(512, 2, 3)\n",
        "  output = Softmax()(output)\n",
        "\n",
        "  model = tf.keras.Model(inputs=[input_ids, token_type_ids, mask],\n",
        "                         outputs=output)\n",
        "\n",
        "  #opt = tfa.optimizers.AdamW()\n",
        "  opt = tf.keras.optimizers.Adam(learning_rate = 1e-5)\n",
        "  #loss = tf.keras.losses.CategoricalCrossentropy()\n",
        "\n",
        "  model.compile(opt, loss='categorical_crossentropy', metrics=['accuracy'])\n",
        "\n",
        "  #model.load_weights(checkpoint_dir)\n",
        "  model.layers[0].trainable = False\n",
        "  model.layers[1].trainable = False\n",
        "  model.layers[2].trainable = False\n",
        "  model.layers[3].trainable = False\n",
        "\n",
        "  return model"
      ]
    },
    {
      "cell_type": "code",
      "execution_count": null,
      "metadata": {
        "id": "j0-mTOaa71U4"
      },
      "outputs": [],
      "source": [
        "from tensorflow.keras.layers import Dropout, Reshape, Softmax, Permute\n",
        "\n",
        "def create_model_2():\n",
        "  BERT = TFBertModel.from_pretrained(model_name)\n",
        "\n",
        "  input_ids = tf.keras.layers.Input(shape=(seq_len, ), name='input_ids', dtype='int32')\n",
        "  token_type_ids = tf.keras.layers.Input(shape=(seq_len, ), name='token_type_ids', dtype='int32')\n",
        "  mask = tf.keras.layers.Input(shape=(seq_len, ), name='attention_mask', dtype='int32')\n",
        "\n",
        "  embeddings = BERT(input_ids, token_type_ids=token_type_ids, attention_mask=mask)[0]#'pooler_output'] #Try out index 0\n",
        "  #embeddings = BERT.albert(input_ids, attention_mask=mask)['pooler_output']\n",
        "  dropout = Dropout(0.5)(embeddings)\n",
        "  output = tf.keras.layers.Dense(len(short_list))(dropout) #Alter this depending on output type\n",
        "  output = Permute((2,1), input_shape=(512, ))(output)\n",
        "  output = Softmax()(output)\n",
        "\n",
        "  model = tf.keras.Model(inputs=[input_ids, token_type_ids, mask],\n",
        "                         outputs=output)\n",
        "\n",
        "  #opt = tfa.optimizers.AdamW()\n",
        "  opt = tf.keras.optimizers.Adam(learning_rate = 1e-5)\n",
        "  #loss = tf.keras.losses.CategoricalCrossentropy()\n",
        "\n",
        "  model.compile(opt, loss='categorical_crossentropy', metrics=['accuracy'])\n",
        "\n",
        "  #model.load_weights(checkpoint_dir)\n",
        "  #model.layers[0].trainable = False\n",
        "  #model.layers[1].trainable = False\n",
        "  #model.layers[2].trainable = False\n",
        "  #model.layers[3].trainable = False\n",
        "\n",
        "  return model"
      ]
    },
    {
      "cell_type": "code",
      "execution_count": null,
      "metadata": {
        "colab": {
          "base_uri": "https://localhost:8080/",
          "height": 945,
          "referenced_widgets": [
            "567e5fdee3744e398e96b9d01091704d",
            "e53a08d155844609a463cd78cfca224d",
            "81d62fdf0c414a9b87937e3df16f0156",
            "c454affbec614def97d3731cd621dbf0",
            "a8ad10eaa81e430ab79cd1f977edb371",
            "3ed24d9ae1034b689871db759ad4ed95",
            "cbba6660f8844b60a1ae5b27cfa2fc8c",
            "01c3fb87ecd144cbafa9d047f2ae45e4",
            "b3ab4e207e1b4ee09ccea484162cd263",
            "ab872faf867a408398d8465f46f6bb01",
            "a77535e737dd4ede8c5d8eaf55fd14cd"
          ]
        },
        "id": "9LpVRcO7JM0N",
        "outputId": "292bf78b-cc0f-4acd-fd4d-5ca9fd227536"
      },
      "outputs": [
        {
          "output_type": "stream",
          "name": "stdout",
          "text": [
            "INFO:tensorflow:Deallocate tpu buffers before initializing tpu system.\n"
          ]
        },
        {
          "output_type": "stream",
          "name": "stderr",
          "text": [
            "INFO:tensorflow:Deallocate tpu buffers before initializing tpu system.\n"
          ]
        },
        {
          "output_type": "stream",
          "name": "stdout",
          "text": [
            "INFO:tensorflow:Initializing the TPU system: grpc://10.6.252.26:8470\n"
          ]
        },
        {
          "output_type": "stream",
          "name": "stderr",
          "text": [
            "INFO:tensorflow:Initializing the TPU system: grpc://10.6.252.26:8470\n"
          ]
        },
        {
          "output_type": "stream",
          "name": "stdout",
          "text": [
            "INFO:tensorflow:Finished initializing TPU system.\n"
          ]
        },
        {
          "output_type": "stream",
          "name": "stderr",
          "text": [
            "INFO:tensorflow:Finished initializing TPU system.\n"
          ]
        },
        {
          "output_type": "stream",
          "name": "stdout",
          "text": [
            "INFO:tensorflow:Found TPU system:\n"
          ]
        },
        {
          "output_type": "stream",
          "name": "stderr",
          "text": [
            "INFO:tensorflow:Found TPU system:\n"
          ]
        },
        {
          "output_type": "stream",
          "name": "stdout",
          "text": [
            "INFO:tensorflow:*** Num TPU Cores: 8\n"
          ]
        },
        {
          "output_type": "stream",
          "name": "stderr",
          "text": [
            "INFO:tensorflow:*** Num TPU Cores: 8\n"
          ]
        },
        {
          "output_type": "stream",
          "name": "stdout",
          "text": [
            "INFO:tensorflow:*** Num TPU Workers: 1\n"
          ]
        },
        {
          "output_type": "stream",
          "name": "stderr",
          "text": [
            "INFO:tensorflow:*** Num TPU Workers: 1\n"
          ]
        },
        {
          "output_type": "stream",
          "name": "stdout",
          "text": [
            "INFO:tensorflow:*** Num TPU Cores Per Worker: 8\n"
          ]
        },
        {
          "output_type": "stream",
          "name": "stderr",
          "text": [
            "INFO:tensorflow:*** Num TPU Cores Per Worker: 8\n"
          ]
        },
        {
          "output_type": "stream",
          "name": "stdout",
          "text": [
            "INFO:tensorflow:*** Available Device: _DeviceAttributes(/job:localhost/replica:0/task:0/device:CPU:0, CPU, 0, 0)\n"
          ]
        },
        {
          "output_type": "stream",
          "name": "stderr",
          "text": [
            "INFO:tensorflow:*** Available Device: _DeviceAttributes(/job:localhost/replica:0/task:0/device:CPU:0, CPU, 0, 0)\n"
          ]
        },
        {
          "output_type": "stream",
          "name": "stdout",
          "text": [
            "INFO:tensorflow:*** Available Device: _DeviceAttributes(/job:worker/replica:0/task:0/device:CPU:0, CPU, 0, 0)\n"
          ]
        },
        {
          "output_type": "stream",
          "name": "stderr",
          "text": [
            "INFO:tensorflow:*** Available Device: _DeviceAttributes(/job:worker/replica:0/task:0/device:CPU:0, CPU, 0, 0)\n"
          ]
        },
        {
          "output_type": "stream",
          "name": "stdout",
          "text": [
            "INFO:tensorflow:*** Available Device: _DeviceAttributes(/job:worker/replica:0/task:0/device:TPU:0, TPU, 0, 0)\n"
          ]
        },
        {
          "output_type": "stream",
          "name": "stderr",
          "text": [
            "INFO:tensorflow:*** Available Device: _DeviceAttributes(/job:worker/replica:0/task:0/device:TPU:0, TPU, 0, 0)\n"
          ]
        },
        {
          "output_type": "stream",
          "name": "stdout",
          "text": [
            "INFO:tensorflow:*** Available Device: _DeviceAttributes(/job:worker/replica:0/task:0/device:TPU:1, TPU, 0, 0)\n"
          ]
        },
        {
          "output_type": "stream",
          "name": "stderr",
          "text": [
            "INFO:tensorflow:*** Available Device: _DeviceAttributes(/job:worker/replica:0/task:0/device:TPU:1, TPU, 0, 0)\n"
          ]
        },
        {
          "output_type": "stream",
          "name": "stdout",
          "text": [
            "INFO:tensorflow:*** Available Device: _DeviceAttributes(/job:worker/replica:0/task:0/device:TPU:2, TPU, 0, 0)\n"
          ]
        },
        {
          "output_type": "stream",
          "name": "stderr",
          "text": [
            "INFO:tensorflow:*** Available Device: _DeviceAttributes(/job:worker/replica:0/task:0/device:TPU:2, TPU, 0, 0)\n"
          ]
        },
        {
          "output_type": "stream",
          "name": "stdout",
          "text": [
            "INFO:tensorflow:*** Available Device: _DeviceAttributes(/job:worker/replica:0/task:0/device:TPU:3, TPU, 0, 0)\n"
          ]
        },
        {
          "output_type": "stream",
          "name": "stderr",
          "text": [
            "INFO:tensorflow:*** Available Device: _DeviceAttributes(/job:worker/replica:0/task:0/device:TPU:3, TPU, 0, 0)\n"
          ]
        },
        {
          "output_type": "stream",
          "name": "stdout",
          "text": [
            "INFO:tensorflow:*** Available Device: _DeviceAttributes(/job:worker/replica:0/task:0/device:TPU:4, TPU, 0, 0)\n"
          ]
        },
        {
          "output_type": "stream",
          "name": "stderr",
          "text": [
            "INFO:tensorflow:*** Available Device: _DeviceAttributes(/job:worker/replica:0/task:0/device:TPU:4, TPU, 0, 0)\n"
          ]
        },
        {
          "output_type": "stream",
          "name": "stdout",
          "text": [
            "INFO:tensorflow:*** Available Device: _DeviceAttributes(/job:worker/replica:0/task:0/device:TPU:5, TPU, 0, 0)\n"
          ]
        },
        {
          "output_type": "stream",
          "name": "stderr",
          "text": [
            "INFO:tensorflow:*** Available Device: _DeviceAttributes(/job:worker/replica:0/task:0/device:TPU:5, TPU, 0, 0)\n"
          ]
        },
        {
          "output_type": "stream",
          "name": "stdout",
          "text": [
            "INFO:tensorflow:*** Available Device: _DeviceAttributes(/job:worker/replica:0/task:0/device:TPU:6, TPU, 0, 0)\n"
          ]
        },
        {
          "output_type": "stream",
          "name": "stderr",
          "text": [
            "INFO:tensorflow:*** Available Device: _DeviceAttributes(/job:worker/replica:0/task:0/device:TPU:6, TPU, 0, 0)\n"
          ]
        },
        {
          "output_type": "stream",
          "name": "stdout",
          "text": [
            "INFO:tensorflow:*** Available Device: _DeviceAttributes(/job:worker/replica:0/task:0/device:TPU:7, TPU, 0, 0)\n"
          ]
        },
        {
          "output_type": "stream",
          "name": "stderr",
          "text": [
            "INFO:tensorflow:*** Available Device: _DeviceAttributes(/job:worker/replica:0/task:0/device:TPU:7, TPU, 0, 0)\n"
          ]
        },
        {
          "output_type": "stream",
          "name": "stdout",
          "text": [
            "INFO:tensorflow:*** Available Device: _DeviceAttributes(/job:worker/replica:0/task:0/device:TPU_SYSTEM:0, TPU_SYSTEM, 0, 0)\n"
          ]
        },
        {
          "output_type": "stream",
          "name": "stderr",
          "text": [
            "INFO:tensorflow:*** Available Device: _DeviceAttributes(/job:worker/replica:0/task:0/device:TPU_SYSTEM:0, TPU_SYSTEM, 0, 0)\n"
          ]
        },
        {
          "output_type": "stream",
          "name": "stdout",
          "text": [
            "INFO:tensorflow:*** Available Device: _DeviceAttributes(/job:worker/replica:0/task:0/device:XLA_CPU:0, XLA_CPU, 0, 0)\n"
          ]
        },
        {
          "output_type": "stream",
          "name": "stderr",
          "text": [
            "INFO:tensorflow:*** Available Device: _DeviceAttributes(/job:worker/replica:0/task:0/device:XLA_CPU:0, XLA_CPU, 0, 0)\n"
          ]
        },
        {
          "output_type": "display_data",
          "data": {
            "application/vnd.jupyter.widget-view+json": {
              "model_id": "567e5fdee3744e398e96b9d01091704d",
              "version_minor": 0,
              "version_major": 2
            },
            "text/plain": [
              "Downloading:   0%|          | 0.00/511M [00:00<?, ?B/s]"
            ]
          },
          "metadata": {}
        },
        {
          "output_type": "stream",
          "name": "stderr",
          "text": [
            "Some layers from the model checkpoint at bert-base-uncased were not used when initializing TFBertModel: ['mlm___cls', 'nsp___cls']\n",
            "- This IS expected if you are initializing TFBertModel from the checkpoint of a model trained on another task or with another architecture (e.g. initializing a BertForSequenceClassification model from a BertForPreTraining model).\n",
            "- This IS NOT expected if you are initializing TFBertModel from the checkpoint of a model that you expect to be exactly identical (initializing a BertForSequenceClassification model from a BertForSequenceClassification model).\n",
            "All the layers of TFBertModel were initialized from the model checkpoint at bert-base-uncased.\n",
            "If your task is similar to the task the model of the checkpoint was trained on, you can already use TFBertModel for predictions without further training.\n",
            "Some layers from the model checkpoint at bert-base-uncased were not used when initializing TFBertModel: ['mlm___cls', 'nsp___cls']\n",
            "- This IS expected if you are initializing TFBertModel from the checkpoint of a model trained on another task or with another architecture (e.g. initializing a BertForSequenceClassification model from a BertForPreTraining model).\n",
            "- This IS NOT expected if you are initializing TFBertModel from the checkpoint of a model that you expect to be exactly identical (initializing a BertForSequenceClassification model from a BertForSequenceClassification model).\n",
            "All the layers of TFBertModel were initialized from the model checkpoint at bert-base-uncased.\n",
            "If your task is similar to the task the model of the checkpoint was trained on, you can already use TFBertModel for predictions without further training.\n"
          ]
        }
      ],
      "source": [
        "tpu = tf.distribute.cluster_resolver.TPUClusterResolver()\n",
        "tf.config.experimental_connect_to_cluster(tpu)\n",
        "tf.tpu.experimental.initialize_tpu_system(tpu)\n",
        "strategy = tf.distribute.TPUStrategy(tpu)\n",
        "\n",
        "# Create model\n",
        "with strategy.scope():\n",
        "    model = create_model()\n",
        "    model_2 = create_model_2()"
      ]
    },
    {
      "cell_type": "code",
      "execution_count": null,
      "metadata": {
        "colab": {
          "base_uri": "https://localhost:8080/"
        },
        "id": "HwJZOMvrJVwe",
        "outputId": "3d681587-781b-4032-e4a7-e158f3c0fe5a"
      },
      "outputs": [
        {
          "output_type": "stream",
          "name": "stdout",
          "text": [
            "Model: \"model\"\n",
            "__________________________________________________________________________________________________\n",
            " Layer (type)                   Output Shape         Param #     Connected to                     \n",
            "==================================================================================================\n",
            " input_ids (InputLayer)         [(None, 512)]        0           []                               \n",
            "                                                                                                  \n",
            " attention_mask (InputLayer)    [(None, 512)]        0           []                               \n",
            "                                                                                                  \n",
            " token_type_ids (InputLayer)    [(None, 512)]        0           []                               \n",
            "                                                                                                  \n",
            " tf_bert_model (TFBertModel)    TFBaseModelOutputWi  109482240   ['input_ids[0][0]',              \n",
            "                                thPoolingAndCrossAt               'attention_mask[0][0]',         \n",
            "                                tentions(last_hidde               'token_type_ids[0][0]']         \n",
            "                                n_state=(None, 512,                                               \n",
            "                                 768),                                                            \n",
            "                                 pooler_output=(Non                                               \n",
            "                                e, 768),                                                          \n",
            "                                 past_key_values=No                                               \n",
            "                                ne, hidden_states=N                                               \n",
            "                                one, attentions=Non                                               \n",
            "                                e, cross_attentions                                               \n",
            "                                =None)                                                            \n",
            "                                                                                                  \n",
            " dropout_37 (Dropout)           (None, 512, 768)     0           ['tf_bert_model[0][0]']          \n",
            "                                                                                                  \n",
            " dense (Dense)                  (None, 512, 6)       4614        ['dropout_37[0][0]']             \n",
            "                                                                                                  \n",
            " reshape (Reshape)              (None, 512, 2, 3)    0           ['dense[0][0]']                  \n",
            "                                                                                                  \n",
            " softmax (Softmax)              (None, 512, 2, 3)    0           ['reshape[0][0]']                \n",
            "                                                                                                  \n",
            "==================================================================================================\n",
            "Total params: 109,486,854\n",
            "Trainable params: 4,614\n",
            "Non-trainable params: 109,482,240\n",
            "__________________________________________________________________________________________________\n"
          ]
        }
      ],
      "source": [
        "model.summary()"
      ]
    },
    {
      "cell_type": "code",
      "execution_count": null,
      "metadata": {
        "colab": {
          "base_uri": "https://localhost:8080/"
        },
        "id": "xKLsOJpM8j_C",
        "outputId": "3547a314-0f7f-4dd5-f18d-4fce400df4b3"
      },
      "outputs": [
        {
          "output_type": "stream",
          "name": "stdout",
          "text": [
            "Model: \"model_1\"\n",
            "__________________________________________________________________________________________________\n",
            " Layer (type)                   Output Shape         Param #     Connected to                     \n",
            "==================================================================================================\n",
            " input_ids (InputLayer)         [(None, 512)]        0           []                               \n",
            "                                                                                                  \n",
            " attention_mask (InputLayer)    [(None, 512)]        0           []                               \n",
            "                                                                                                  \n",
            " token_type_ids (InputLayer)    [(None, 512)]        0           []                               \n",
            "                                                                                                  \n",
            " tf_bert_model_1 (TFBertModel)  TFBaseModelOutputWi  109482240   ['input_ids[0][0]',              \n",
            "                                thPoolingAndCrossAt               'attention_mask[0][0]',         \n",
            "                                tentions(last_hidde               'token_type_ids[0][0]']         \n",
            "                                n_state=(None, 512,                                               \n",
            "                                 768),                                                            \n",
            "                                 pooler_output=(Non                                               \n",
            "                                e, 768),                                                          \n",
            "                                 past_key_values=No                                               \n",
            "                                ne, hidden_states=N                                               \n",
            "                                one, attentions=Non                                               \n",
            "                                e, cross_attentions                                               \n",
            "                                =None)                                                            \n",
            "                                                                                                  \n",
            " dropout_75 (Dropout)           (None, 512, 768)     0           ['tf_bert_model_1[0][0]']        \n",
            "                                                                                                  \n",
            " dense_1 (Dense)                (None, 512, 4)       3076        ['dropout_75[0][0]']             \n",
            "                                                                                                  \n",
            " permute (Permute)              (None, 4, 512)       0           ['dense_1[0][0]']                \n",
            "                                                                                                  \n",
            " softmax_1 (Softmax)            (None, 4, 512)       0           ['permute[0][0]']                \n",
            "                                                                                                  \n",
            "==================================================================================================\n",
            "Total params: 109,485,316\n",
            "Trainable params: 109,485,316\n",
            "Non-trainable params: 0\n",
            "__________________________________________________________________________________________________\n"
          ]
        }
      ],
      "source": [
        "model_2.summary()"
      ]
    },
    {
      "cell_type": "code",
      "execution_count": null,
      "metadata": {
        "id": "Z_WMgvawy9_W",
        "outputId": "927170a1-c4ab-418e-9910-18694cbc57dd",
        "colab": {
          "base_uri": "https://localhost:8080/"
        }
      },
      "outputs": [
        {
          "output_type": "stream",
          "name": "stdout",
          "text": [
            "Iteration: 0\n",
            "WARNING:tensorflow:Gradients do not exist for variables ['tf_bert_model/bert/pooler/dense/kernel:0', 'tf_bert_model/bert/pooler/dense/bias:0'] when minimizing the loss. If you're using `model.compile()`, did you forget to provide a `loss`argument?\n"
          ]
        },
        {
          "output_type": "stream",
          "name": "stderr",
          "text": [
            "WARNING:tensorflow:Gradients do not exist for variables ['tf_bert_model/bert/pooler/dense/kernel:0', 'tf_bert_model/bert/pooler/dense/bias:0'] when minimizing the loss. If you're using `model.compile()`, did you forget to provide a `loss`argument?\n"
          ]
        },
        {
          "output_type": "stream",
          "name": "stdout",
          "text": [
            "WARNING:tensorflow:From /usr/local/lib/python3.7/dist-packages/keras/engine/training.py:2970: StrategyBase.unwrap (from tensorflow.python.distribute.distribute_lib) is deprecated and will be removed in a future version.\n",
            "Instructions for updating:\n",
            "use `experimental_local_results` instead.\n"
          ]
        },
        {
          "output_type": "stream",
          "name": "stderr",
          "text": [
            "WARNING:tensorflow:From /usr/local/lib/python3.7/dist-packages/keras/engine/training.py:2970: StrategyBase.unwrap (from tensorflow.python.distribute.distribute_lib) is deprecated and will be removed in a future version.\n",
            "Instructions for updating:\n",
            "use `experimental_local_results` instead.\n"
          ]
        },
        {
          "output_type": "stream",
          "name": "stdout",
          "text": [
            "WARNING:tensorflow:Gradients do not exist for variables ['tf_bert_model/bert/pooler/dense/kernel:0', 'tf_bert_model/bert/pooler/dense/bias:0'] when minimizing the loss. If you're using `model.compile()`, did you forget to provide a `loss`argument?\n"
          ]
        },
        {
          "output_type": "stream",
          "name": "stderr",
          "text": [
            "WARNING:tensorflow:Gradients do not exist for variables ['tf_bert_model/bert/pooler/dense/kernel:0', 'tf_bert_model/bert/pooler/dense/bias:0'] when minimizing the loss. If you're using `model.compile()`, did you forget to provide a `loss`argument?\n"
          ]
        },
        {
          "output_type": "stream",
          "name": "stdout",
          "text": [
            "50/50 [==============================] - 100s 382ms/step - loss: 0.4299 - accuracy: 0.8719 - val_loss: 0.2430 - val_accuracy: 0.9213\n",
            "Iteration: 1\n",
            "50/50 [==============================] - 7s 141ms/step - loss: 0.2692 - accuracy: 0.9136 - val_loss: 0.2126 - val_accuracy: 0.9259\n",
            "Iteration: 2\n",
            "50/50 [==============================] - 7s 139ms/step - loss: 0.2272 - accuracy: 0.9243 - val_loss: 0.2208 - val_accuracy: 0.9187\n",
            "Iteration: 3\n",
            "50/50 [==============================] - 7s 147ms/step - loss: 0.2016 - accuracy: 0.9304 - val_loss: 0.2034 - val_accuracy: 0.9272\n",
            "Iteration: 4\n",
            "50/50 [==============================] - 7s 143ms/step - loss: 0.1774 - accuracy: 0.9386 - val_loss: 0.1958 - val_accuracy: 0.9285\n",
            "Iteration: 5\n",
            "50/50 [==============================] - 7s 142ms/step - loss: 0.1577 - accuracy: 0.9443 - val_loss: 0.2032 - val_accuracy: 0.9323\n",
            "Iteration: 6\n",
            "50/50 [==============================] - 7s 138ms/step - loss: 0.1416 - accuracy: 0.9498 - val_loss: 0.2045 - val_accuracy: 0.9328\n",
            "Iteration: 7\n",
            "50/50 [==============================] - 7s 141ms/step - loss: 0.1270 - accuracy: 0.9556 - val_loss: 0.2228 - val_accuracy: 0.9273\n",
            "Iteration: 8\n",
            "50/50 [==============================] - 7s 145ms/step - loss: 0.1137 - accuracy: 0.9604 - val_loss: 0.2323 - val_accuracy: 0.9253\n",
            "Iteration: 9\n",
            "50/50 [==============================] - 7s 144ms/step - loss: 0.0994 - accuracy: 0.9653 - val_loss: 0.2440 - val_accuracy: 0.9277\n",
            "Iteration: 10\n",
            "50/50 [==============================] - 7s 139ms/step - loss: 0.0890 - accuracy: 0.9685 - val_loss: 0.2537 - val_accuracy: 0.9294\n",
            "Iteration: 11\n",
            "50/50 [==============================] - 7s 139ms/step - loss: 0.0817 - accuracy: 0.9712 - val_loss: 0.2702 - val_accuracy: 0.9246\n",
            "Iteration: 12\n",
            "50/50 [==============================] - 7s 139ms/step - loss: 0.0743 - accuracy: 0.9738 - val_loss: 0.2685 - val_accuracy: 0.9275\n",
            "Iteration: 13\n",
            "50/50 [==============================] - 7s 140ms/step - loss: 0.0705 - accuracy: 0.9753 - val_loss: 0.2891 - val_accuracy: 0.9232\n",
            "Iteration: 14\n",
            "50/50 [==============================] - 7s 140ms/step - loss: 0.0633 - accuracy: 0.9775 - val_loss: 0.2888 - val_accuracy: 0.9275\n",
            "Iteration: 15\n",
            "50/50 [==============================] - 7s 139ms/step - loss: 0.0581 - accuracy: 0.9796 - val_loss: 0.2867 - val_accuracy: 0.9275\n",
            "Iteration: 16\n",
            "50/50 [==============================] - 7s 140ms/step - loss: 0.0530 - accuracy: 0.9816 - val_loss: 0.2964 - val_accuracy: 0.9270\n",
            "Iteration: 17\n",
            "50/50 [==============================] - 7s 138ms/step - loss: 0.0515 - accuracy: 0.9822 - val_loss: 0.2862 - val_accuracy: 0.9305\n",
            "Iteration: 18\n",
            "50/50 [==============================] - 7s 139ms/step - loss: 0.0473 - accuracy: 0.9835 - val_loss: 0.3033 - val_accuracy: 0.9263\n",
            "Iteration: 19\n",
            "50/50 [==============================] - 7s 139ms/step - loss: 0.0423 - accuracy: 0.9855 - val_loss: 0.3272 - val_accuracy: 0.9253\n",
            "Iteration: 20\n",
            "50/50 [==============================] - 7s 139ms/step - loss: 0.0395 - accuracy: 0.9862 - val_loss: 0.3344 - val_accuracy: 0.9267\n",
            "Iteration: 21\n",
            "50/50 [==============================] - 7s 139ms/step - loss: 0.0382 - accuracy: 0.9870 - val_loss: 0.3220 - val_accuracy: 0.9301\n",
            "Iteration: 22\n",
            "50/50 [==============================] - 7s 139ms/step - loss: 0.0339 - accuracy: 0.9881 - val_loss: 0.3296 - val_accuracy: 0.9321\n",
            "Iteration: 23\n",
            "50/50 [==============================] - 7s 139ms/step - loss: 0.0334 - accuracy: 0.9885 - val_loss: 0.3461 - val_accuracy: 0.9290\n",
            "Iteration: 24\n",
            "50/50 [==============================] - 7s 139ms/step - loss: 0.0297 - accuracy: 0.9896 - val_loss: 0.3443 - val_accuracy: 0.9315\n",
            "Iteration: 25\n",
            "50/50 [==============================] - 7s 139ms/step - loss: 0.0296 - accuracy: 0.9899 - val_loss: 0.3809 - val_accuracy: 0.9231\n",
            "Iteration: 26\n",
            "50/50 [==============================] - 8s 154ms/step - loss: 0.0280 - accuracy: 0.9903 - val_loss: 0.3566 - val_accuracy: 0.9292\n",
            "Iteration: 27\n",
            "50/50 [==============================] - 7s 139ms/step - loss: 0.0272 - accuracy: 0.9908 - val_loss: 0.3552 - val_accuracy: 0.9305\n",
            "Iteration: 28\n",
            "50/50 [==============================] - 7s 142ms/step - loss: 0.0237 - accuracy: 0.9917 - val_loss: 0.3884 - val_accuracy: 0.9275\n",
            "Iteration: 29\n",
            "50/50 [==============================] - 7s 141ms/step - loss: 0.0227 - accuracy: 0.9924 - val_loss: 0.3759 - val_accuracy: 0.9320\n",
            "Iteration: 30\n",
            "50/50 [==============================] - 7s 140ms/step - loss: 0.0231 - accuracy: 0.9920 - val_loss: 0.3989 - val_accuracy: 0.9256\n",
            "Iteration: 31\n",
            "50/50 [==============================] - 7s 140ms/step - loss: 0.0208 - accuracy: 0.9930 - val_loss: 0.4069 - val_accuracy: 0.9258\n",
            "Iteration: 32\n",
            "50/50 [==============================] - 7s 140ms/step - loss: 0.0204 - accuracy: 0.9931 - val_loss: 0.4179 - val_accuracy: 0.9241\n",
            "Iteration: 33\n",
            "50/50 [==============================] - 7s 141ms/step - loss: 0.0191 - accuracy: 0.9934 - val_loss: 0.4072 - val_accuracy: 0.9288\n",
            "Iteration: 34\n",
            "50/50 [==============================] - 7s 140ms/step - loss: 0.0178 - accuracy: 0.9940 - val_loss: 0.4012 - val_accuracy: 0.9289\n",
            "Iteration: 35\n",
            "50/50 [==============================] - 7s 140ms/step - loss: 0.0160 - accuracy: 0.9947 - val_loss: 0.4163 - val_accuracy: 0.9297\n",
            "Iteration: 36\n",
            "50/50 [==============================] - 8s 157ms/step - loss: 0.0155 - accuracy: 0.9947 - val_loss: 0.4346 - val_accuracy: 0.9261\n",
            "Iteration: 37\n",
            "50/50 [==============================] - 7s 141ms/step - loss: 0.0170 - accuracy: 0.9943 - val_loss: 0.4163 - val_accuracy: 0.9292\n",
            "Iteration: 38\n",
            "50/50 [==============================] - 7s 140ms/step - loss: 0.0160 - accuracy: 0.9948 - val_loss: 0.4190 - val_accuracy: 0.9270\n",
            "Iteration: 39\n",
            "50/50 [==============================] - 7s 140ms/step - loss: 0.0141 - accuracy: 0.9949 - val_loss: 0.4280 - val_accuracy: 0.9321\n",
            "Iteration: 40\n",
            "50/50 [==============================] - 7s 140ms/step - loss: 0.0144 - accuracy: 0.9951 - val_loss: 0.4253 - val_accuracy: 0.9316\n",
            "Iteration: 41\n",
            "50/50 [==============================] - 8s 155ms/step - loss: 0.0137 - accuracy: 0.9953 - val_loss: 0.4628 - val_accuracy: 0.9268\n",
            "Iteration: 42\n",
            "50/50 [==============================] - 7s 140ms/step - loss: 0.0125 - accuracy: 0.9957 - val_loss: 0.4284 - val_accuracy: 0.9325\n",
            "Iteration: 43\n",
            "50/50 [==============================] - 7s 140ms/step - loss: 0.0126 - accuracy: 0.9958 - val_loss: 0.4502 - val_accuracy: 0.9280\n",
            "Iteration: 44\n",
            "50/50 [==============================] - 7s 141ms/step - loss: 0.0121 - accuracy: 0.9960 - val_loss: 0.4743 - val_accuracy: 0.9281\n",
            "Iteration: 45\n",
            "50/50 [==============================] - 7s 141ms/step - loss: 0.0123 - accuracy: 0.9958 - val_loss: 0.4874 - val_accuracy: 0.9245\n",
            "Iteration: 46\n",
            "50/50 [==============================] - 7s 141ms/step - loss: 0.0116 - accuracy: 0.9961 - val_loss: 0.4444 - val_accuracy: 0.9319\n",
            "Iteration: 47\n",
            "50/50 [==============================] - 7s 140ms/step - loss: 0.0113 - accuracy: 0.9961 - val_loss: 0.4635 - val_accuracy: 0.9306\n",
            "Iteration: 48\n",
            "50/50 [==============================] - 7s 139ms/step - loss: 0.0108 - accuracy: 0.9963 - val_loss: 0.4738 - val_accuracy: 0.9274\n",
            "Iteration: 49\n",
            "50/50 [==============================] - 7s 140ms/step - loss: 0.0108 - accuracy: 0.9962 - val_loss: 0.4683 - val_accuracy: 0.9283\n"
          ]
        }
      ],
      "source": [
        "import time\n",
        "\n",
        "iter = 50\n",
        "best_model_val = 0\n",
        "\n",
        "#Saving models differently as there was consistent implementation error with google drive\n",
        "\n",
        "model_1_vals = {}\n",
        "\n",
        "for i in range(iter):\n",
        "  print(f'Iteration: {i}')\n",
        "  history = model.fit(X_train, y_train,\n",
        "                    validation_data = (X_test, y_test),\n",
        "                    epochs = 1,\n",
        "                    batch_size=6,\n",
        "                    verbose=1\n",
        "                    )\n",
        "  model_val = history.history['val_accuracy'][0]\n",
        "  if model_val > best_model_val:\n",
        "    try:\n",
        "      model.save_weights(f'{checkpoint_dir}.h5')\n",
        "      best_model_val = model_val\n",
        "    except:\n",
        "      time.sleep(5)\n",
        "      model.save_weights(f'{checkpoint_dir}.h5')\n",
        "      best_model_val = model_val\n",
        "\n",
        "  \n",
        "  for key in history.history.keys():\n",
        "    if key not in model_1_vals:\n",
        "      model_1_vals[key] = []\n",
        "    model_1_vals[key].append(history.history[key][0])\n",
        "\n",
        "model.load_weights(f'{checkpoint_dir}.h5')"
      ]
    },
    {
      "cell_type": "code",
      "execution_count": null,
      "metadata": {
        "colab": {
          "base_uri": "https://localhost:8080/",
          "height": 545
        },
        "id": "GfC2TTU_Nn0c",
        "outputId": "c46721f1-eda7-4b2a-8b0c-1baaae64bf1c"
      },
      "outputs": [
        {
          "output_type": "display_data",
          "data": {
            "image/png": "[encoded data removed]",
            "text/plain": [
              "<Figure size 432x288 with 1 Axes>"
            ]
          },
          "metadata": {
            "needs_background": "light"
          }
        },
        {
          "output_type": "display_data",
          "data": {
            "image/png": "[encoded data removed]",
            "text/plain": [
              "<Figure size 432x288 with 1 Axes>"
            ]
          },
          "metadata": {
            "needs_background": "light"
          }
        }
      ],
      "source": [
        "import matplotlib.pyplot as plt\n",
        "\n",
        "plt.plot(model_1_vals['val_loss'])\n",
        "plt.plot(model_1_vals['loss'])\n",
        "plt.legend(['val_loss', 'loss'])\n",
        "plt.title('Loss')\n",
        "plt.show()\n",
        "\n",
        "plt.plot(model_1_vals['accuracy'])\n",
        "plt.plot(model_1_vals['val_accuracy'])\n",
        "plt.legend(['accuracy', 'val_accuracy'])\n",
        "plt.title('Accuracy')\n",
        "plt.show()"
      ]
    },
    {
      "cell_type": "code",
      "execution_count": null,
      "metadata": {
        "colab": {
          "base_uri": "https://localhost:8080/"
        },
        "id": "akUF2Sj05y0U",
        "outputId": "773480c5-4606-4dcd-ad4c-448d1e5812fe"
      },
      "outputs": [
        {
          "output_type": "stream",
          "name": "stdout",
          "text": [
            "Iteration: 0\n",
            "WARNING:tensorflow:Gradients do not exist for variables ['tf_bert_model_1/bert/pooler/dense/kernel:0', 'tf_bert_model_1/bert/pooler/dense/bias:0'] when minimizing the loss. If you're using `model.compile()`, did you forget to provide a `loss`argument?\n"
          ]
        },
        {
          "output_type": "stream",
          "name": "stderr",
          "text": [
            "WARNING:tensorflow:Gradients do not exist for variables ['tf_bert_model_1/bert/pooler/dense/kernel:0', 'tf_bert_model_1/bert/pooler/dense/bias:0'] when minimizing the loss. If you're using `model.compile()`, did you forget to provide a `loss`argument?\n"
          ]
        },
        {
          "output_type": "stream",
          "name": "stdout",
          "text": [
            "WARNING:tensorflow:Gradients do not exist for variables ['tf_bert_model_1/bert/pooler/dense/kernel:0', 'tf_bert_model_1/bert/pooler/dense/bias:0'] when minimizing the loss. If you're using `model.compile()`, did you forget to provide a `loss`argument?\n"
          ]
        },
        {
          "output_type": "stream",
          "name": "stderr",
          "text": [
            "WARNING:tensorflow:Gradients do not exist for variables ['tf_bert_model_1/bert/pooler/dense/kernel:0', 'tf_bert_model_1/bert/pooler/dense/bias:0'] when minimizing the loss. If you're using `model.compile()`, did you forget to provide a `loss`argument?\n"
          ]
        },
        {
          "output_type": "stream",
          "name": "stdout",
          "text": [
            "30/30 [==============================] - 101s 568ms/step - loss: 10.5791 - accuracy: 0.0150 - val_loss: 7.9394 - val_accuracy: 0.0644\n",
            "Iteration: 1\n",
            "30/30 [==============================] - 5s 153ms/step - loss: 9.8871 - accuracy: 0.0192 - val_loss: 7.3389 - val_accuracy: 0.0842\n",
            "Iteration: 2\n",
            "30/30 [==============================] - 5s 152ms/step - loss: 8.9483 - accuracy: 0.0258 - val_loss: 6.6799 - val_accuracy: 0.1064\n",
            "Iteration: 3\n",
            "30/30 [==============================] - 4s 151ms/step - loss: 8.3787 - accuracy: 0.0408 - val_loss: 6.5551 - val_accuracy: 0.0916\n",
            "Iteration: 4\n",
            "30/30 [==============================] - 5s 160ms/step - loss: 8.0646 - accuracy: 0.0383 - val_loss: 6.4679 - val_accuracy: 0.1114\n",
            "Iteration: 5\n",
            "30/30 [==============================] - 5s 153ms/step - loss: 7.7396 - accuracy: 0.0467 - val_loss: 6.3957 - val_accuracy: 0.1089\n",
            "Iteration: 6\n",
            "30/30 [==============================] - 5s 175ms/step - loss: 7.3828 - accuracy: 0.0667 - val_loss: 6.2473 - val_accuracy: 0.1089\n",
            "Iteration: 7\n",
            "30/30 [==============================] - 5s 159ms/step - loss: 7.2337 - accuracy: 0.0883 - val_loss: 6.4385 - val_accuracy: 0.0990\n",
            "Iteration: 8\n",
            "30/30 [==============================] - 6s 194ms/step - loss: 7.1679 - accuracy: 0.0692 - val_loss: 6.3531 - val_accuracy: 0.1114\n",
            "Iteration: 9\n",
            "30/30 [==============================] - 5s 152ms/step - loss: 6.9333 - accuracy: 0.0700 - val_loss: 6.5303 - val_accuracy: 0.1015\n",
            "Iteration: 10\n",
            "30/30 [==============================] - 5s 152ms/step - loss: 6.7481 - accuracy: 0.0883 - val_loss: 6.5697 - val_accuracy: 0.1213\n",
            "Iteration: 11\n",
            "30/30 [==============================] - 5s 153ms/step - loss: 6.7171 - accuracy: 0.0917 - val_loss: 6.5882 - val_accuracy: 0.1485\n",
            "Iteration: 12\n",
            "30/30 [==============================] - 5s 153ms/step - loss: 6.4569 - accuracy: 0.0942 - val_loss: 6.8437 - val_accuracy: 0.1262\n",
            "Iteration: 13\n",
            "30/30 [==============================] - 5s 160ms/step - loss: 6.3481 - accuracy: 0.1058 - val_loss: 6.8810 - val_accuracy: 0.1188\n",
            "Iteration: 14\n",
            "30/30 [==============================] - 5s 160ms/step - loss: 6.1206 - accuracy: 0.1158 - val_loss: 7.0540 - val_accuracy: 0.1312\n",
            "Iteration: 15\n",
            "30/30 [==============================] - 5s 160ms/step - loss: 6.0917 - accuracy: 0.1308 - val_loss: 7.1929 - val_accuracy: 0.1485\n",
            "Iteration: 16\n",
            "30/30 [==============================] - 5s 153ms/step - loss: 5.9548 - accuracy: 0.1367 - val_loss: 7.5095 - val_accuracy: 0.1510\n",
            "Iteration: 17\n",
            "30/30 [==============================] - 5s 151ms/step - loss: 5.8141 - accuracy: 0.1567 - val_loss: 7.4369 - val_accuracy: 0.1361\n",
            "Iteration: 18\n",
            "30/30 [==============================] - 5s 165ms/step - loss: 5.6291 - accuracy: 0.1542 - val_loss: 7.8969 - val_accuracy: 0.1238\n",
            "Iteration: 19\n",
            "30/30 [==============================] - 5s 167ms/step - loss: 5.5068 - accuracy: 0.1625 - val_loss: 7.7395 - val_accuracy: 0.1114\n",
            "Iteration: 20\n",
            "30/30 [==============================] - 5s 157ms/step - loss: 5.3040 - accuracy: 0.1733 - val_loss: 8.2365 - val_accuracy: 0.1584\n",
            "Iteration: 21\n",
            "30/30 [==============================] - 5s 152ms/step - loss: 5.4644 - accuracy: 0.1650 - val_loss: 8.1250 - val_accuracy: 0.1337\n",
            "Iteration: 22\n",
            "30/30 [==============================] - 5s 164ms/step - loss: 5.2984 - accuracy: 0.1833 - val_loss: 8.1768 - val_accuracy: 0.1337\n",
            "Iteration: 23\n",
            "30/30 [==============================] - 5s 162ms/step - loss: 5.1450 - accuracy: 0.2017 - val_loss: 8.8135 - val_accuracy: 0.1584\n",
            "Iteration: 24\n",
            "30/30 [==============================] - 5s 162ms/step - loss: 5.0586 - accuracy: 0.2042 - val_loss: 8.7063 - val_accuracy: 0.1609\n",
            "Iteration: 25\n",
            "30/30 [==============================] - 5s 153ms/step - loss: 4.9645 - accuracy: 0.2092 - val_loss: 9.8162 - val_accuracy: 0.1733\n",
            "Iteration: 26\n",
            "30/30 [==============================] - 5s 154ms/step - loss: 4.8355 - accuracy: 0.2125 - val_loss: 9.1193 - val_accuracy: 0.1609\n",
            "Iteration: 27\n",
            "30/30 [==============================] - 5s 164ms/step - loss: 4.8470 - accuracy: 0.2208 - val_loss: 9.6603 - val_accuracy: 0.1634\n",
            "Iteration: 28\n",
            "30/30 [==============================] - 5s 160ms/step - loss: 4.6998 - accuracy: 0.2358 - val_loss: 9.4366 - val_accuracy: 0.1584\n",
            "Iteration: 29\n",
            "30/30 [==============================] - 5s 161ms/step - loss: 4.6046 - accuracy: 0.2242 - val_loss: 9.5995 - val_accuracy: 0.1658\n",
            "Iteration: 30\n",
            "30/30 [==============================] - 5s 152ms/step - loss: 4.7002 - accuracy: 0.2225 - val_loss: 9.3962 - val_accuracy: 0.1559\n",
            "Iteration: 31\n",
            "30/30 [==============================] - 5s 153ms/step - loss: 4.5631 - accuracy: 0.2358 - val_loss: 10.2732 - val_accuracy: 0.1708\n",
            "Iteration: 32\n",
            "30/30 [==============================] - 5s 152ms/step - loss: 4.5916 - accuracy: 0.2442 - val_loss: 10.8276 - val_accuracy: 0.1782\n",
            "Iteration: 33\n",
            "30/30 [==============================] - 5s 152ms/step - loss: 4.5617 - accuracy: 0.2333 - val_loss: 10.1265 - val_accuracy: 0.1757\n",
            "Iteration: 34\n",
            "30/30 [==============================] - 5s 166ms/step - loss: 4.5093 - accuracy: 0.2625 - val_loss: 10.2370 - val_accuracy: 0.1757\n",
            "Iteration: 35\n",
            "30/30 [==============================] - 5s 162ms/step - loss: 4.4641 - accuracy: 0.2358 - val_loss: 9.9233 - val_accuracy: 0.1733\n",
            "Iteration: 36\n",
            "30/30 [==============================] - 5s 155ms/step - loss: 4.3223 - accuracy: 0.2467 - val_loss: 9.9166 - val_accuracy: 0.1485\n",
            "Iteration: 37\n",
            "30/30 [==============================] - 6s 194ms/step - loss: 4.2073 - accuracy: 0.2733 - val_loss: 10.4558 - val_accuracy: 0.1757\n",
            "Iteration: 38\n",
            "30/30 [==============================] - 5s 152ms/step - loss: 4.2267 - accuracy: 0.2733 - val_loss: 10.9447 - val_accuracy: 0.1733\n",
            "Iteration: 39\n",
            "30/30 [==============================] - 5s 153ms/step - loss: 4.1844 - accuracy: 0.2567 - val_loss: 10.6610 - val_accuracy: 0.1535\n",
            "Iteration: 40\n",
            "30/30 [==============================] - 5s 151ms/step - loss: 4.2443 - accuracy: 0.2692 - val_loss: 10.7757 - val_accuracy: 0.1609\n",
            "Iteration: 41\n",
            "30/30 [==============================] - 5s 152ms/step - loss: 4.2747 - accuracy: 0.2617 - val_loss: 10.3902 - val_accuracy: 0.1609\n",
            "Iteration: 42\n",
            "30/30 [==============================] - 5s 152ms/step - loss: 4.1871 - accuracy: 0.2633 - val_loss: 10.8234 - val_accuracy: 0.1683\n",
            "Iteration: 43\n",
            "30/30 [==============================] - 5s 153ms/step - loss: 4.2043 - accuracy: 0.2783 - val_loss: 10.8404 - val_accuracy: 0.1807\n",
            "Iteration: 44\n",
            "30/30 [==============================] - 5s 153ms/step - loss: 3.9980 - accuracy: 0.3033 - val_loss: 10.4761 - val_accuracy: 0.1559\n",
            "Iteration: 45\n",
            "30/30 [==============================] - 5s 165ms/step - loss: 4.1452 - accuracy: 0.2850 - val_loss: 11.2383 - val_accuracy: 0.1757\n",
            "Iteration: 46\n",
            "30/30 [==============================] - 5s 170ms/step - loss: 4.1426 - accuracy: 0.2858 - val_loss: 11.7802 - val_accuracy: 0.1931\n",
            "Iteration: 47\n",
            "30/30 [==============================] - 5s 153ms/step - loss: 4.0457 - accuracy: 0.2842 - val_loss: 11.0887 - val_accuracy: 0.1460\n",
            "Iteration: 48\n",
            "30/30 [==============================] - 5s 164ms/step - loss: 4.0763 - accuracy: 0.2900 - val_loss: 11.3653 - val_accuracy: 0.1782\n",
            "Iteration: 49\n",
            "30/30 [==============================] - 5s 159ms/step - loss: 3.9967 - accuracy: 0.2933 - val_loss: 11.5877 - val_accuracy: 0.1782\n"
          ]
        }
      ],
      "source": [
        "iter = 50\n",
        "best_model_val = 0\n",
        "\n",
        "#Saving models differently as there was consistent implementation error with google drive\n",
        "\n",
        "model_2_vals = {}\n",
        "\n",
        "for i in range(iter):\n",
        "  print(f'Iteration: {i}')\n",
        "  history = model_2.fit(X_train, y_train_2,\n",
        "                    validation_data = (X_test, y_test_2),\n",
        "                    epochs = 1,\n",
        "                    #callbacks=callbacks,\n",
        "                    batch_size=10,\n",
        "                    verbose=1\n",
        "                    )\n",
        "  model_val = history.history['val_accuracy'][0]\n",
        "  if model_val > best_model_val:\n",
        "    model_2.save_weights(f'{checkpoint_dir}_2.h5')\n",
        "    best_model_val = model_val\n",
        "  \n",
        "  for key in history.history.keys():\n",
        "    if key not in model_2_vals:\n",
        "      model_2_vals[key] = []\n",
        "    model_2_vals[key].append(history.history[key][0])\n",
        "\n",
        "model_2.load_weights(f'{checkpoint_dir}_2.h5')"
      ]
    },
    {
      "cell_type": "code",
      "execution_count": null,
      "metadata": {
        "colab": {
          "base_uri": "https://localhost:8080/",
          "height": 545
        },
        "outputId": "96a62256-c9dd-4b4a-cd3f-79a47af0f657",
        "id": "kQ_98jsdgh9m"
      },
      "outputs": [
        {
          "output_type": "display_data",
          "data": {
            "image/png": "[encoded data removed]",
            "text/plain": [
              "<Figure size 432x288 with 1 Axes>"
            ]
          },
          "metadata": {
            "needs_background": "light"
          }
        },
        {
          "output_type": "display_data",
          "data": {
            "image/png": "[encoded data removed]",
            "text/plain": [
              "<Figure size 432x288 with 1 Axes>"
            ]
          },
          "metadata": {
            "needs_background": "light"
          }
        }
      ],
      "source": [
        "import matplotlib.pyplot as plt\n",
        "\n",
        "plt.plot(model_2_vals['val_loss'])\n",
        "plt.plot(model_2_vals['loss'])\n",
        "plt.legend(['val_loss', 'loss'])\n",
        "plt.title('Loss')\n",
        "plt.show()\n",
        "\n",
        "plt.plot(model_2_vals['accuracy'])\n",
        "plt.plot(model_2_vals['val_accuracy'])\n",
        "plt.legend(['accuracy', 'val_accuracy'])\n",
        "plt.title('Accuracy')\n",
        "plt.show()"
      ]
    },
    {
      "cell_type": "code",
      "execution_count": null,
      "metadata": {
        "id": "M5R6GB05DHEt"
      },
      "outputs": [],
      "source": [
        "predictions_2 = model_2.predict(X_test)\n",
        "predictions_1 = model.predict(X_test)"
      ]
    },
    {
      "cell_type": "code",
      "execution_count": null,
      "metadata": {
        "id": "-4vAvIKn4LXU",
        "colab": {
          "base_uri": "https://localhost:8080/"
        },
        "outputId": "e0876876-08ee-4d6e-af47-11bdc136c705"
      },
      "outputs": [
        {
          "output_type": "stream",
          "name": "stdout",
          "text": [
            "input_ids\n",
            "attention_mask\n",
            "token_type_ids\n",
            "tf_bert_model_1\n",
            "dropout_75\n",
            "dense_1\n",
            "permute\n",
            "softmax_1\n"
          ]
        }
      ],
      "source": [
        "for lay in model_2.layers:\n",
        "  print(lay.name)"
      ]
    },
    {
      "cell_type": "code",
      "execution_count": null,
      "metadata": {
        "id": "lvb4X5PxDffb"
      },
      "outputs": [],
      "source": [
        "_model_ = tf.keras.Model(model_2.input, model_2.get_layer('permute').output)"
      ]
    },
    {
      "cell_type": "code",
      "execution_count": null,
      "metadata": {
        "id": "LrC_ug4PDqBg"
      },
      "outputs": [],
      "source": [
        "_pred_ = _model_.predict(X_test)"
      ]
    },
    {
      "cell_type": "code",
      "execution_count": null,
      "metadata": {
        "id": "2WGLb89_EImZ",
        "colab": {
          "base_uri": "https://localhost:8080/",
          "height": 284
        },
        "outputId": "3440f262-a145-4311-f5cc-87a0163e6dfa"
      },
      "outputs": [
        {
          "output_type": "execute_result",
          "data": {
            "text/plain": [
              "<matplotlib.legend.Legend at 0x7fb245baab90>"
            ]
          },
          "metadata": {},
          "execution_count": 31
        },
        {
          "output_type": "display_data",
          "data": {
            "image/png": "[encoded data removed]",
            "text/plain": [
              "<Figure size 432x288 with 1 Axes>"
            ]
          },
          "metadata": {
            "needs_background": "light"
          }
        }
      ],
      "source": [
        "import matplotlib.pyplot as plt\n",
        "\n",
        "plt.bar(range(len(_pred_[0, 0, :200])), (_pred_[0, 0, :200] - _pred_[:, 0, :].mean()))\n",
        "plt.bar(range(len(_pred_[0, 2, :200])), (_pred_[0, 2, :200] - _pred_[:, 2, :].mean()))\n",
        "plt.bar(range(len(_pred_[0, 0, :200])), y_test_2[0, 0, :200]*_pred_[0, 0, :200].max())\n",
        "plt.bar(range(len(_pred_[0, 2, :200])), y_test_2[0, 2, :200]*_pred_[0, 0, :200].max())\n",
        "\n",
        "plt.legend(['Start', 'Finish', 'Real_Start', 'Real_Finish'])"
      ]
    },
    {
      "cell_type": "code",
      "execution_count": null,
      "metadata": {
        "id": "ObvFR0ZrE5i2",
        "colab": {
          "base_uri": "https://localhost:8080/",
          "height": 284
        },
        "outputId": "a44ae61f-6c31-4b57-931e-d8e39691358c"
      },
      "outputs": [
        {
          "output_type": "execute_result",
          "data": {
            "text/plain": [
              "<matplotlib.legend.Legend at 0x7fb2435dcd50>"
            ]
          },
          "metadata": {},
          "execution_count": 32
        },
        {
          "output_type": "display_data",
          "data": {
            "image/png": "[encoded data removed]",
            "text/plain": [
              "<Figure size 432x288 with 1 Axes>"
            ]
          },
          "metadata": {
            "needs_background": "light"
          }
        }
      ],
      "source": [
        "num = 9\n",
        "new = []\n",
        "running = 15\n",
        "\n",
        "\n",
        "for i in range(len(predictions_1[num, :, 1, 0])):\n",
        "  val = predictions_1[num, :, 1, 0][i]\n",
        "  if i > running:\n",
        "    if i < (len(predictions_1[num, :, 1, 0])-running):\n",
        "      val = predictions_1[num, :, 1, 0][(i-running):(i+running)].mean()\n",
        "  new.append(val)\n",
        "\n",
        "plt.plot(np.dot(50, new)[:200])\n",
        "plt.plot(np.dot(50, predictions_1[num, :, 1,0])[:200])\n",
        "\n",
        "#import matplotlib.pyplot as plt\n",
        "\n",
        "plt.bar(range(len(_pred_[num, 0, :200])), (_pred_[num, 0, :200] - _pred_[:, 0, :].mean()))\n",
        "plt.bar(range(len(_pred_[num, 2, :200])), (_pred_[num, 2, :200] - _pred_[:, 2, :].mean()))\n",
        "plt.bar(range(len(_pred_[num, 0, :200])), y_test_2[num, 0, :200]*_pred_[:, 0, :200].max())\n",
        "plt.bar(range(len(_pred_[num, 2, :200])), y_test_2[num, 2, :200]*_pred_[:, 0, :200].max())\n",
        "\n",
        "plt.legend(['Start', 'Finish', 'Real_Start', 'Real_Finish'])"
      ]
    },
    {
      "cell_type": "code",
      "execution_count": null,
      "metadata": {
        "id": "Cu-D9AFlNMX_"
      },
      "outputs": [],
      "source": [
        "import copy\n",
        "num = 17\n",
        "\n",
        "individual = copy.copy(predictions_1[num])\n",
        "start_stop = copy.copy(_pred_[num])\n",
        "\n",
        "def shortlist_individual(values, cutoff, length):\n",
        "  zeros = np.zeros(len(values))\n",
        "  for i in range(len(values)):\n",
        "    val = values[i]\n",
        "    if val > cutoff:\n",
        "      start = i - length\n",
        "      end = i + length\n",
        "      if start < 0:\n",
        "        start = 0\n",
        "      else:\n",
        "        if end >= len(values):\n",
        "          end = len(values)-1\n",
        "      zeros[start:end] = 1\n",
        "  return zeros\n",
        "\n",
        "def shortlist_individual_argmax(_values_, indexer, cutoff, length):\n",
        "  \n",
        "  values = copy.copy(_values_)\n",
        "\n",
        "  for i in range(len(_values_)):\n",
        "    zeros = np.zeros(_values_.shape[-1])\n",
        "    argmaxer = _values_[i].argmax()\n",
        "    zeros[argmaxer] = 1\n",
        "    values[i] = zeros\n",
        "  values = values[:, indexer]\n",
        "  zeros = np.zeros(len(values))\n",
        "  for i in range(len(values)):\n",
        "    val = values[i]\n",
        "    if val > cutoff:\n",
        "      start = i - length\n",
        "      end = i + length\n",
        "      if start < 0:\n",
        "        start = 0\n",
        "      else:\n",
        "        if end >= len(values):\n",
        "          end = len(values)-1\n",
        "      zeros[start:end] = 1\n",
        "  return zeros, values\n",
        "\n",
        "short, binary_vals = shortlist_individual_argmax(individual[:, 1], 0, 0.5, 6)\n",
        "\n",
        "def evaluate_phrases(_X_, values, values_finish, averages, cutoff):\n",
        "\n",
        "  _class_ = np.zeros(len(_X_))\n",
        "  phrase_coordinates = []\n",
        "\n",
        "  last_val = 0\n",
        "  current_coor = []\n",
        "\n",
        "  #Find Phrase Coordinates\n",
        "  for i in range(len(values)):\n",
        "    val = values[i]\n",
        "    if val != 0:\n",
        "      if last_val == 0:\n",
        "        current_coor.append(i)\n",
        "        current_coor.append(i)\n",
        "      else:\n",
        "        current_coor[1] = i\n",
        "    else:\n",
        "      if last_val != 0:\n",
        "        phrase_coordinates.append(current_coor)\n",
        "        current_coor = []\n",
        "    last_val = val\n",
        "\n",
        "  #Find start finish of Sentance\n",
        "  extracts = []\n",
        "  \n",
        "  for coor in phrase_coordinates:\n",
        "    st = coor[0]\n",
        "    en = coor[1]\n",
        "\n",
        "    starting_vals = values[st:en]\n",
        "    ending_vals = values_finish[st:en]\n",
        "\n",
        "    arg_st = starting_vals.argmax()\n",
        "    arg_en = ending_vals.argmax()\n",
        "    \n",
        "    _st_ = st+arg_st\n",
        "    _en_ = st+arg_en+1\n",
        "    \n",
        "    if _st_ <= en:\n",
        "      mean = averages[_st_:_en_].mean()\n",
        "      if mean > cutoff:\n",
        "        extracts.append(_X_[_st_:_en_])\n",
        "        _class_[_st_:_en_] = 1\n",
        "  \n",
        "\n",
        "  #Convert Tokens to Text\n",
        "  texts = []\n",
        "  for extract in extracts:\n",
        "    texts.append(tokenizer.convert_tokens_to_string(tokenizer.convert_ids_to_tokens(extract)))\n",
        "\n",
        "  return texts, _class_"
      ]
    },
    {
      "cell_type": "code",
      "execution_count": null,
      "metadata": {
        "id": "jixjd9T0huz8",
        "colab": {
          "base_uri": "https://localhost:8080/"
        },
        "outputId": "e6faf74a-926a-407e-d45e-152945ba7dc5"
      },
      "outputs": [
        {
          "output_type": "execute_result",
          "data": {
            "text/plain": [
              "['security flaws in its microchips',\n",
              " 'claim that users were harmed by intel \\' s \" actions and / or omissions \" related to the flaws , which could allow hackers to steal data from computers',\n",
              " 'allege that intel and some of its officers violated securities laws']"
            ]
          },
          "metadata": {},
          "execution_count": 34
        }
      ],
      "source": [
        "values = short*start_stop[0, :]\n",
        "values_finish = short*start_stop[2, :]\n",
        "test, _class_ = evaluate_phrases(X_test['input_ids'][num], values, values_finish, binary_vals, 0.5)\n",
        "test"
      ]
    },
    {
      "cell_type": "code",
      "execution_count": null,
      "metadata": {
        "id": "HTVVnHNfrjZP",
        "colab": {
          "base_uri": "https://localhost:8080/"
        },
        "outputId": "4dfcfc83-833a-4b07-e205-29ee4d49c28e"
      },
      "outputs": [
        {
          "output_type": "stream",
          "name": "stderr",
          "text": [
            "/usr/local/lib/python3.7/dist-packages/ipykernel_launcher.py:88: RuntimeWarning: Mean of empty slice.\n",
            "/usr/local/lib/python3.7/dist-packages/numpy/core/_methods.py:170: RuntimeWarning: invalid value encountered in true_divide\n",
            "  ret = ret.dtype.type(ret / rcount)\n"
          ]
        },
        {
          "output_type": "execute_result",
          "data": {
            "text/plain": [
              "{0: {'Outcome': [],\n",
              "  'Reason': ['challenge to net neutrality',\n",
              "   \"challenging the fcc ' s rollback of net neutrality regulations\"]},\n",
              " 1: {'Outcome': [],\n",
              "  'Reason': ['alleging the tech giant manipulates search results and advertising auctions in ways that harm online publishers',\n",
              "   'alleges that google punishes publishers in search rankings if they donit sell enough advertising space through googleis marketplace .']},\n",
              " 2: {'Outcome': ['won preliminary approval late on wednesday from a federal court for settlement',\n",
              "   'raised its settlement offer by $ 100 million to $ 650 million',\n",
              "   'preliminary approval of the class action settlement',\n",
              "   'preliminary approval of the amended stipulation of class action settlement',\n",
              "   '##8'],\n",
              "  'Reason': ['illegally collected and stored biometric data of millions of users without their consent',\n",
              "   \"accused it of violating the u . s . state ' s biometric information privacy act\",\n",
              "   \"allegedly violated the state ' s law\"]},\n",
              " 3: {'Outcome': ['lawsuit'],\n",
              "  'Reason': ['lawsuit claiming they sold linens that were falsely labeled \" 100 % egyptian cotton \" or \" 100 % long - staple egyptian cotton \" despite being suspicious of their origin',\n",
              "   'claims that consumers nationwide overpaid for mislabeled cotton']},\n",
              " 4: {'Outcome': [\"reject a request by a committee of plaintiffs ' lawyers for a 7 % fee assessed against any settlements\"],\n",
              "  'Reason': ['role in the opioid epidemic',\n",
              "   'fueling a nationwide opioid crisis blamed for 400 , 000 u . s . overdose deaths since 1999']},\n",
              " 5: {'Outcome': [],\n",
              "  'Reason': [\"seize journalistic materials , including from reporters ' phones and laptops\",\n",
              "   'impose sanctions on hong kong and china']},\n",
              " 6: {'Outcome': [], 'Reason': []},\n",
              " 7: {'Outcome': ['ruled', 'defend'],\n",
              "  'Reason': ['claiming it prioritized profit over worker safety during the covid - 19 pandemic at two new york city warehouses',\n",
              "   'protest over conditions at the staten island warehouse']},\n",
              " 8: {'Outcome': ['has reached a $ 500 million settlement',\n",
              "   'pay $ 100 million in cash to the state and provide $ 400 million of relief to homeowners and communities , including funds to build affordable housing'],\n",
              "  'Reason': ['charges it misled investors by selling risky mortgage securities that contributed to the 2008 global financial crisis']},\n",
              " 9: {'Outcome': ['approved a $ 307 . 5 million civil settlement for about 100 , 000 u . s . owners of fiat chrysler diesel vehicles',\n",
              "   'agreed to pay $ 27 . 5 million',\n",
              "   'paying $ 311 million',\n",
              "   'paying $ 72 . 5 million for state civil penalties',\n",
              "   'agreed to pay $ 66 million'],\n",
              "  'Reason': ['illegal software that allowed them to emit excess emissions',\n",
              "   'used illegal software that produced false results on diesel - emissions tests']},\n",
              " 10: {'Outcome': [],\n",
              "  'Reason': ['portrayal in the streaming serviceis ifilthy richi series about sex offender',\n",
              "   'falsely asserting that he had sex with one of epsteinis many victims',\n",
              "   'alleged abuse of dozens of teenage girls']},\n",
              " 11: {'Outcome': [],\n",
              "  'Reason': ['fraudulently billing medicare , sending shares lower']},\n",
              " 12: {'Outcome': ['to', 'probe'],\n",
              "  'Reason': ['probe whether the oil company for decades concealed its knowledge of the role fossil fuels play in climate change',\n",
              "   'probe whether the company misled consumers and investors',\n",
              "   'accused exxon of engaging in a systematic scheme to deceive investors about the impact that future climate change regulations could have on its business',\n",
              "   \"violated the state ' s consumer - protection law through its marketing and sale of fossil fuel products\"]},\n",
              " 13: {'Outcome': ['proposed $ 23 billion drug giveaway to settle thousands of u . s . opioid lawsuits'],\n",
              "  'Reason': []},\n",
              " 14: {'Outcome': [],\n",
              "  'Reason': ['antitrust lawsuit , this time alleging the company abused its power over app developers through its play store on android',\n",
              "   'whether it unfairly charges developers for payments through their apps by customers',\n",
              "   'anticompetitive tactics']},\n",
              " 15: {'Outcome': ['pay french regulators a fine of nearly $ 270 million',\n",
              "   'accepted a series of proposed commitments google made to settle the case'],\n",
              "  'Reason': ['the tech company abused its leading role in the digital advertising sector']},\n",
              " 16: {'Outcome': ['pay $ 480 million'],\n",
              "  'Reason': ['alleged that the bank made certain misstatements and omissions in disclosures related to its sales practices',\n",
              "   'accused the bank \\' s executives of trumpeting the bank \\' s success at \" cross - selling \" , while opening millions of accounts illegally']},\n",
              " 17: {'Outcome': [],\n",
              "  'Reason': ['security flaws in its microchips',\n",
              "   'users were harmed by intel \\' s \" actions and / or omissions \" related to the flaws , which could allow hackers to steal data from computers',\n",
              "   'allege that intel and some of its officers violated securities laws']},\n",
              " 18: {'Outcome': [],\n",
              "  'Reason': ['over crypto ads using his image without',\n",
              "   'the ads promoted cryptocurrency scams using mol ’ s image , which allegedly damaged his reputation',\n",
              "   'reportedly advertised fake cryptocurrency - related businesses or encouraged users to send money to buy bitco',\n",
              "   'fraudulent crypto ads']},\n",
              " 19: {'Outcome': [],\n",
              "  'Reason': ['alleged that google and facebook , the two biggest players in online advertising , used a series of deals to consolidate their market power']},\n",
              " 20: {'Outcome': ['agreed to pay $ 24 million to settle a lawsuit', 'agreed'],\n",
              "  'Reason': ['alleged insurance fraud by the drugmaker in promoting its blockbuster drug',\n",
              "   'paid the registered nurses who are employed as so - called abbvie ambassadors to interact with patients about humira',\n",
              "   'unlawfully providing free and valuable professional goods and services to physicians to induce and reward humira prescriptions']},\n",
              " 21: {'Outcome': [],\n",
              "  'Reason': ['customized pair of its sneakers with satanic themes']},\n",
              " 22: {'Outcome': ['dismiss'],\n",
              "  'Reason': ['accused the fast - food giant of racial discrimination for selling them underperforming stores',\n",
              "   'steering prospective black franchisees to stores in depressed , crime - ridden neighborhoods requiring high security and insurance costs']},\n",
              " 23: {'Outcome': [],\n",
              "  'Reason': ['accuses the online retailer of not doing enough to protect workers in the state from the coronavirus',\n",
              "   'handling of worker safety during the pandemic and the firing of one of its warehouse workers last year',\n",
              "   'obligation to institute reasonable and adequate measures to protect its workers from the spread of the virus in',\n",
              "   'failed to comply with state cleaning and disinfection requirements']},\n",
              " 24: {'Outcome': [\"narrowed woody allen ' s $ 68 million lawsuit against amazon . com inc\"],\n",
              "  'Reason': ['backing out of a four - picture production and distribution agreement and refusing to distribute a film he had already completed',\n",
              "   'alleged breaches of the aug . 2017 multi - picture agreement , an unjust enrichment claim',\n",
              "   'claiming they could not abandon their distribution plans because of a \" baseless \" allegation that he had molested his adopted daughter dylan farrow in 1992']},\n",
              " 25: {'Outcome': ['dismissed a lawsuit against 16 big banks',\n",
              "   'the investors failed to show',\n",
              "   'settled similar litigation by other investors for $ 2 . 31 billion'],\n",
              "  'Reason': ['claimed they were indirectly harmed by a conspiracy to rig prices',\n",
              "   'alleged conspiracy in the $ 5 . 1 - trillion - a - day currency market',\n",
              "   'claimed they were injured by having bought currencies from dealers that did not rig prices , but which passed on the costs of the conspiracy']},\n",
              " 26: {'Outcome': ['requires j & j to pay $ 5 billion over nine years',\n",
              "   'period',\n",
              "   'will pay $ 21 billion'],\n",
              "  'Reason': ['promote opioids or lobby on opioids']},\n",
              " 27: {'Outcome': [],\n",
              "  'Reason': ['colluding to keep stock they were trying to sell to stop the price falling']},\n",
              " 28: {'Outcome': [],\n",
              "  'Reason': ['a singapore government order to block access to a blog page on its social media website under a controversial fake news law']},\n",
              " 29: {'Outcome': ['claims'],\n",
              "  'Reason': ['seeking to hold 17 banks responsible for manipulation of the benchmark libor interest rate',\n",
              "   'claims over alleged misrepresentations by banks that caused it to buy floating - rate debt tied to libor',\n",
              "   'claimed that banks conspired to suppress libor',\n",
              "   'and its bond and money market funds to earn lower returns']},\n",
              " 30: {'Outcome': ['a federal judge significantly narrowed but refused to dismiss a lawsuit',\n",
              "   'co',\n",
              "   'ruled',\n",
              "   'pursue'],\n",
              "  'Reason': ['predatory mortgage lending targeting black and hispanic borrowers in the chicago area',\n",
              "   'alleged \" equity stripping \" practices',\n",
              "   'alleging harm from lost property taxes',\n",
              "   'accused wells fargo of steering minority borrowers into loans they could not afford']},\n",
              " 31: {'Outcome': [],\n",
              "  'Reason': ['seeking to block a vermont law barring companies that do not abide by net neutrality rules from receiving state contracts',\n",
              "   'challenging a much broader california law mandating providers abide by net neutrality rules']},\n",
              " 32: {'Outcome': [],\n",
              "  'Reason': ['imposition of tariffs on more than $ 300 billion in chinese - made goods',\n",
              "   'challenge what they call the unlawful escalation of the u . s . trade war with china through the imposition of a third and fourth round of tariffs',\n",
              "   'challenge the administration \\' s \" unbounded and unlimited trade war impacting billions of dollars in goods imported from the people \\' s republic of china by importers in the united states']},\n",
              " 33: {'Outcome': ['allow'], 'Reason': []},\n",
              " 34: {'Outcome': [],\n",
              "  'Reason': [\"allegedly fostering the nation ' s opioid crisis\",\n",
              "   'u . s . opioid epidemic']},\n",
              " 35: {'Outcome': [],\n",
              "  'Reason': ['charges of trafficking underage girls for sex in']},\n",
              " 36: {'Outcome': ['billion'],\n",
              "  'Reason': ['patent lawsuit that pitted the carmaker against its supplier',\n",
              "   'patent claim for more than $ 1 billion against volkswagen and threatened to seek a judicial ban on the production of several car models']},\n",
              " 37: {'Outcome': ['seeking monetary compensation of at least $ 5 million'],\n",
              "  'Reason': ['claiming that a division of the pipeline operator has emitted chemicals and toxic gas that caused damage to property and killed animals',\n",
              "   'claim that the pipeline , which transports from louisiana to the northeast section of the united states , has released at least 565 , 000 cubic feet of toxic gases and other chemicals']},\n",
              " 38: {'Outcome': [],\n",
              "  'Reason': ['roll back net neutrality rules', 'barring service']},\n",
              " 39: {'Outcome': [],\n",
              "  'Reason': ['investigation into their pact to work together in online advertising',\n",
              "   'accused google of working with facebook in an unlawful manner that violated antitrust law to boost its already - dominant online advertising business',\n",
              "   'antitrust investigations']},\n",
              " 40: {'Outcome': ['$ 26 billion settlement with drug companies'],\n",
              "  'Reason': ['opioid - crisis lawsuits',\n",
              "   'address an epidemic in painkiller addiction',\n",
              "   'allege drugmakers pushed their painkillers for uses far beyond what was medically necessary']},\n",
              " 41: {'Outcome': ['upheld a 50 million - euro fine ( $ 56 million ) imposed last year'],\n",
              "  'Reason': ['breaching european union online privacy rules']},\n",
              " 42: {'Outcome': [],\n",
              "  'Reason': ['scientific conclusions that humans are causing climate change',\n",
              "   'scientific conclusions that humans are causing climate change',\n",
              "   'accuses five major energy producers',\n",
              "   'misleading the public for years about their role in global warming']},\n",
              " 43: {'Outcome': [], 'Reason': []},\n",
              " 44: {'Outcome': [],\n",
              "  'Reason': ['accusing the oil company of hiding from investors the true cost of addressing climate change',\n",
              "   'alleges that exxon caused investors to lose up to $ 1 . 6 billion by falsely telling them it had properly evaluated the impact of future climate regulations on its business',\n",
              "   'assessment of the likely effect of future carbon regulations around the world on demand for fossil fuels',\n",
              "   'accusing exxon of misleading investors and consumers for decades about the role fossil fuels play in climate change']},\n",
              " 45: {'Outcome': [],\n",
              "  'Reason': ['keep net neutrality',\n",
              "   'keep net neutrality',\n",
              "   \"challenge the fcc ' s decision to do away with net neutrality\",\n",
              "   'keep net neutrality']},\n",
              " 46: {'Outcome': ['a u . s . judge on thursday ordered goldman sachs group inc ( n : ) , jpmorgan chase & co ( n : ) and four other large banks'],\n",
              "  'Reason': ['antitrust',\n",
              "   'conspiring since 2009 to keep the stock lending market']},\n",
              " 47: {'Outcome': ['an italian administrative court has ruled that it cannot hear a case over derivatives brought against morgan stanley'],\n",
              "  'Reason': ['for a total of 1 . 18 billion euros']},\n",
              " 48: {'Outcome': [],\n",
              "  'Reason': [\"demanding youtube take down trump ' s verified youtube channel , which has 2 . 76 million subscribers\",\n",
              "   \"the company removed new content uploaded to president donald trump ' s channel as it violated policies for inciting violence\"]},\n",
              " 49: {'Outcome': ['pay $ 6 million fine to settle sec charges',\n",
              "   'pay a $ 6 million fine',\n",
              "   'agreeing to the civil settlement',\n",
              "   'pay $ 6 million fine to settle sec charges'],\n",
              "  'Reason': ['failing to disclose the impact of sales practices it used to meet quarterly sales and earnings targets']},\n",
              " 50: {'Outcome': ['bid'],\n",
              "  'Reason': ['dispute with the tech giant for ending web - hosting services for the social network',\n",
              "   'accused amazon of ending service to the social - media platform for anticompetitive reasons',\n",
              "   'falsely attempting to make',\n",
              "   'for the enormous damage caused by amazon ’ s illegal actions']},\n",
              " 51: {'Outcome': [],\n",
              "  'Reason': ['knowingly contributing to what the city called the catastrophic consequences of climate change',\n",
              "   'attempting to hold oil and gas companies responsible for climate change caused by carbon emissions from burning fossil fuels',\n",
              "   'accuses oil and gas companies of knowing about a link between climate change and fossil fuel production for nearly 50 years , yet working to hide the dangers and protect their assets rather than minimize the damage']},\n",
              " 52: {'Outcome': [],\n",
              "  'Reason': ['alleges that ifinex manipulated the cryptocurrency market in 2017 by issuing unbacked tether ( usdt ) that was then sold for to increase its price']},\n",
              " 53: {'Outcome': ['$', '$'],\n",
              "  'Reason': [\"claim they developed ovarian cancer from using the company ' s talc products\",\n",
              "   'claim they developed ovarian cancer from using johnson & johnson talc products']},\n",
              " 54: {'Outcome': [],\n",
              "  'Reason': ['accused him of beating her',\n",
              "   'suing the tabloid \\' s publisher , news group newspapers , and its executive editor dan wootton for libel over an article wootton wrote in 2018 calling depp a \" wife beater \"',\n",
              "   'accused each other of physical abuse during their relationship']},\n",
              " 55: {'Outcome': ['illinois court finds abbvie liable for birth defects related to depakote , $ 15m in compensatory damages',\n",
              "   'illinois court finds abbvie liable for birth defects related to depakote , $ 15m in compensatory damages',\n",
              "   'awarded the plaintiff $ 15m in compensatory damages',\n",
              "   'the compensatory damages were $ 15m and the punitive damages were $ 23m',\n",
              "   'liable',\n",
              "   '$ 15m in compensatory damages'],\n",
              "  'Reason': ['related to depakote',\n",
              "   'related to depakote',\n",
              "   'depakote',\n",
              "   'caused birth defects when taken during pregnancy',\n",
              "   'liable for birth defects related to depakote']},\n",
              " 56: {'Outcome': [],\n",
              "  'Reason': [\"accusing him of stealing confidential details about the company ' s strategies and salary data for its employees before jumping to yogurt - making rival chobani llc\"]},\n",
              " 57: {'Outcome': [\"texas court strikes down treasury department ' s inversion law\",\n",
              "   \"texas court strikes down treasury department ' s inversion law\"],\n",
              "  'Reason': ['overstepped its authority when it cracked down on business inversions']},\n",
              " 58: {'Outcome': ['reached a $ 39 . 25 million class action settlement'],\n",
              "  'Reason': [\"downplayed the possible dangers associated with a product used to connect implantable defibrillators to patients ' hearts\",\n",
              "   'inflated its stock price by concealing risks']},\n",
              " 59: {'Outcome': ['settle legal disputes',\n",
              "   'expenses will be capped at a total of $ 4 billion',\n",
              "   'million',\n",
              "   'the companies agreed to settle the matters in the ohio multi - district pfoa litigation for $ 83 million'],\n",
              "  'Reason': []},\n",
              " 60: {'Outcome': ['dismissed a plea'],\n",
              "  'Reason': ['sought to restrain u . s . partner amazon . com inc ( nasdaq : ) from interfering in its $ 3 . 4 billion asset sale to reliance industries ltd']},\n",
              " 61: {'Outcome': [],\n",
              "  'Reason': ['calling him a \" pedo guy',\n",
              "   'rescue 12 boys and their soccer coach from a cave in thailand in july 2018']},\n",
              " 62: {'Outcome': [],\n",
              "  'Reason': [\"foreign manufacturers infringe schools ' patents\",\n",
              "   'accused of infringing four patents related to \" filament \" led light bulbs , which use 90 % less energy and last many years longer than traditional light bulbs']},\n",
              " 63: {'Outcome': [],\n",
              "  'Reason': [\"closing after big losses in last month ' s u . s . stock market plunge\",\n",
              "   'allegedly missed required margin payments',\n",
              "   \"after being required , in its role as clearing agent , to pay the chicago mercantile exchange more than $ 16 million to cover the firm ' s margin and losses\",\n",
              "   'failed to make contractually required margin payments to cover the losses']},\n",
              " 64: {'Outcome': [],\n",
              "  'Reason': ['blocking him out of their social media platforms']},\n",
              " 65: {'Outcome': ['pay $ 15 million', 'settlement'],\n",
              "  'Reason': ['conspired to rig prices of bonds issued by fannie mae ( pk : ) and freddie mac',\n",
              "   'exploiting their market dominance to overcharge for fannie mae and freddie mac bonds']},\n",
              " 66: {'Outcome': ['will offer to repurchase the customized sneakers from consumers'],\n",
              "  'Reason': []},\n",
              " 67: {'Outcome': [],\n",
              "  'Reason': ['use of the \" tick different \" slogan , which apple had decried as an infringement of its \" think different \" advertising campaign']},\n",
              " 68: {'Outcome': [],\n",
              "  'Reason': ['alleges google used its market power to fend off rivals , including through distribution agreements that gave its search engine prominent placement on phones and internet browsers']},\n",
              " 69: {'Outcome': [],\n",
              "  'Reason': ['fraudulently induced him to negotiate his exit from retrophin , only to then \" trick him \" into signing away his rights as chief executive and founder without receiving anything in return',\n",
              "   '\" paid themselves \" more than $ 35 million from assets he created',\n",
              "   'raising the price of the anti - parasitic drug',\n",
              "   \"defrauding investors in hedge funds he once ran , and conspiring to manipulate retrophin ' s stock price\"]},\n",
              " 70: {'Outcome': [],\n",
              "  'Reason': ['cuba confiscated from his grandfather after the 1959 revolution',\n",
              "   \"trafficking in stolen property for using havana ' s international airport\"]},\n",
              " 71: {'Outcome': [],\n",
              "  'Reason': [\"probe into whether google ' s business practices break antitrust law\"]},\n",
              " 72: {'Outcome': ['billion'],\n",
              "  'Reason': ['anticompetitive tactics in negotiations with customers',\n",
              "   'pursues a hostile takeover of qualcomm',\n",
              "   'a $ 103 billion deal',\n",
              "   'anticompetitive practices']},\n",
              " 73: {'Outcome': [],\n",
              "  'Reason': ['allegedly exploiting their dominance in restaurant meal deliveries to impose fees that consumers ultimately bear through higher menu prices',\n",
              "   'defendants violated u . s . antitrust law by requiring that restaurants charge delivery customers and dine - in customers the same price , while imposing \" exorbitant \" fees of 10 % to 40 % of revenue to process delivery orders']},\n",
              " 74: {'Outcome': [], 'Reason': ['a multi - billion lawsuit']},\n",
              " 75: {'Outcome': [],\n",
              "  'Reason': ['accusing the company of unlawfully firing four employees to deter workers from engaging in union activities',\n",
              "   'engaging in protected concerted and union activities',\n",
              "   \"violating the company ' s data - security policies\"]},\n",
              " 76: {'Outcome': [],\n",
              "  'Reason': ['purported to contain a drop of human blood',\n",
              "   'infringed on and diluted its trademark']},\n",
              " 77: {'Outcome': [],\n",
              "  'Reason': ['alleging the tie - up would lead to higher prices and reduced innovation for u . s . businesses , employers and unions that rely on their services']},\n",
              " 78: {'Outcome': [],\n",
              "  'Reason': ['antitrust lawsuit against alphabet',\n",
              "   'accusing it of breaking antitrust law in how it dominates all steps in placing digital advertising']},\n",
              " 79: {'Outcome': [], 'Reason': ['preventing [ the digital asset']},\n",
              " 80: {'Outcome': [],\n",
              "  'Reason': ['accused the company of fraudulently concealing security vulnerabilities',\n",
              "   'concealed the exposure of private data for nearly 500 , 000 google + users because it feared regulatory scrutiny and reputational harm']},\n",
              " 81: {'Outcome': ['sided', 'antitrust law', '##ing'],\n",
              "  'Reason': ['policy of forbidding merchants from encouraging customers to use rival credit cards with lower fees',\n",
              "   'anti - steering provisions in its contracts with merchants']},\n",
              " 82: {'Outcome': [],\n",
              "  'Reason': ['block at & t ( nyse : ) inc \\' s proposed $ 85 billion merger with time warner inc ( nyse : ) , saying the deal would hand the company a \" weapon \" to harm competition and raise consumer prices',\n",
              "   'hike prices by more than $ 400 million annually , or an average of $ 0 . 45 a month for pay tv subscribers . conrath said at & t would be able to use content from movie and tv show maker time warner including its turner unit to prevent innovation . the merger will hurt 90 million u . s . pay tv subscribers',\n",
              "   'hike fees that turner charges for its content by about 10 percent if the merger were approved and that the company could withhold content from rival distributors']},\n",
              " 83: {'Outcome': [],\n",
              "  'Reason': [\"abused its android operating system ' s position in the smart television market\",\n",
              "   'antitrust challenges',\n",
              "   'how it allegedly uses its dominance of its android mobile operating system to stifle competition',\n",
              "   'allegations that google engages in anti - competitive practices']},\n",
              " 84: {'Outcome': ['dismissed'],\n",
              "  'Reason': ['accused facebook of breaking antitrust law to keep smaller competitors at bay by snapping up rivals']},\n",
              " 85: {'Outcome': [],\n",
              "  'Reason': ['accuse google',\n",
              "   \"looking to disadvantage rivals such as microsoft ( nasdaq : ) ' s bing by depriving them of the data about users and user preferences that they need to improve and to advertise to people\"]},\n",
              " 86: {'Outcome': [],\n",
              "  'Reason': [\"the company ' s $ 85 billion acquisition of time warner inc ( nyse : ) would harm consumers and competitors\",\n",
              "   'from buying movie and tv show maker time warner , which owns hbo and cnn']},\n",
              " 87: {'Outcome': [],\n",
              "  'Reason': ['engaging in what it said was a \" blacklisting campaign \"',\n",
              "   'aimed to deprive the nra of its right to \" speak freely about gun - related issues and defend the second amendment',\n",
              "   '\" unlawfully provided liability insurance to gun owners for acts of intentional wrongdoing',\n",
              "   'coerce banks and insurance companies']},\n",
              " 88: {'Outcome': [],\n",
              "  'Reason': ['accused immunex of impermissibly extending the life of its monopoly on enbrel']},\n",
              " 89: {'Outcome': [],\n",
              "  'Reason': [\"alleging banks ' collusion in mexico bond market\",\n",
              "   'alleging they conspired to fix prices',\n",
              "   'possible breaches of competition laws in the public debt market',\n",
              "   \"allege that they overpaid as a result of the banks ' pricing scheme\",\n",
              "   'allege that prices for the bonds']},\n",
              " 90: {'Outcome': ['pay $ 57 million to international business machines corp ( n : )'],\n",
              "  'Reason': ['used ibmis patented e - commerce technology without authorization']},\n",
              " 91: {'Outcome': [],\n",
              "  'Reason': ['11 lawsuits that accuse the movie producer of sexually harassing or assaulting women over the past three decades']},\n",
              " 92: {'Outcome': ['dismissed antitrust lawsuits against facebook inc . filed by the u . s . government and most states',\n",
              "   'granted',\n",
              "   'lawsuits',\n",
              "   'the judge dismissed the case brought by 46 states in its entirety on the grounds that the attorneys general waited too long to bring their claims'],\n",
              "  'Reason': ['monopolization claims']},\n",
              " 93: {'Outcome': [],\n",
              "  'Reason': ['alleged human rights abuses',\n",
              "   'accused of knowingly helping perpetuate slavery at ivory coast cocoa farms',\n",
              "   \"lawsuits targeted the u . s . subsidiary of swiss - based nestle , the world ' s biggest food producer , and commodities trader cargill , the largest privately held u . s . company\",\n",
              "   'accused the companies of aiding and abetting human rights violations',\n",
              "   'allegations that the companies provided \" personal spending money \" to local farmers to guarantee the cheapest source of cocoa']},\n",
              " 94: {'Outcome': [],\n",
              "  'Reason': ['copyright infringement',\n",
              "   'essentially audible wants to provide the text as well as the sound of books without the authorization of copyright holders , despite only having the right to sell audiobooks']},\n",
              " 95: {'Outcome': ['pay $ 30 million'],\n",
              "  'Reason': ['emergency allergy shot epipen',\n",
              "   'claims that mylan avoided higher rebates to state medicaid programs by misclassifying epipen as a generic product']},\n",
              " 96: {'Outcome': [],\n",
              "  'Reason': [\"alleged product disparagement in connection with the coffee company ' s recent u . s . and canadian recall of 263 , 200 co - branded french presses made from recycled materials\",\n",
              "   '\" significant brand damage \"',\n",
              "   'recall']},\n",
              " 97: {'Outcome': ['agreement to pay $ 2 . 9 billion in penalties'],\n",
              "  'Reason': ['looted some of the money to spend on luxuries and the financing of hollywood films']},\n",
              " 98: {'Outcome': ['agreed on tuesday to pay $ 110 million to resolve allegations by two u . s . regulators',\n",
              "   'half the $ 110 million fine'],\n",
              "  'Reason': ['foreign exchange traders shared information about investment positions',\n",
              "   \"failed to detect and address its traders ' use of electronic chatrooms to communicate with competitors about trading positions\"]},\n",
              " 99: {'Outcome': [],\n",
              "  'Reason': ['undermining its effort to fight the coronavirus by refusing to help make its iphones more compatible with a planned \" stopcovid \" contact - tracing app']},\n",
              " 100: {'Outcome': [],\n",
              "  'Reason': ['alleging the online retailer broke antitrust law by requiring that third - party sellers not offer better deals for their products elsewhere',\n",
              "   'alleged abuses of their outsized market power',\n",
              "   'antitrust law']}}"
            ]
          },
          "metadata": {},
          "execution_count": 35
        }
      ],
      "source": [
        "type_diction = {\n",
        "    'Reason':[[1, 0], [0, 2]],\n",
        "    'Outcome':[[1, 1], [1, 3]]\n",
        "    }\n",
        "\n",
        "model_algo_results = {}\n",
        "\n",
        "name_diction = []\n",
        "\n",
        "identified_texts = {}\n",
        "\n",
        "individuals = copy.copy(predictions_1)\n",
        "start_stops = copy.copy(_pred_)\n",
        "\n",
        "for key in type_diction.keys():\n",
        "  for i in range(len(predictions_1)):\n",
        "    individual = individuals[i]\n",
        "    start_stop = start_stops[i]\n",
        "\n",
        "    short, binary_vals = shortlist_individual_argmax(individual[:, 1], type_diction[key][0][1], 0.5, 3)\n",
        "    \n",
        "    values = short*start_stop[type_diction[key][1][0], :]\n",
        "    values_finish = short*start_stop[type_diction[key][1][1], :]\n",
        "\n",
        "    texts, _class_ = evaluate_phrases(X_test['input_ids'][i], values, values_finish, binary_vals, 0.5)\n",
        "\n",
        "    _class_ = _class_[X_test['input_ids'][i] != 0]\n",
        "    tester = y_test[i, :, 1, type_diction[key][0][1]]\n",
        "    tester = tester[X_test['input_ids'][i] != 0]\n",
        "\n",
        "    if key not in model_algo_results:\n",
        "      model_algo_results[key] = {'Pred':[],\n",
        "                                 'Actual':[]}\n",
        "    model_algo_results[key]['Actual'] += _class_.tolist()\n",
        "    model_algo_results[key]['Pred'] += tester.tolist()\n",
        "    \n",
        "\n",
        "    if i not in identified_texts:\n",
        "      identified_texts[i] = {}\n",
        "    \n",
        "    identified_texts[i][key] = texts\n",
        "\n",
        "identified_texts\n"
      ]
    },
    {
      "cell_type": "code",
      "execution_count": null,
      "metadata": {
        "id": "rI0RDWukrfcg",
        "colab": {
          "base_uri": "https://localhost:8080/"
        },
        "outputId": "c56108b8-2131-468e-e3f3-efe300137a5c"
      },
      "outputs": [
        {
          "output_type": "execute_result",
          "data": {
            "text/plain": [
              "[]"
            ]
          },
          "metadata": {},
          "execution_count": 36
        }
      ],
      "source": [
        "num = 43\n",
        "output = get_entities_argmax_altered(X_test['input_ids'][num], predictions_1[num, :, 0, :], 0.5)\n",
        "output"
      ]
    },
    {
      "cell_type": "code",
      "execution_count": null,
      "metadata": {
        "id": "PitZQsbZxptz",
        "colab": {
          "base_uri": "https://localhost:8080/"
        },
        "outputId": "ddd83e71-9239-4da1-f0ae-0f932c9c17c7"
      },
      "outputs": [
        {
          "output_type": "execute_result",
          "data": {
            "text/plain": [
              "[['Plantiff', 'government'],\n",
              " ['Plantiff', 'hong kong'],\n",
              " ['Plantiff', 'hong kong'],\n",
              " ['Plantiff', 'hong kong'],\n",
              " ['Defendant', 'tong ying - kit'],\n",
              " ['Plantiff', 'hong kong'],\n",
              " ['Plantiff', 'hong kong'],\n",
              " ['Defendant', 'tong'],\n",
              " ['Plantiff', 'government'],\n",
              " ['Plantiff', 'hong kong'],\n",
              " ['Defendant', 'tong'],\n",
              " ['Plantiff', 'hong kong'],\n",
              " ['Plantiff', 'government'],\n",
              " ['Plantiff', 'government']]"
            ]
          },
          "metadata": {},
          "execution_count": 37
        }
      ],
      "source": [
        "test_output = get_entities_argmax_altered(X_test['input_ids'][num], y_test[num, :, 0, :], 0.5)\n",
        "test_output"
      ]
    },
    {
      "cell_type": "code",
      "source": [
        "import pdb\n",
        "def exact_match_check(y_pred, y_true):\n",
        "  \n",
        "  starter = False\n",
        "  last_pred = False\n",
        "  last_true = False\n",
        "  outcome = []\n",
        "  \n",
        "  for i in range(len(y_pred)):\n",
        "    if y_pred[i] == 1:\n",
        "      pred_check = True\n",
        "    else:\n",
        "      pred_check = False\n",
        "    \n",
        "    if y_true[i] == 1:\n",
        "      true_check = True\n",
        "    else:\n",
        "      true_check = False\n",
        "    \n",
        "    if true_check == True:\n",
        "      if true_check != last_true:\n",
        "        if pred_check != last_pred:\n",
        "          if pred_check == True:\n",
        "            checking = True\n",
        "          else:\n",
        "            checking = False\n",
        "        else:\n",
        "          checking = False\n",
        "    \n",
        "    if true_check == False:\n",
        "      if true_check != last_true:\n",
        "        if pred_check != last_pred:\n",
        "          if pred_check == False:\n",
        "            outcome.append(1)\n",
        "          else:\n",
        "            outcome.append(0)\n",
        "        else:\n",
        "          outcome.append(0)\n",
        "    \n",
        "\n",
        "    last_pred = pred_check\n",
        "    last_true = true_check\n",
        "  \n",
        "  return np.array(outcome).sum()/len(outcome)\n",
        "\n",
        "def partial_match_check(y_pred, y_true):\n",
        "  \n",
        "  starter = False\n",
        "  open = False\n",
        "  outcome = []\n",
        "  \n",
        "  for i in range(len(y_pred)):\n",
        "    if y_pred[i] == 1:\n",
        "      pred_check = True\n",
        "    else:\n",
        "      pred_check = False\n",
        "    \n",
        "    if y_true[i] == 1:\n",
        "      true_check = True\n",
        "    else:\n",
        "      true_check = False\n",
        "    \n",
        "    if true_check == True:\n",
        "      if open == False:\n",
        "        open = True\n",
        "        partial = False\n",
        "    else:\n",
        "      if open == True:\n",
        "        if partial == True:\n",
        "          outcome.append(1)\n",
        "        else:\n",
        "          outcome.append(0)\n",
        "      open = False\n",
        "    \n",
        "    if open == True:\n",
        "      if pred_check == True:\n",
        "        partial = True\n",
        "    \n",
        "    last_pred = pred_check\n",
        "    last_true = true_check\n",
        "  \n",
        "  return np.array(outcome).sum()/len(outcome)"
      ],
      "metadata": {
        "id": "NARJ3gRnsZ8v"
      },
      "execution_count": null,
      "outputs": []
    },
    {
      "cell_type": "code",
      "execution_count": null,
      "metadata": {
        "id": "NTou7jYMXp-_"
      },
      "outputs": [],
      "source": [
        "\n",
        "entity_diction = {\n",
        "    \"Plantiff\":0,\n",
        "    \"Defendant\":1,\n",
        "    \"No-Tag\":2\n",
        "}\n",
        "\n",
        "\n",
        "metrics = {\n",
        "    \n",
        "}\n",
        "\n",
        "\n",
        "predictions = model.predict(X_test)\n",
        "\n",
        "for i in range(len(predictions)):\n",
        "  for n in range(len(predictions[i])):\n",
        "    for m in range(len(predictions[i][n])):\n",
        "        new_z = predictions[i][n][m].argmax()\n",
        "        zeros = np.zeros(len(predictions[i][n][m]))\n",
        "        arg = predictions[i][n][m].argmax()\n",
        "        zeros[arg] = 1\n",
        "        predictions[i][n][m] = zeros\n",
        "\n",
        "predictions = predictions[:, :, 0, :]\n",
        "y_tester = y_test[:,:, 0, :]\n",
        "\n",
        "for key in entity_diction.keys():\n",
        "  val = entity_diction[key]\n",
        "  metrics[key] = {'Pred':[],\n",
        "                  'Actual':[]\n",
        "                  }\n",
        "  for i in range(len(X_test['input_ids'])):\n",
        "    for n in range(len(X_test['input_ids'][i])):\n",
        "        mask = X_test['attention_mask'][i][n]\n",
        "        if mask == 1:\n",
        "            pred = predictions[i][n][val]\n",
        "            if ~np.isinf(pred):\n",
        "              if ~np.isnan(pred):\n",
        "                metrics[key]['Pred'].append(pred)\n",
        "                metrics[key]['Actual'].append(y_tester[i][n][val])\n"
      ]
    },
    {
      "cell_type": "code",
      "execution_count": null,
      "metadata": {
        "id": "-VpHRitSXyMQ"
      },
      "outputs": [],
      "source": [
        "from sklearn.metrics import accuracy_score, precision_score, recall_score, f1_score, confusion_matrix\n",
        "\n",
        "outputer = {'Label':[],\n",
        "            'Accuracy':[],\n",
        "            'Precision':[],\n",
        "            'Recall':[],\n",
        "            'F1 Score':[],\n",
        "            'Exact_Match_Precision':[],\n",
        "            'Exact_Match_Recall':[],\n",
        "            'Partial_Match_Precision':[],\n",
        "            'Partial_Match_Recall':[]\n",
        "            }\n",
        "\n",
        "confusion_matrixs = {}\n",
        "\n",
        "for key in metrics.keys():\n",
        "    outputer['Label'].append(key)\n",
        "    outputer['Accuracy'].append(accuracy_score(metrics[key]['Actual'], metrics[key]['Pred']))\n",
        "    outputer['Precision'].append(precision_score(metrics[key]['Actual'], metrics[key]['Pred']))\n",
        "    outputer['Recall'].append(recall_score(metrics[key]['Actual'], metrics[key]['Pred']))\n",
        "    outputer['F1 Score'].append(f1_score(metrics[key]['Actual'], metrics[key]['Pred']))\n",
        "    outputer['Exact_Match_Precision'].append(exact_match_check(metrics[key]['Actual'], metrics[key]['Pred']))\n",
        "    outputer['Exact_Match_Recall'].append(exact_match_check(metrics[key]['Pred'], metrics[key]['Actual']))\n",
        "    outputer['Partial_Match_Precision'].append(partial_match_check(metrics[key]['Actual'], metrics[key]['Pred']))\n",
        "    outputer['Partial_Match_Recall'].append(partial_match_check(metrics[key]['Pred'], metrics[key]['Actual']))\n",
        "    confusion_matrixs[key] = confusion_matrix(metrics[key]['Actual'], metrics[key]['Pred'])"
      ]
    },
    {
      "cell_type": "code",
      "execution_count": null,
      "metadata": {
        "id": "oh_qb8hjqhpn",
        "colab": {
          "base_uri": "https://localhost:8080/"
        },
        "outputId": "95f62213-f769-4875-867b-fb027d605e00"
      },
      "outputs": [
        {
          "output_type": "execute_result",
          "data": {
            "text/html": [
              "\n",
              "  <div id=\"df-3398780c-f623-49d7-b4f2-79f5a0ace057\">\n",
              "    <div class=\"colab-df-container\">\n",
              "      <div>\n",
              "<style scoped>\n",
              "    .dataframe tbody tr th:only-of-type {\n",
              "        vertical-align: middle;\n",
              "    }\n",
              "\n",
              "    .dataframe tbody tr th {\n",
              "        vertical-align: top;\n",
              "    }\n",
              "\n",
              "    .dataframe thead th {\n",
              "        text-align: right;\n",
              "    }\n",
              "</style>\n",
              "<table border=\"1\" class=\"dataframe\">\n",
              "  <thead>\n",
              "    <tr style=\"text-align: right;\">\n",
              "      <th></th>\n",
              "      <th>Label</th>\n",
              "      <th>Accuracy</th>\n",
              "      <th>Precision</th>\n",
              "      <th>Recall</th>\n",
              "      <th>F1 Score</th>\n",
              "      <th>Exact_Match_Precision</th>\n",
              "      <th>Exact_Match_Recall</th>\n",
              "      <th>Partial_Match_Precision</th>\n",
              "      <th>Partial_Match_Recall</th>\n",
              "    </tr>\n",
              "  </thead>\n",
              "  <tbody>\n",
              "    <tr>\n",
              "      <th>0</th>\n",
              "      <td>Plantiff</td>\n",
              "      <td>0.971661</td>\n",
              "      <td>0.588406</td>\n",
              "      <td>0.323506</td>\n",
              "      <td>0.417481</td>\n",
              "      <td>0.350820</td>\n",
              "      <td>0.278646</td>\n",
              "      <td>0.508197</td>\n",
              "      <td>0.369792</td>\n",
              "    </tr>\n",
              "    <tr>\n",
              "      <th>1</th>\n",
              "      <td>Defendant</td>\n",
              "      <td>0.970510</td>\n",
              "      <td>0.611111</td>\n",
              "      <td>0.818940</td>\n",
              "      <td>0.699924</td>\n",
              "      <td>0.516185</td>\n",
              "      <td>0.825175</td>\n",
              "      <td>0.587052</td>\n",
              "      <td>0.916084</td>\n",
              "    </tr>\n",
              "    <tr>\n",
              "      <th>2</th>\n",
              "      <td>No-Tag</td>\n",
              "      <td>0.960530</td>\n",
              "      <td>0.978915</td>\n",
              "      <td>0.978492</td>\n",
              "      <td>0.978703</td>\n",
              "      <td>0.621168</td>\n",
              "      <td>0.777879</td>\n",
              "      <td>0.972993</td>\n",
              "      <td>0.995430</td>\n",
              "    </tr>\n",
              "  </tbody>\n",
              "</table>\n",
              "</div>\n",
              "      <button class=\"colab-df-convert\" onclick=\"convertToInteractive('df-3398780c-f623-49d7-b4f2-79f5a0ace057')\"\n",
              "              title=\"Convert this dataframe to an interactive table.\"\n",
              "              style=\"display:none;\">\n",
              "        \n",
              "  <svg xmlns=\"http://www.w3.org/2000/svg\" height=\"24px\"viewBox=\"0 0 24 24\"\n",
              "       width=\"24px\">\n",
              "    <path d=\"M0 0h24v24H0V0z\" fill=\"none\"/>\n",
              "    <path d=\"M18.56 5.44l.94 2.06.94-2.06 2.06-.94-2.06-.94-.94-2.06-.94 2.06-2.06.94zm-11 1L8.5 8.5l.94-2.06 2.06-.94-2.06-.94L8.5 2.5l-.94 2.06-2.06.94zm10 10l.94 2.06.94-2.06 2.06-.94-2.06-.94-.94-2.06-.94 2.06-2.06.94z\"/><path d=\"M17.41 7.96l-1.37-1.37c-.4-.4-.92-.59-1.43-.59-.52 0-1.04.2-1.43.59L10.3 9.45l-7.72 7.72c-.78.78-.78 2.05 0 2.83L4 21.41c.39.39.9.59 1.41.59.51 0 1.02-.2 1.41-.59l7.78-7.78 2.81-2.81c.8-.78.8-2.07 0-2.86zM5.41 20L4 18.59l7.72-7.72 1.47 1.35L5.41 20z\"/>\n",
              "  </svg>\n",
              "      </button>\n",
              "      \n",
              "  <style>\n",
              "    .colab-df-container {\n",
              "      display:flex;\n",
              "      flex-wrap:wrap;\n",
              "      gap: 12px;\n",
              "    }\n",
              "\n",
              "    .colab-df-convert {\n",
              "      background-color: #E8F0FE;\n",
              "      border: none;\n",
              "      border-radius: 50%;\n",
              "      cursor: pointer;\n",
              "      display: none;\n",
              "      fill: #1967D2;\n",
              "      height: 32px;\n",
              "      padding: 0 0 0 0;\n",
              "      width: 32px;\n",
              "    }\n",
              "\n",
              "    .colab-df-convert:hover {\n",
              "      background-color: #E2EBFA;\n",
              "      box-shadow: 0px 1px 2px rgba(60, 64, 67, 0.3), 0px 1px 3px 1px rgba(60, 64, 67, 0.15);\n",
              "      fill: #174EA6;\n",
              "    }\n",
              "\n",
              "    [theme=dark] .colab-df-convert {\n",
              "      background-color: #3B4455;\n",
              "      fill: #D2E3FC;\n",
              "    }\n",
              "\n",
              "    [theme=dark] .colab-df-convert:hover {\n",
              "      background-color: #434B5C;\n",
              "      box-shadow: 0px 1px 3px 1px rgba(0, 0, 0, 0.15);\n",
              "      filter: drop-shadow(0px 1px 2px rgba(0, 0, 0, 0.3));\n",
              "      fill: #FFFFFF;\n",
              "    }\n",
              "  </style>\n",
              "\n",
              "      <script>\n",
              "        const buttonEl =\n",
              "          document.querySelector('#df-3398780c-f623-49d7-b4f2-79f5a0ace057 button.colab-df-convert');\n",
              "        buttonEl.style.display =\n",
              "          google.colab.kernel.accessAllowed ? 'block' : 'none';\n",
              "\n",
              "        async function convertToInteractive(key) {\n",
              "          const element = document.querySelector('#df-3398780c-f623-49d7-b4f2-79f5a0ace057');\n",
              "          const dataTable =\n",
              "            await google.colab.kernel.invokeFunction('convertToInteractive',\n",
              "                                                     [key], {});\n",
              "          if (!dataTable) return;\n",
              "\n",
              "          const docLinkHtml = 'Like what you see? Visit the ' +\n",
              "            '<a target=\"_blank\" href=https://colab.research.google.com/notebooks/data_table.ipynb>data table notebook</a>'\n",
              "            + ' to learn more about interactive tables.';\n",
              "          element.innerHTML = '';\n",
              "          dataTable['output_type'] = 'display_data';\n",
              "          await google.colab.output.renderOutput(dataTable, element);\n",
              "          const docLink = document.createElement('div');\n",
              "          docLink.innerHTML = docLinkHtml;\n",
              "          element.appendChild(docLink);\n",
              "        }\n",
              "      </script>\n",
              "    </div>\n",
              "  </div>\n",
              "  "
            ],
            "text/plain": [
              "       Label  Accuracy  ...  Partial_Match_Precision  Partial_Match_Recall\n",
              "0   Plantiff  0.971661  ...                 0.508197              0.369792\n",
              "1  Defendant  0.970510  ...                 0.587052              0.916084\n",
              "2     No-Tag  0.960530  ...                 0.972993              0.995430\n",
              "\n",
              "[3 rows x 9 columns]"
            ]
          },
          "metadata": {},
          "execution_count": 41
        }
      ],
      "source": [
        "import pandas as pd\n",
        "df = pd.DataFrame(outputer, columns=['Label', 'Accuracy','Precision', 'Recall', 'F1 Score', 'Exact_Match_Precision', 'Exact_Match_Recall', 'Partial_Match_Precision', 'Partial_Match_Recall'])\n",
        "df"
      ]
    },
    {
      "cell_type": "code",
      "execution_count": null,
      "metadata": {
        "id": "eNABVmFpqiyd",
        "colab": {
          "base_uri": "https://localhost:8080/"
        },
        "outputId": "b61e793f-ca91-4989-95aa-221291a3cda4"
      },
      "outputs": [
        {
          "output_type": "stream",
          "name": "stdout",
          "text": [
            "Plantiff\n",
            "[[38441   284]\n",
            " [  849   406]]\n",
            "Defendant\n",
            "[[37426   875]\n",
            " [  304  1375]]\n",
            "No-Tag\n",
            "[[ 2143   781]\n",
            " [  797 36259]]\n"
          ]
        }
      ],
      "source": [
        "for key in confusion_matrixs.keys():\n",
        "  print(key)\n",
        "  print(confusion_matrixs[key])"
      ]
    },
    {
      "cell_type": "code",
      "execution_count": null,
      "metadata": {
        "id": "3dhBnrtiq4BD"
      },
      "outputs": [],
      "source": [
        "\n",
        "entity_diction = {\n",
        "    \"Reason\":0,\n",
        "    \"Outcome\":1,\n",
        "    \"No-Tag\":2\n",
        "}\n",
        "\n",
        "\n",
        "metrics = {\n",
        "    \n",
        "}\n",
        "\n",
        "\n",
        "predictions = model.predict(X_test)\n",
        "\n",
        "for i in range(len(predictions)):\n",
        "  for n in range(len(predictions[i])):\n",
        "    for m in range(len(predictions[i][n])):\n",
        "        new_z = predictions[i][n][m].argmax()\n",
        "        zeros = np.zeros(len(predictions[i][n][m]))\n",
        "        arg = predictions[i][n][m].argmax()\n",
        "        zeros[arg] = 1\n",
        "        predictions[i][n][m] = zeros\n",
        "\n",
        "predictions = predictions[:, :, 1, :]\n",
        "y_tester = y_test[:,:, 1, :]\n",
        "\n",
        "for key in entity_diction.keys():\n",
        "  val = entity_diction[key]\n",
        "  metrics[key] = {'Pred':[],\n",
        "                  'Actual':[]\n",
        "                  }\n",
        "  for i in range(len(X_test['input_ids'])):\n",
        "    for n in range(len(X_test['input_ids'][i])):\n",
        "        mask = X_test['attention_mask'][i][n]\n",
        "        if mask == 1:\n",
        "            pred = predictions[i][n][val]\n",
        "            if ~np.isinf(pred):\n",
        "              if ~np.isnan(pred):\n",
        "                metrics[key]['Pred'].append(pred)\n",
        "                metrics[key]['Actual'].append(y_tester[i][n][val])\n"
      ]
    },
    {
      "cell_type": "code",
      "execution_count": null,
      "metadata": {
        "id": "XyHyXCturCz6"
      },
      "outputs": [],
      "source": [
        "from sklearn.metrics import accuracy_score, precision_score, recall_score, f1_score, confusion_matrix\n",
        "\n",
        "outputer = {'Label':[],\n",
        "            'Accuracy':[],\n",
        "            'Precision':[],\n",
        "            'Recall':[],\n",
        "            'F1 Score':[],\n",
        "            'Exact_Match_Precision':[],\n",
        "            'Exact_Match_Recall':[],\n",
        "            'Partial_Match_Precision':[],\n",
        "            'Partial_Match_Recall':[]\n",
        "            }\n",
        "\n",
        "confusion_matrixs = {}\n",
        "\n",
        "for key in metrics.keys():\n",
        "    outputer['Label'].append(key)\n",
        "    outputer['Accuracy'].append(accuracy_score(metrics[key]['Actual'], metrics[key]['Pred']))\n",
        "    outputer['Precision'].append(precision_score(metrics[key]['Actual'], metrics[key]['Pred']))\n",
        "    outputer['Recall'].append(recall_score(metrics[key]['Actual'], metrics[key]['Pred']))\n",
        "    outputer['F1 Score'].append(f1_score(metrics[key]['Actual'], metrics[key]['Pred']))\n",
        "    outputer['Exact_Match_Precision'].append(exact_match_check(metrics[key]['Actual'], metrics[key]['Pred']))\n",
        "    outputer['Exact_Match_Recall'].append(exact_match_check(metrics[key]['Pred'], metrics[key]['Actual']))\n",
        "    outputer['Partial_Match_Precision'].append(partial_match_check(metrics[key]['Actual'], metrics[key]['Pred']))\n",
        "    outputer['Partial_Match_Recall'].append(partial_match_check(metrics[key]['Pred'], metrics[key]['Actual']))\n",
        "    confusion_matrixs[key] = confusion_matrix(metrics[key]['Actual'], metrics[key]['Pred'])"
      ]
    },
    {
      "cell_type": "code",
      "execution_count": null,
      "metadata": {
        "id": "mGpBTFz8rJe7",
        "colab": {
          "base_uri": "https://localhost:8080/"
        },
        "outputId": "dbdffcb9-51f4-43d3-e1c2-0cce441941ae"
      },
      "outputs": [
        {
          "output_type": "execute_result",
          "data": {
            "text/html": [
              "\n",
              "  <div id=\"df-ec5f0f87-3180-42f8-8613-8cd68684afe6\">\n",
              "    <div class=\"colab-df-container\">\n",
              "      <div>\n",
              "<style scoped>\n",
              "    .dataframe tbody tr th:only-of-type {\n",
              "        vertical-align: middle;\n",
              "    }\n",
              "\n",
              "    .dataframe tbody tr th {\n",
              "        vertical-align: top;\n",
              "    }\n",
              "\n",
              "    .dataframe thead th {\n",
              "        text-align: right;\n",
              "    }\n",
              "</style>\n",
              "<table border=\"1\" class=\"dataframe\">\n",
              "  <thead>\n",
              "    <tr style=\"text-align: right;\">\n",
              "      <th></th>\n",
              "      <th>Label</th>\n",
              "      <th>Accuracy</th>\n",
              "      <th>Precision</th>\n",
              "      <th>Recall</th>\n",
              "      <th>F1 Score</th>\n",
              "      <th>Exact_Match_Precision</th>\n",
              "      <th>Exact_Match_Recall</th>\n",
              "      <th>Partial_Match_Precision</th>\n",
              "      <th>Partial_Match_Recall</th>\n",
              "    </tr>\n",
              "  </thead>\n",
              "  <tbody>\n",
              "    <tr>\n",
              "      <th>0</th>\n",
              "      <td>Reason</td>\n",
              "      <td>0.909455</td>\n",
              "      <td>0.573416</td>\n",
              "      <td>0.531265</td>\n",
              "      <td>0.551536</td>\n",
              "      <td>0.212903</td>\n",
              "      <td>0.430435</td>\n",
              "      <td>0.486022</td>\n",
              "      <td>0.665217</td>\n",
              "    </tr>\n",
              "    <tr>\n",
              "      <th>1</th>\n",
              "      <td>Outcome</td>\n",
              "      <td>0.959855</td>\n",
              "      <td>0.444912</td>\n",
              "      <td>0.358887</td>\n",
              "      <td>0.397296</td>\n",
              "      <td>0.050980</td>\n",
              "      <td>0.171053</td>\n",
              "      <td>0.396078</td>\n",
              "      <td>0.710526</td>\n",
              "    </tr>\n",
              "    <tr>\n",
              "      <th>2</th>\n",
              "      <td>No-Tag</td>\n",
              "      <td>0.879915</td>\n",
              "      <td>0.924060</td>\n",
              "      <td>0.937515</td>\n",
              "      <td>0.930738</td>\n",
              "      <td>0.078550</td>\n",
              "      <td>0.176271</td>\n",
              "      <td>0.782477</td>\n",
              "      <td>0.942373</td>\n",
              "    </tr>\n",
              "  </tbody>\n",
              "</table>\n",
              "</div>\n",
              "      <button class=\"colab-df-convert\" onclick=\"convertToInteractive('df-ec5f0f87-3180-42f8-8613-8cd68684afe6')\"\n",
              "              title=\"Convert this dataframe to an interactive table.\"\n",
              "              style=\"display:none;\">\n",
              "        \n",
              "  <svg xmlns=\"http://www.w3.org/2000/svg\" height=\"24px\"viewBox=\"0 0 24 24\"\n",
              "       width=\"24px\">\n",
              "    <path d=\"M0 0h24v24H0V0z\" fill=\"none\"/>\n",
              "    <path d=\"M18.56 5.44l.94 2.06.94-2.06 2.06-.94-2.06-.94-.94-2.06-.94 2.06-2.06.94zm-11 1L8.5 8.5l.94-2.06 2.06-.94-2.06-.94L8.5 2.5l-.94 2.06-2.06.94zm10 10l.94 2.06.94-2.06 2.06-.94-2.06-.94-.94-2.06-.94 2.06-2.06.94z\"/><path d=\"M17.41 7.96l-1.37-1.37c-.4-.4-.92-.59-1.43-.59-.52 0-1.04.2-1.43.59L10.3 9.45l-7.72 7.72c-.78.78-.78 2.05 0 2.83L4 21.41c.39.39.9.59 1.41.59.51 0 1.02-.2 1.41-.59l7.78-7.78 2.81-2.81c.8-.78.8-2.07 0-2.86zM5.41 20L4 18.59l7.72-7.72 1.47 1.35L5.41 20z\"/>\n",
              "  </svg>\n",
              "      </button>\n",
              "      \n",
              "  <style>\n",
              "    .colab-df-container {\n",
              "      display:flex;\n",
              "      flex-wrap:wrap;\n",
              "      gap: 12px;\n",
              "    }\n",
              "\n",
              "    .colab-df-convert {\n",
              "      background-color: #E8F0FE;\n",
              "      border: none;\n",
              "      border-radius: 50%;\n",
              "      cursor: pointer;\n",
              "      display: none;\n",
              "      fill: #1967D2;\n",
              "      height: 32px;\n",
              "      padding: 0 0 0 0;\n",
              "      width: 32px;\n",
              "    }\n",
              "\n",
              "    .colab-df-convert:hover {\n",
              "      background-color: #E2EBFA;\n",
              "      box-shadow: 0px 1px 2px rgba(60, 64, 67, 0.3), 0px 1px 3px 1px rgba(60, 64, 67, 0.15);\n",
              "      fill: #174EA6;\n",
              "    }\n",
              "\n",
              "    [theme=dark] .colab-df-convert {\n",
              "      background-color: #3B4455;\n",
              "      fill: #D2E3FC;\n",
              "    }\n",
              "\n",
              "    [theme=dark] .colab-df-convert:hover {\n",
              "      background-color: #434B5C;\n",
              "      box-shadow: 0px 1px 3px 1px rgba(0, 0, 0, 0.15);\n",
              "      filter: drop-shadow(0px 1px 2px rgba(0, 0, 0, 0.3));\n",
              "      fill: #FFFFFF;\n",
              "    }\n",
              "  </style>\n",
              "\n",
              "      <script>\n",
              "        const buttonEl =\n",
              "          document.querySelector('#df-ec5f0f87-3180-42f8-8613-8cd68684afe6 button.colab-df-convert');\n",
              "        buttonEl.style.display =\n",
              "          google.colab.kernel.accessAllowed ? 'block' : 'none';\n",
              "\n",
              "        async function convertToInteractive(key) {\n",
              "          const element = document.querySelector('#df-ec5f0f87-3180-42f8-8613-8cd68684afe6');\n",
              "          const dataTable =\n",
              "            await google.colab.kernel.invokeFunction('convertToInteractive',\n",
              "                                                     [key], {});\n",
              "          if (!dataTable) return;\n",
              "\n",
              "          const docLinkHtml = 'Like what you see? Visit the ' +\n",
              "            '<a target=\"_blank\" href=https://colab.research.google.com/notebooks/data_table.ipynb>data table notebook</a>'\n",
              "            + ' to learn more about interactive tables.';\n",
              "          element.innerHTML = '';\n",
              "          dataTable['output_type'] = 'display_data';\n",
              "          await google.colab.output.renderOutput(dataTable, element);\n",
              "          const docLink = document.createElement('div');\n",
              "          docLink.innerHTML = docLinkHtml;\n",
              "          element.appendChild(docLink);\n",
              "        }\n",
              "      </script>\n",
              "    </div>\n",
              "  </div>\n",
              "  "
            ],
            "text/plain": [
              "     Label  Accuracy  ...  Partial_Match_Precision  Partial_Match_Recall\n",
              "0   Reason  0.909455  ...                 0.486022              0.665217\n",
              "1  Outcome  0.959855  ...                 0.396078              0.710526\n",
              "2   No-Tag  0.879915  ...                 0.782477              0.942373\n",
              "\n",
              "[3 rows x 9 columns]"
            ]
          },
          "metadata": {},
          "execution_count": 45
        }
      ],
      "source": [
        "import pandas as pd\n",
        "df = pd.DataFrame(outputer, columns=['Label', 'Accuracy','Precision', 'Recall', 'F1 Score', 'Exact_Match_Precision', 'Exact_Match_Recall', 'Partial_Match_Precision', 'Partial_Match_Recall'])\n",
        "df"
      ]
    },
    {
      "cell_type": "code",
      "execution_count": null,
      "metadata": {
        "id": "J8ISvGeUrL5Q",
        "colab": {
          "base_uri": "https://localhost:8080/"
        },
        "outputId": "7a734c2c-041c-46e5-9e86-5c03807ed65a"
      },
      "outputs": [
        {
          "output_type": "stream",
          "name": "stdout",
          "text": [
            "Reason\n",
            "[[34134  1656]\n",
            " [ 1964  2226]]\n",
            "Outcome\n",
            "[[37846   660]\n",
            " [  945   529]]\n",
            "No-Tag\n",
            "[[ 2921  2651]\n",
            " [ 2150 32258]]\n"
          ]
        }
      ],
      "source": [
        "for key in confusion_matrixs.keys():\n",
        "  print(key)\n",
        "  print(confusion_matrixs[key])"
      ]
    },
    {
      "cell_type": "code",
      "source": [
        "from sklearn.metrics import accuracy_score, precision_score, recall_score, f1_score, confusion_matrix\n",
        "\n",
        "outputer = {'Label':[],\n",
        "            'Accuracy':[],\n",
        "            'Precision':[],\n",
        "            'Recall':[],\n",
        "            'F1 Score':[],\n",
        "            'Exact_Match_Precision':[],\n",
        "            'Exact_Match_Recall':[],\n",
        "            'Partial_Match_Precision':[],\n",
        "            'Partial_Match_Recall':[]\n",
        "            }\n",
        "\n",
        "confusion_matrixs = {}\n",
        "\n",
        "for key in model_algo_results.keys():\n",
        "    outputer['Label'].append(key)\n",
        "    outputer['Accuracy'].append(accuracy_score(model_algo_results[key]['Actual'], model_algo_results[key]['Pred']))\n",
        "    outputer['Precision'].append(precision_score(model_algo_results[key]['Actual'], model_algo_results[key]['Pred']))\n",
        "    outputer['Recall'].append(recall_score(model_algo_results[key]['Actual'], model_algo_results[key]['Pred']))\n",
        "    outputer['F1 Score'].append(f1_score(model_algo_results[key]['Actual'], model_algo_results[key]['Pred']))\n",
        "    outputer['Exact_Match_Precision'].append(exact_match_check(model_algo_results[key]['Actual'], model_algo_results[key]['Pred']))\n",
        "    outputer['Exact_Match_Recall'].append(exact_match_check(model_algo_results[key]['Pred'], model_algo_results[key]['Actual']))\n",
        "    outputer['Partial_Match_Precision'].append(partial_match_check(model_algo_results[key]['Actual'], model_algo_results[key]['Pred']))\n",
        "    outputer['Partial_Match_Recall'].append(partial_match_check(model_algo_results[key]['Pred'], model_algo_results[key]['Actual']))\n",
        "    confusion_matrixs[key] = confusion_matrix(model_algo_results[key]['Actual'], model_algo_results[key]['Pred'])"
      ],
      "metadata": {
        "id": "hJzKgvAp326z"
      },
      "execution_count": null,
      "outputs": []
    },
    {
      "cell_type": "code",
      "source": [
        "import pandas as pd\n",
        "df = pd.DataFrame(outputer, columns=['Label', 'Accuracy','Precision', 'Recall', 'F1 Score', 'Exact_Match_Precision', 'Exact_Match_Recall', 'Partial_Match_Precision', 'Partial_Match_Recall'])\n",
        "df"
      ],
      "metadata": {
        "id": "vQghPBoCQ0eh",
        "colab": {
          "base_uri": "https://localhost:8080/"
        },
        "outputId": "1e51f615-9eff-488f-de38-4d56b860af37"
      },
      "execution_count": null,
      "outputs": [
        {
          "output_type": "execute_result",
          "data": {
            "text/html": [
              "\n",
              "  <div id=\"df-2225b53d-acc4-4483-a2df-6ee3657c8c2f\">\n",
              "    <div class=\"colab-df-container\">\n",
              "      <div>\n",
              "<style scoped>\n",
              "    .dataframe tbody tr th:only-of-type {\n",
              "        vertical-align: middle;\n",
              "    }\n",
              "\n",
              "    .dataframe tbody tr th {\n",
              "        vertical-align: top;\n",
              "    }\n",
              "\n",
              "    .dataframe thead th {\n",
              "        text-align: right;\n",
              "    }\n",
              "</style>\n",
              "<table border=\"1\" class=\"dataframe\">\n",
              "  <thead>\n",
              "    <tr style=\"text-align: right;\">\n",
              "      <th></th>\n",
              "      <th>Label</th>\n",
              "      <th>Accuracy</th>\n",
              "      <th>Precision</th>\n",
              "      <th>Recall</th>\n",
              "      <th>F1 Score</th>\n",
              "      <th>Exact_Match_Precision</th>\n",
              "      <th>Exact_Match_Recall</th>\n",
              "      <th>Partial_Match_Precision</th>\n",
              "      <th>Partial_Match_Recall</th>\n",
              "    </tr>\n",
              "  </thead>\n",
              "  <tbody>\n",
              "    <tr>\n",
              "      <th>0</th>\n",
              "      <td>Reason</td>\n",
              "      <td>0.909830</td>\n",
              "      <td>0.465871</td>\n",
              "      <td>0.588129</td>\n",
              "      <td>0.519909</td>\n",
              "      <td>0.400000</td>\n",
              "      <td>0.431925</td>\n",
              "      <td>0.573913</td>\n",
              "      <td>0.624413</td>\n",
              "    </tr>\n",
              "    <tr>\n",
              "      <th>1</th>\n",
              "      <td>Outcome</td>\n",
              "      <td>0.963357</td>\n",
              "      <td>0.234735</td>\n",
              "      <td>0.506589</td>\n",
              "      <td>0.320816</td>\n",
              "      <td>0.184211</td>\n",
              "      <td>0.170732</td>\n",
              "      <td>0.526316</td>\n",
              "      <td>0.500000</td>\n",
              "    </tr>\n",
              "  </tbody>\n",
              "</table>\n",
              "</div>\n",
              "      <button class=\"colab-df-convert\" onclick=\"convertToInteractive('df-2225b53d-acc4-4483-a2df-6ee3657c8c2f')\"\n",
              "              title=\"Convert this dataframe to an interactive table.\"\n",
              "              style=\"display:none;\">\n",
              "        \n",
              "  <svg xmlns=\"http://www.w3.org/2000/svg\" height=\"24px\"viewBox=\"0 0 24 24\"\n",
              "       width=\"24px\">\n",
              "    <path d=\"M0 0h24v24H0V0z\" fill=\"none\"/>\n",
              "    <path d=\"M18.56 5.44l.94 2.06.94-2.06 2.06-.94-2.06-.94-.94-2.06-.94 2.06-2.06.94zm-11 1L8.5 8.5l.94-2.06 2.06-.94-2.06-.94L8.5 2.5l-.94 2.06-2.06.94zm10 10l.94 2.06.94-2.06 2.06-.94-2.06-.94-.94-2.06-.94 2.06-2.06.94z\"/><path d=\"M17.41 7.96l-1.37-1.37c-.4-.4-.92-.59-1.43-.59-.52 0-1.04.2-1.43.59L10.3 9.45l-7.72 7.72c-.78.78-.78 2.05 0 2.83L4 21.41c.39.39.9.59 1.41.59.51 0 1.02-.2 1.41-.59l7.78-7.78 2.81-2.81c.8-.78.8-2.07 0-2.86zM5.41 20L4 18.59l7.72-7.72 1.47 1.35L5.41 20z\"/>\n",
              "  </svg>\n",
              "      </button>\n",
              "      \n",
              "  <style>\n",
              "    .colab-df-container {\n",
              "      display:flex;\n",
              "      flex-wrap:wrap;\n",
              "      gap: 12px;\n",
              "    }\n",
              "\n",
              "    .colab-df-convert {\n",
              "      background-color: #E8F0FE;\n",
              "      border: none;\n",
              "      border-radius: 50%;\n",
              "      cursor: pointer;\n",
              "      display: none;\n",
              "      fill: #1967D2;\n",
              "      height: 32px;\n",
              "      padding: 0 0 0 0;\n",
              "      width: 32px;\n",
              "    }\n",
              "\n",
              "    .colab-df-convert:hover {\n",
              "      background-color: #E2EBFA;\n",
              "      box-shadow: 0px 1px 2px rgba(60, 64, 67, 0.3), 0px 1px 3px 1px rgba(60, 64, 67, 0.15);\n",
              "      fill: #174EA6;\n",
              "    }\n",
              "\n",
              "    [theme=dark] .colab-df-convert {\n",
              "      background-color: #3B4455;\n",
              "      fill: #D2E3FC;\n",
              "    }\n",
              "\n",
              "    [theme=dark] .colab-df-convert:hover {\n",
              "      background-color: #434B5C;\n",
              "      box-shadow: 0px 1px 3px 1px rgba(0, 0, 0, 0.15);\n",
              "      filter: drop-shadow(0px 1px 2px rgba(0, 0, 0, 0.3));\n",
              "      fill: #FFFFFF;\n",
              "    }\n",
              "  </style>\n",
              "\n",
              "      <script>\n",
              "        const buttonEl =\n",
              "          document.querySelector('#df-2225b53d-acc4-4483-a2df-6ee3657c8c2f button.colab-df-convert');\n",
              "        buttonEl.style.display =\n",
              "          google.colab.kernel.accessAllowed ? 'block' : 'none';\n",
              "\n",
              "        async function convertToInteractive(key) {\n",
              "          const element = document.querySelector('#df-2225b53d-acc4-4483-a2df-6ee3657c8c2f');\n",
              "          const dataTable =\n",
              "            await google.colab.kernel.invokeFunction('convertToInteractive',\n",
              "                                                     [key], {});\n",
              "          if (!dataTable) return;\n",
              "\n",
              "          const docLinkHtml = 'Like what you see? Visit the ' +\n",
              "            '<a target=\"_blank\" href=https://colab.research.google.com/notebooks/data_table.ipynb>data table notebook</a>'\n",
              "            + ' to learn more about interactive tables.';\n",
              "          element.innerHTML = '';\n",
              "          dataTable['output_type'] = 'display_data';\n",
              "          await google.colab.output.renderOutput(dataTable, element);\n",
              "          const docLink = document.createElement('div');\n",
              "          docLink.innerHTML = docLinkHtml;\n",
              "          element.appendChild(docLink);\n",
              "        }\n",
              "      </script>\n",
              "    </div>\n",
              "  </div>\n",
              "  "
            ],
            "text/plain": [
              "     Label  Accuracy  ...  Partial_Match_Precision  Partial_Match_Recall\n",
              "0   Reason  0.909830  ...                 0.573913              0.624413\n",
              "1  Outcome  0.963357  ...                 0.526316              0.500000\n",
              "\n",
              "[2 rows x 9 columns]"
            ]
          },
          "metadata": {},
          "execution_count": 48
        }
      ]
    },
    {
      "cell_type": "code",
      "source": [
        "for key in confusion_matrixs.keys():\n",
        "  print(key)\n",
        "  print(confusion_matrixs[key])"
      ],
      "metadata": {
        "id": "G3bvSPbRQ7_H",
        "colab": {
          "base_uri": "https://localhost:8080/"
        },
        "outputId": "656be144-053d-411c-ceb0-794c8f2a8b8c"
      },
      "execution_count": null,
      "outputs": [
        {
          "output_type": "stream",
          "name": "stdout",
          "text": [
            "Reason\n",
            "[[34423  2238]\n",
            " [ 1367  1952]]\n",
            "Outcome\n",
            "[[38169  1128]\n",
            " [  337   346]]\n"
          ]
        }
      ]
    }
  ],
  "metadata": {
    "accelerator": "TPU",
    "colab": {
      "collapsed_sections": [],
      "name": "BERT_Information_Extraction_Combined.ipynb",
      "provenance": []
    },
    "kernelspec": {
      "display_name": "Python 3",
      "name": "python3"
    },
    "language_info": {
      "name": "python"
    },
    "widgets": {
      "application/vnd.jupyter.widget-state+json": {
        "f8cda2c37bfe4b75bc22f3de72eeff06": {
          "model_module": "@jupyter-widgets/controls",
          "model_name": "HBoxModel",
          "model_module_version": "1.5.0",
          "state": {
            "_view_name": "HBoxView",
            "_dom_classes": [],
            "_model_name": "HBoxModel",
            "_view_module": "@jupyter-widgets/controls",
            "_model_module_version": "1.5.0",
            "_view_count": null,
            "_view_module_version": "1.5.0",
            "box_style": "",
            "layout": "IPY_MODEL_48da90b3614941af91e7f7faadd28985",
            "_model_module": "@jupyter-widgets/controls",
            "children": [
              "IPY_MODEL_9145ff3e97364dda8f78c277e5fef8c1",
              "IPY_MODEL_7e0c44f39d824e3abc441cb07b16a970",
              "IPY_MODEL_1b29e874766f4a6d97befb73f32bb96b"
            ]
          }
        },
        "48da90b3614941af91e7f7faadd28985": {
          "model_module": "@jupyter-widgets/base",
          "model_name": "LayoutModel",
          "model_module_version": "1.2.0",
          "state": {
            "_view_name": "LayoutView",
            "grid_template_rows": null,
            "right": null,
            "justify_content": null,
            "_view_module": "@jupyter-widgets/base",
            "overflow": null,
            "_model_module_version": "1.2.0",
            "_view_count": null,
            "flex_flow": null,
            "width": null,
            "min_width": null,
            "border": null,
            "align_items": null,
            "bottom": null,
            "_model_module": "@jupyter-widgets/base",
            "top": null,
            "grid_column": null,
            "overflow_y": null,
            "overflow_x": null,
            "grid_auto_flow": null,
            "grid_area": null,
            "grid_template_columns": null,
            "flex": null,
            "_model_name": "LayoutModel",
            "justify_items": null,
            "grid_row": null,
            "max_height": null,
            "align_content": null,
            "visibility": null,
            "align_self": null,
            "height": null,
            "min_height": null,
            "padding": null,
            "grid_auto_rows": null,
            "grid_gap": null,
            "max_width": null,
            "order": null,
            "_view_module_version": "1.2.0",
            "grid_template_areas": null,
            "object_position": null,
            "object_fit": null,
            "grid_auto_columns": null,
            "margin": null,
            "display": null,
            "left": null
          }
        },
        "9145ff3e97364dda8f78c277e5fef8c1": {
          "model_module": "@jupyter-widgets/controls",
          "model_name": "HTMLModel",
          "model_module_version": "1.5.0",
          "state": {
            "_view_name": "HTMLView",
            "style": "IPY_MODEL_79f1d7e8004445bcaa03d1c223356b62",
            "_dom_classes": [],
            "description": "",
            "_model_name": "HTMLModel",
            "placeholder": "​",
            "_view_module": "@jupyter-widgets/controls",
            "_model_module_version": "1.5.0",
            "value": "Downloading: 100%",
            "_view_count": null,
            "_view_module_version": "1.5.0",
            "description_tooltip": null,
            "_model_module": "@jupyter-widgets/controls",
            "layout": "IPY_MODEL_4d955769e9c9452a810aeb49e67defef"
          }
        },
        "7e0c44f39d824e3abc441cb07b16a970": {
          "model_module": "@jupyter-widgets/controls",
          "model_name": "FloatProgressModel",
          "model_module_version": "1.5.0",
          "state": {
            "_view_name": "ProgressView",
            "style": "IPY_MODEL_c1c89cbfdc544643b314472edfba35eb",
            "_dom_classes": [],
            "description": "",
            "_model_name": "FloatProgressModel",
            "bar_style": "success",
            "max": 28,
            "_view_module": "@jupyter-widgets/controls",
            "_model_module_version": "1.5.0",
            "value": 28,
            "_view_count": null,
            "_view_module_version": "1.5.0",
            "orientation": "horizontal",
            "min": 0,
            "description_tooltip": null,
            "_model_module": "@jupyter-widgets/controls",
            "layout": "IPY_MODEL_c15f1440e7f74b4cb11e6064a256ddd2"
          }
        },
        "1b29e874766f4a6d97befb73f32bb96b": {
          "model_module": "@jupyter-widgets/controls",
          "model_name": "HTMLModel",
          "model_module_version": "1.5.0",
          "state": {
            "_view_name": "HTMLView",
            "style": "IPY_MODEL_7d28fc60e2344b60b9139598b5718e84",
            "_dom_classes": [],
            "description": "",
            "_model_name": "HTMLModel",
            "placeholder": "​",
            "_view_module": "@jupyter-widgets/controls",
            "_model_module_version": "1.5.0",
            "value": " 28.0/28.0 [00:00&lt;00:00, 228B/s]",
            "_view_count": null,
            "_view_module_version": "1.5.0",
            "description_tooltip": null,
            "_model_module": "@jupyter-widgets/controls",
            "layout": "IPY_MODEL_a44cc9e8c6754bd3ab685ed22da9bc01"
          }
        },
        "79f1d7e8004445bcaa03d1c223356b62": {
          "model_module": "@jupyter-widgets/controls",
          "model_name": "DescriptionStyleModel",
          "model_module_version": "1.5.0",
          "state": {
            "_view_name": "StyleView",
            "_model_name": "DescriptionStyleModel",
            "description_width": "",
            "_view_module": "@jupyter-widgets/base",
            "_model_module_version": "1.5.0",
            "_view_count": null,
            "_view_module_version": "1.2.0",
            "_model_module": "@jupyter-widgets/controls"
          }
        },
        "4d955769e9c9452a810aeb49e67defef": {
          "model_module": "@jupyter-widgets/base",
          "model_name": "LayoutModel",
          "model_module_version": "1.2.0",
          "state": {
            "_view_name": "LayoutView",
            "grid_template_rows": null,
            "right": null,
            "justify_content": null,
            "_view_module": "@jupyter-widgets/base",
            "overflow": null,
            "_model_module_version": "1.2.0",
            "_view_count": null,
            "flex_flow": null,
            "width": null,
            "min_width": null,
            "border": null,
            "align_items": null,
            "bottom": null,
            "_model_module": "@jupyter-widgets/base",
            "top": null,
            "grid_column": null,
            "overflow_y": null,
            "overflow_x": null,
            "grid_auto_flow": null,
            "grid_area": null,
            "grid_template_columns": null,
            "flex": null,
            "_model_name": "LayoutModel",
            "justify_items": null,
            "grid_row": null,
            "max_height": null,
            "align_content": null,
            "visibility": null,
            "align_self": null,
            "height": null,
            "min_height": null,
            "padding": null,
            "grid_auto_rows": null,
            "grid_gap": null,
            "max_width": null,
            "order": null,
            "_view_module_version": "1.2.0",
            "grid_template_areas": null,
            "object_position": null,
            "object_fit": null,
            "grid_auto_columns": null,
            "margin": null,
            "display": null,
            "left": null
          }
        },
        "c1c89cbfdc544643b314472edfba35eb": {
          "model_module": "@jupyter-widgets/controls",
          "model_name": "ProgressStyleModel",
          "model_module_version": "1.5.0",
          "state": {
            "_view_name": "StyleView",
            "_model_name": "ProgressStyleModel",
            "description_width": "",
            "_view_module": "@jupyter-widgets/base",
            "_model_module_version": "1.5.0",
            "_view_count": null,
            "_view_module_version": "1.2.0",
            "bar_color": null,
            "_model_module": "@jupyter-widgets/controls"
          }
        },
        "c15f1440e7f74b4cb11e6064a256ddd2": {
          "model_module": "@jupyter-widgets/base",
          "model_name": "LayoutModel",
          "model_module_version": "1.2.0",
          "state": {
            "_view_name": "LayoutView",
            "grid_template_rows": null,
            "right": null,
            "justify_content": null,
            "_view_module": "@jupyter-widgets/base",
            "overflow": null,
            "_model_module_version": "1.2.0",
            "_view_count": null,
            "flex_flow": null,
            "width": null,
            "min_width": null,
            "border": null,
            "align_items": null,
            "bottom": null,
            "_model_module": "@jupyter-widgets/base",
            "top": null,
            "grid_column": null,
            "overflow_y": null,
            "overflow_x": null,
            "grid_auto_flow": null,
            "grid_area": null,
            "grid_template_columns": null,
            "flex": null,
            "_model_name": "LayoutModel",
            "justify_items": null,
            "grid_row": null,
            "max_height": null,
            "align_content": null,
            "visibility": null,
            "align_self": null,
            "height": null,
            "min_height": null,
            "padding": null,
            "grid_auto_rows": null,
            "grid_gap": null,
            "max_width": null,
            "order": null,
            "_view_module_version": "1.2.0",
            "grid_template_areas": null,
            "object_position": null,
            "object_fit": null,
            "grid_auto_columns": null,
            "margin": null,
            "display": null,
            "left": null
          }
        },
        "7d28fc60e2344b60b9139598b5718e84": {
          "model_module": "@jupyter-widgets/controls",
          "model_name": "DescriptionStyleModel",
          "model_module_version": "1.5.0",
          "state": {
            "_view_name": "StyleView",
            "_model_name": "DescriptionStyleModel",
            "description_width": "",
            "_view_module": "@jupyter-widgets/base",
            "_model_module_version": "1.5.0",
            "_view_count": null,
            "_view_module_version": "1.2.0",
            "_model_module": "@jupyter-widgets/controls"
          }
        },
        "a44cc9e8c6754bd3ab685ed22da9bc01": {
          "model_module": "@jupyter-widgets/base",
          "model_name": "LayoutModel",
          "model_module_version": "1.2.0",
          "state": {
            "_view_name": "LayoutView",
            "grid_template_rows": null,
            "right": null,
            "justify_content": null,
            "_view_module": "@jupyter-widgets/base",
            "overflow": null,
            "_model_module_version": "1.2.0",
            "_view_count": null,
            "flex_flow": null,
            "width": null,
            "min_width": null,
            "border": null,
            "align_items": null,
            "bottom": null,
            "_model_module": "@jupyter-widgets/base",
            "top": null,
            "grid_column": null,
            "overflow_y": null,
            "overflow_x": null,
            "grid_auto_flow": null,
            "grid_area": null,
            "grid_template_columns": null,
            "flex": null,
            "_model_name": "LayoutModel",
            "justify_items": null,
            "grid_row": null,
            "max_height": null,
            "align_content": null,
            "visibility": null,
            "align_self": null,
            "height": null,
            "min_height": null,
            "padding": null,
            "grid_auto_rows": null,
            "grid_gap": null,
            "max_width": null,
            "order": null,
            "_view_module_version": "1.2.0",
            "grid_template_areas": null,
            "object_position": null,
            "object_fit": null,
            "grid_auto_columns": null,
            "margin": null,
            "display": null,
            "left": null
          }
        },
        "d755da2e513c4081b50a8a33fe72a7fc": {
          "model_module": "@jupyter-widgets/controls",
          "model_name": "HBoxModel",
          "model_module_version": "1.5.0",
          "state": {
            "_view_name": "HBoxView",
            "_dom_classes": [],
            "_model_name": "HBoxModel",
            "_view_module": "@jupyter-widgets/controls",
            "_model_module_version": "1.5.0",
            "_view_count": null,
            "_view_module_version": "1.5.0",
            "box_style": "",
            "layout": "IPY_MODEL_4493b0b7e6824d1386b6220acec7f005",
            "_model_module": "@jupyter-widgets/controls",
            "children": [
              "IPY_MODEL_7f4fcb6f48b6442f91e4b5610dc1186a",
              "IPY_MODEL_b1019b26e0b746f38f2b4489036dd551",
              "IPY_MODEL_845f97d686a94f9c9e3a953f33411911"
            ]
          }
        },
        "4493b0b7e6824d1386b6220acec7f005": {
          "model_module": "@jupyter-widgets/base",
          "model_name": "LayoutModel",
          "model_module_version": "1.2.0",
          "state": {
            "_view_name": "LayoutView",
            "grid_template_rows": null,
            "right": null,
            "justify_content": null,
            "_view_module": "@jupyter-widgets/base",
            "overflow": null,
            "_model_module_version": "1.2.0",
            "_view_count": null,
            "flex_flow": null,
            "width": null,
            "min_width": null,
            "border": null,
            "align_items": null,
            "bottom": null,
            "_model_module": "@jupyter-widgets/base",
            "top": null,
            "grid_column": null,
            "overflow_y": null,
            "overflow_x": null,
            "grid_auto_flow": null,
            "grid_area": null,
            "grid_template_columns": null,
            "flex": null,
            "_model_name": "LayoutModel",
            "justify_items": null,
            "grid_row": null,
            "max_height": null,
            "align_content": null,
            "visibility": null,
            "align_self": null,
            "height": null,
            "min_height": null,
            "padding": null,
            "grid_auto_rows": null,
            "grid_gap": null,
            "max_width": null,
            "order": null,
            "_view_module_version": "1.2.0",
            "grid_template_areas": null,
            "object_position": null,
            "object_fit": null,
            "grid_auto_columns": null,
            "margin": null,
            "display": null,
            "left": null
          }
        },
        "7f4fcb6f48b6442f91e4b5610dc1186a": {
          "model_module": "@jupyter-widgets/controls",
          "model_name": "HTMLModel",
          "model_module_version": "1.5.0",
          "state": {
            "_view_name": "HTMLView",
            "style": "IPY_MODEL_c7d5a1502526438c9d43768b32ca773f",
            "_dom_classes": [],
            "description": "",
            "_model_name": "HTMLModel",
            "placeholder": "​",
            "_view_module": "@jupyter-widgets/controls",
            "_model_module_version": "1.5.0",
            "value": "Downloading: 100%",
            "_view_count": null,
            "_view_module_version": "1.5.0",
            "description_tooltip": null,
            "_model_module": "@jupyter-widgets/controls",
            "layout": "IPY_MODEL_23f3d747ad194eaf9d417972288f4942"
          }
        },
        "b1019b26e0b746f38f2b4489036dd551": {
          "model_module": "@jupyter-widgets/controls",
          "model_name": "FloatProgressModel",
          "model_module_version": "1.5.0",
          "state": {
            "_view_name": "ProgressView",
            "style": "IPY_MODEL_7e2cfcc5cc8947a8b6cf8945ed7121ff",
            "_dom_classes": [],
            "description": "",
            "_model_name": "FloatProgressModel",
            "bar_style": "success",
            "max": 231508,
            "_view_module": "@jupyter-widgets/controls",
            "_model_module_version": "1.5.0",
            "value": 231508,
            "_view_count": null,
            "_view_module_version": "1.5.0",
            "orientation": "horizontal",
            "min": 0,
            "description_tooltip": null,
            "_model_module": "@jupyter-widgets/controls",
            "layout": "IPY_MODEL_594b7a9b657148d3901be0cf46b0759e"
          }
        },
        "845f97d686a94f9c9e3a953f33411911": {
          "model_module": "@jupyter-widgets/controls",
          "model_name": "HTMLModel",
          "model_module_version": "1.5.0",
          "state": {
            "_view_name": "HTMLView",
            "style": "IPY_MODEL_1c26ab480eec4bf18f2c7db442c0c32a",
            "_dom_classes": [],
            "description": "",
            "_model_name": "HTMLModel",
            "placeholder": "​",
            "_view_module": "@jupyter-widgets/controls",
            "_model_module_version": "1.5.0",
            "value": " 226k/226k [00:00&lt;00:00, 695kB/s]",
            "_view_count": null,
            "_view_module_version": "1.5.0",
            "description_tooltip": null,
            "_model_module": "@jupyter-widgets/controls",
            "layout": "IPY_MODEL_822bf3a439ae4b808faf9a736667452c"
          }
        },
        "c7d5a1502526438c9d43768b32ca773f": {
          "model_module": "@jupyter-widgets/controls",
          "model_name": "DescriptionStyleModel",
          "model_module_version": "1.5.0",
          "state": {
            "_view_name": "StyleView",
            "_model_name": "DescriptionStyleModel",
            "description_width": "",
            "_view_module": "@jupyter-widgets/base",
            "_model_module_version": "1.5.0",
            "_view_count": null,
            "_view_module_version": "1.2.0",
            "_model_module": "@jupyter-widgets/controls"
          }
        },
        "23f3d747ad194eaf9d417972288f4942": {
          "model_module": "@jupyter-widgets/base",
          "model_name": "LayoutModel",
          "model_module_version": "1.2.0",
          "state": {
            "_view_name": "LayoutView",
            "grid_template_rows": null,
            "right": null,
            "justify_content": null,
            "_view_module": "@jupyter-widgets/base",
            "overflow": null,
            "_model_module_version": "1.2.0",
            "_view_count": null,
            "flex_flow": null,
            "width": null,
            "min_width": null,
            "border": null,
            "align_items": null,
            "bottom": null,
            "_model_module": "@jupyter-widgets/base",
            "top": null,
            "grid_column": null,
            "overflow_y": null,
            "overflow_x": null,
            "grid_auto_flow": null,
            "grid_area": null,
            "grid_template_columns": null,
            "flex": null,
            "_model_name": "LayoutModel",
            "justify_items": null,
            "grid_row": null,
            "max_height": null,
            "align_content": null,
            "visibility": null,
            "align_self": null,
            "height": null,
            "min_height": null,
            "padding": null,
            "grid_auto_rows": null,
            "grid_gap": null,
            "max_width": null,
            "order": null,
            "_view_module_version": "1.2.0",
            "grid_template_areas": null,
            "object_position": null,
            "object_fit": null,
            "grid_auto_columns": null,
            "margin": null,
            "display": null,
            "left": null
          }
        },
        "7e2cfcc5cc8947a8b6cf8945ed7121ff": {
          "model_module": "@jupyter-widgets/controls",
          "model_name": "ProgressStyleModel",
          "model_module_version": "1.5.0",
          "state": {
            "_view_name": "StyleView",
            "_model_name": "ProgressStyleModel",
            "description_width": "",
            "_view_module": "@jupyter-widgets/base",
            "_model_module_version": "1.5.0",
            "_view_count": null,
            "_view_module_version": "1.2.0",
            "bar_color": null,
            "_model_module": "@jupyter-widgets/controls"
          }
        },
        "594b7a9b657148d3901be0cf46b0759e": {
          "model_module": "@jupyter-widgets/base",
          "model_name": "LayoutModel",
          "model_module_version": "1.2.0",
          "state": {
            "_view_name": "LayoutView",
            "grid_template_rows": null,
            "right": null,
            "justify_content": null,
            "_view_module": "@jupyter-widgets/base",
            "overflow": null,
            "_model_module_version": "1.2.0",
            "_view_count": null,
            "flex_flow": null,
            "width": null,
            "min_width": null,
            "border": null,
            "align_items": null,
            "bottom": null,
            "_model_module": "@jupyter-widgets/base",
            "top": null,
            "grid_column": null,
            "overflow_y": null,
            "overflow_x": null,
            "grid_auto_flow": null,
            "grid_area": null,
            "grid_template_columns": null,
            "flex": null,
            "_model_name": "LayoutModel",
            "justify_items": null,
            "grid_row": null,
            "max_height": null,
            "align_content": null,
            "visibility": null,
            "align_self": null,
            "height": null,
            "min_height": null,
            "padding": null,
            "grid_auto_rows": null,
            "grid_gap": null,
            "max_width": null,
            "order": null,
            "_view_module_version": "1.2.0",
            "grid_template_areas": null,
            "object_position": null,
            "object_fit": null,
            "grid_auto_columns": null,
            "margin": null,
            "display": null,
            "left": null
          }
        },
        "1c26ab480eec4bf18f2c7db442c0c32a": {
          "model_module": "@jupyter-widgets/controls",
          "model_name": "DescriptionStyleModel",
          "model_module_version": "1.5.0",
          "state": {
            "_view_name": "StyleView",
            "_model_name": "DescriptionStyleModel",
            "description_width": "",
            "_view_module": "@jupyter-widgets/base",
            "_model_module_version": "1.5.0",
            "_view_count": null,
            "_view_module_version": "1.2.0",
            "_model_module": "@jupyter-widgets/controls"
          }
        },
        "822bf3a439ae4b808faf9a736667452c": {
          "model_module": "@jupyter-widgets/base",
          "model_name": "LayoutModel",
          "model_module_version": "1.2.0",
          "state": {
            "_view_name": "LayoutView",
            "grid_template_rows": null,
            "right": null,
            "justify_content": null,
            "_view_module": "@jupyter-widgets/base",
            "overflow": null,
            "_model_module_version": "1.2.0",
            "_view_count": null,
            "flex_flow": null,
            "width": null,
            "min_width": null,
            "border": null,
            "align_items": null,
            "bottom": null,
            "_model_module": "@jupyter-widgets/base",
            "top": null,
            "grid_column": null,
            "overflow_y": null,
            "overflow_x": null,
            "grid_auto_flow": null,
            "grid_area": null,
            "grid_template_columns": null,
            "flex": null,
            "_model_name": "LayoutModel",
            "justify_items": null,
            "grid_row": null,
            "max_height": null,
            "align_content": null,
            "visibility": null,
            "align_self": null,
            "height": null,
            "min_height": null,
            "padding": null,
            "grid_auto_rows": null,
            "grid_gap": null,
            "max_width": null,
            "order": null,
            "_view_module_version": "1.2.0",
            "grid_template_areas": null,
            "object_position": null,
            "object_fit": null,
            "grid_auto_columns": null,
            "margin": null,
            "display": null,
            "left": null
          }
        },
        "072b5b06f2fb4856ba8b70521d247eea": {
          "model_module": "@jupyter-widgets/controls",
          "model_name": "HBoxModel",
          "model_module_version": "1.5.0",
          "state": {
            "_view_name": "HBoxView",
            "_dom_classes": [],
            "_model_name": "HBoxModel",
            "_view_module": "@jupyter-widgets/controls",
            "_model_module_version": "1.5.0",
            "_view_count": null,
            "_view_module_version": "1.5.0",
            "box_style": "",
            "layout": "IPY_MODEL_ba17ecd5408342ac9431dc3352f88b67",
            "_model_module": "@jupyter-widgets/controls",
            "children": [
              "IPY_MODEL_c20298aaa501406da6f072c5280c337a",
              "IPY_MODEL_986d28deaf0b49d8a1fcd26a5e4b20db",
              "IPY_MODEL_b0c8896a2cc5464b93e63bed6ccdc0b8"
            ]
          }
        },
        "ba17ecd5408342ac9431dc3352f88b67": {
          "model_module": "@jupyter-widgets/base",
          "model_name": "LayoutModel",
          "model_module_version": "1.2.0",
          "state": {
            "_view_name": "LayoutView",
            "grid_template_rows": null,
            "right": null,
            "justify_content": null,
            "_view_module": "@jupyter-widgets/base",
            "overflow": null,
            "_model_module_version": "1.2.0",
            "_view_count": null,
            "flex_flow": null,
            "width": null,
            "min_width": null,
            "border": null,
            "align_items": null,
            "bottom": null,
            "_model_module": "@jupyter-widgets/base",
            "top": null,
            "grid_column": null,
            "overflow_y": null,
            "overflow_x": null,
            "grid_auto_flow": null,
            "grid_area": null,
            "grid_template_columns": null,
            "flex": null,
            "_model_name": "LayoutModel",
            "justify_items": null,
            "grid_row": null,
            "max_height": null,
            "align_content": null,
            "visibility": null,
            "align_self": null,
            "height": null,
            "min_height": null,
            "padding": null,
            "grid_auto_rows": null,
            "grid_gap": null,
            "max_width": null,
            "order": null,
            "_view_module_version": "1.2.0",
            "grid_template_areas": null,
            "object_position": null,
            "object_fit": null,
            "grid_auto_columns": null,
            "margin": null,
            "display": null,
            "left": null
          }
        },
        "c20298aaa501406da6f072c5280c337a": {
          "model_module": "@jupyter-widgets/controls",
          "model_name": "HTMLModel",
          "model_module_version": "1.5.0",
          "state": {
            "_view_name": "HTMLView",
            "style": "IPY_MODEL_67fc46b15a164eb784573481bbed095b",
            "_dom_classes": [],
            "description": "",
            "_model_name": "HTMLModel",
            "placeholder": "​",
            "_view_module": "@jupyter-widgets/controls",
            "_model_module_version": "1.5.0",
            "value": "Downloading: 100%",
            "_view_count": null,
            "_view_module_version": "1.5.0",
            "description_tooltip": null,
            "_model_module": "@jupyter-widgets/controls",
            "layout": "IPY_MODEL_7d6d844227c646f192d1f07d9f7a2dad"
          }
        },
        "986d28deaf0b49d8a1fcd26a5e4b20db": {
          "model_module": "@jupyter-widgets/controls",
          "model_name": "FloatProgressModel",
          "model_module_version": "1.5.0",
          "state": {
            "_view_name": "ProgressView",
            "style": "IPY_MODEL_c5d80040f7e649e9bb239d88121b59f7",
            "_dom_classes": [],
            "description": "",
            "_model_name": "FloatProgressModel",
            "bar_style": "success",
            "max": 466062,
            "_view_module": "@jupyter-widgets/controls",
            "_model_module_version": "1.5.0",
            "value": 466062,
            "_view_count": null,
            "_view_module_version": "1.5.0",
            "orientation": "horizontal",
            "min": 0,
            "description_tooltip": null,
            "_model_module": "@jupyter-widgets/controls",
            "layout": "IPY_MODEL_bd8c63dd158e4098ad4cc05f937a1c8d"
          }
        },
        "b0c8896a2cc5464b93e63bed6ccdc0b8": {
          "model_module": "@jupyter-widgets/controls",
          "model_name": "HTMLModel",
          "model_module_version": "1.5.0",
          "state": {
            "_view_name": "HTMLView",
            "style": "IPY_MODEL_2bfc6eb25f8e4bfbb0dd61d0fe367fd1",
            "_dom_classes": [],
            "description": "",
            "_model_name": "HTMLModel",
            "placeholder": "​",
            "_view_module": "@jupyter-widgets/controls",
            "_model_module_version": "1.5.0",
            "value": " 455k/455k [00:00&lt;00:00, 1.78MB/s]",
            "_view_count": null,
            "_view_module_version": "1.5.0",
            "description_tooltip": null,
            "_model_module": "@jupyter-widgets/controls",
            "layout": "IPY_MODEL_5756cf129f274ab4ba7bb5324f939f25"
          }
        },
        "67fc46b15a164eb784573481bbed095b": {
          "model_module": "@jupyter-widgets/controls",
          "model_name": "DescriptionStyleModel",
          "model_module_version": "1.5.0",
          "state": {
            "_view_name": "StyleView",
            "_model_name": "DescriptionStyleModel",
            "description_width": "",
            "_view_module": "@jupyter-widgets/base",
            "_model_module_version": "1.5.0",
            "_view_count": null,
            "_view_module_version": "1.2.0",
            "_model_module": "@jupyter-widgets/controls"
          }
        },
        "7d6d844227c646f192d1f07d9f7a2dad": {
          "model_module": "@jupyter-widgets/base",
          "model_name": "LayoutModel",
          "model_module_version": "1.2.0",
          "state": {
            "_view_name": "LayoutView",
            "grid_template_rows": null,
            "right": null,
            "justify_content": null,
            "_view_module": "@jupyter-widgets/base",
            "overflow": null,
            "_model_module_version": "1.2.0",
            "_view_count": null,
            "flex_flow": null,
            "width": null,
            "min_width": null,
            "border": null,
            "align_items": null,
            "bottom": null,
            "_model_module": "@jupyter-widgets/base",
            "top": null,
            "grid_column": null,
            "overflow_y": null,
            "overflow_x": null,
            "grid_auto_flow": null,
            "grid_area": null,
            "grid_template_columns": null,
            "flex": null,
            "_model_name": "LayoutModel",
            "justify_items": null,
            "grid_row": null,
            "max_height": null,
            "align_content": null,
            "visibility": null,
            "align_self": null,
            "height": null,
            "min_height": null,
            "padding": null,
            "grid_auto_rows": null,
            "grid_gap": null,
            "max_width": null,
            "order": null,
            "_view_module_version": "1.2.0",
            "grid_template_areas": null,
            "object_position": null,
            "object_fit": null,
            "grid_auto_columns": null,
            "margin": null,
            "display": null,
            "left": null
          }
        },
        "c5d80040f7e649e9bb239d88121b59f7": {
          "model_module": "@jupyter-widgets/controls",
          "model_name": "ProgressStyleModel",
          "model_module_version": "1.5.0",
          "state": {
            "_view_name": "StyleView",
            "_model_name": "ProgressStyleModel",
            "description_width": "",
            "_view_module": "@jupyter-widgets/base",
            "_model_module_version": "1.5.0",
            "_view_count": null,
            "_view_module_version": "1.2.0",
            "bar_color": null,
            "_model_module": "@jupyter-widgets/controls"
          }
        },
        "bd8c63dd158e4098ad4cc05f937a1c8d": {
          "model_module": "@jupyter-widgets/base",
          "model_name": "LayoutModel",
          "model_module_version": "1.2.0",
          "state": {
            "_view_name": "LayoutView",
            "grid_template_rows": null,
            "right": null,
            "justify_content": null,
            "_view_module": "@jupyter-widgets/base",
            "overflow": null,
            "_model_module_version": "1.2.0",
            "_view_count": null,
            "flex_flow": null,
            "width": null,
            "min_width": null,
            "border": null,
            "align_items": null,
            "bottom": null,
            "_model_module": "@jupyter-widgets/base",
            "top": null,
            "grid_column": null,
            "overflow_y": null,
            "overflow_x": null,
            "grid_auto_flow": null,
            "grid_area": null,
            "grid_template_columns": null,
            "flex": null,
            "_model_name": "LayoutModel",
            "justify_items": null,
            "grid_row": null,
            "max_height": null,
            "align_content": null,
            "visibility": null,
            "align_self": null,
            "height": null,
            "min_height": null,
            "padding": null,
            "grid_auto_rows": null,
            "grid_gap": null,
            "max_width": null,
            "order": null,
            "_view_module_version": "1.2.0",
            "grid_template_areas": null,
            "object_position": null,
            "object_fit": null,
            "grid_auto_columns": null,
            "margin": null,
            "display": null,
            "left": null
          }
        },
        "2bfc6eb25f8e4bfbb0dd61d0fe367fd1": {
          "model_module": "@jupyter-widgets/controls",
          "model_name": "DescriptionStyleModel",
          "model_module_version": "1.5.0",
          "state": {
            "_view_name": "StyleView",
            "_model_name": "DescriptionStyleModel",
            "description_width": "",
            "_view_module": "@jupyter-widgets/base",
            "_model_module_version": "1.5.0",
            "_view_count": null,
            "_view_module_version": "1.2.0",
            "_model_module": "@jupyter-widgets/controls"
          }
        },
        "5756cf129f274ab4ba7bb5324f939f25": {
          "model_module": "@jupyter-widgets/base",
          "model_name": "LayoutModel",
          "model_module_version": "1.2.0",
          "state": {
            "_view_name": "LayoutView",
            "grid_template_rows": null,
            "right": null,
            "justify_content": null,
            "_view_module": "@jupyter-widgets/base",
            "overflow": null,
            "_model_module_version": "1.2.0",
            "_view_count": null,
            "flex_flow": null,
            "width": null,
            "min_width": null,
            "border": null,
            "align_items": null,
            "bottom": null,
            "_model_module": "@jupyter-widgets/base",
            "top": null,
            "grid_column": null,
            "overflow_y": null,
            "overflow_x": null,
            "grid_auto_flow": null,
            "grid_area": null,
            "grid_template_columns": null,
            "flex": null,
            "_model_name": "LayoutModel",
            "justify_items": null,
            "grid_row": null,
            "max_height": null,
            "align_content": null,
            "visibility": null,
            "align_self": null,
            "height": null,
            "min_height": null,
            "padding": null,
            "grid_auto_rows": null,
            "grid_gap": null,
            "max_width": null,
            "order": null,
            "_view_module_version": "1.2.0",
            "grid_template_areas": null,
            "object_position": null,
            "object_fit": null,
            "grid_auto_columns": null,
            "margin": null,
            "display": null,
            "left": null
          }
        },
        "7e67b2df9b85445da9c42adb25d4d6ff": {
          "model_module": "@jupyter-widgets/controls",
          "model_name": "HBoxModel",
          "model_module_version": "1.5.0",
          "state": {
            "_view_name": "HBoxView",
            "_dom_classes": [],
            "_model_name": "HBoxModel",
            "_view_module": "@jupyter-widgets/controls",
            "_model_module_version": "1.5.0",
            "_view_count": null,
            "_view_module_version": "1.5.0",
            "box_style": "",
            "layout": "IPY_MODEL_ac6a8dbe369442518a0505fad00c2e3d",
            "_model_module": "@jupyter-widgets/controls",
            "children": [
              "IPY_MODEL_aafc89f69fad4eae9d16809c9253ee5d",
              "IPY_MODEL_158d1fd42b4d40168926e8e09f26f727",
              "IPY_MODEL_b2fafd50433f4ce5a3650a304ad17d1d"
            ]
          }
        },
        "ac6a8dbe369442518a0505fad00c2e3d": {
          "model_module": "@jupyter-widgets/base",
          "model_name": "LayoutModel",
          "model_module_version": "1.2.0",
          "state": {
            "_view_name": "LayoutView",
            "grid_template_rows": null,
            "right": null,
            "justify_content": null,
            "_view_module": "@jupyter-widgets/base",
            "overflow": null,
            "_model_module_version": "1.2.0",
            "_view_count": null,
            "flex_flow": null,
            "width": null,
            "min_width": null,
            "border": null,
            "align_items": null,
            "bottom": null,
            "_model_module": "@jupyter-widgets/base",
            "top": null,
            "grid_column": null,
            "overflow_y": null,
            "overflow_x": null,
            "grid_auto_flow": null,
            "grid_area": null,
            "grid_template_columns": null,
            "flex": null,
            "_model_name": "LayoutModel",
            "justify_items": null,
            "grid_row": null,
            "max_height": null,
            "align_content": null,
            "visibility": null,
            "align_self": null,
            "height": null,
            "min_height": null,
            "padding": null,
            "grid_auto_rows": null,
            "grid_gap": null,
            "max_width": null,
            "order": null,
            "_view_module_version": "1.2.0",
            "grid_template_areas": null,
            "object_position": null,
            "object_fit": null,
            "grid_auto_columns": null,
            "margin": null,
            "display": null,
            "left": null
          }
        },
        "aafc89f69fad4eae9d16809c9253ee5d": {
          "model_module": "@jupyter-widgets/controls",
          "model_name": "HTMLModel",
          "model_module_version": "1.5.0",
          "state": {
            "_view_name": "HTMLView",
            "style": "IPY_MODEL_73f72b37c5324df4b0640adef208114b",
            "_dom_classes": [],
            "description": "",
            "_model_name": "HTMLModel",
            "placeholder": "​",
            "_view_module": "@jupyter-widgets/controls",
            "_model_module_version": "1.5.0",
            "value": "Downloading: 100%",
            "_view_count": null,
            "_view_module_version": "1.5.0",
            "description_tooltip": null,
            "_model_module": "@jupyter-widgets/controls",
            "layout": "IPY_MODEL_dba46fe3558e48bbb7abccf44d227f2f"
          }
        },
        "158d1fd42b4d40168926e8e09f26f727": {
          "model_module": "@jupyter-widgets/controls",
          "model_name": "FloatProgressModel",
          "model_module_version": "1.5.0",
          "state": {
            "_view_name": "ProgressView",
            "style": "IPY_MODEL_834451454d39498eae832da7c53c0f2a",
            "_dom_classes": [],
            "description": "",
            "_model_name": "FloatProgressModel",
            "bar_style": "success",
            "max": 570,
            "_view_module": "@jupyter-widgets/controls",
            "_model_module_version": "1.5.0",
            "value": 570,
            "_view_count": null,
            "_view_module_version": "1.5.0",
            "orientation": "horizontal",
            "min": 0,
            "description_tooltip": null,
            "_model_module": "@jupyter-widgets/controls",
            "layout": "IPY_MODEL_dfd7922dfa2c4db8a68b45765f5204f9"
          }
        },
        "b2fafd50433f4ce5a3650a304ad17d1d": {
          "model_module": "@jupyter-widgets/controls",
          "model_name": "HTMLModel",
          "model_module_version": "1.5.0",
          "state": {
            "_view_name": "HTMLView",
            "style": "IPY_MODEL_585fb68984a348f9b75486c80d585bed",
            "_dom_classes": [],
            "description": "",
            "_model_name": "HTMLModel",
            "placeholder": "​",
            "_view_module": "@jupyter-widgets/controls",
            "_model_module_version": "1.5.0",
            "value": " 570/570 [00:00&lt;00:00, 3.02kB/s]",
            "_view_count": null,
            "_view_module_version": "1.5.0",
            "description_tooltip": null,
            "_model_module": "@jupyter-widgets/controls",
            "layout": "IPY_MODEL_76f2952a852e40b6a55785fea1a12af1"
          }
        },
        "73f72b37c5324df4b0640adef208114b": {
          "model_module": "@jupyter-widgets/controls",
          "model_name": "DescriptionStyleModel",
          "model_module_version": "1.5.0",
          "state": {
            "_view_name": "StyleView",
            "_model_name": "DescriptionStyleModel",
            "description_width": "",
            "_view_module": "@jupyter-widgets/base",
            "_model_module_version": "1.5.0",
            "_view_count": null,
            "_view_module_version": "1.2.0",
            "_model_module": "@jupyter-widgets/controls"
          }
        },
        "dba46fe3558e48bbb7abccf44d227f2f": {
          "model_module": "@jupyter-widgets/base",
          "model_name": "LayoutModel",
          "model_module_version": "1.2.0",
          "state": {
            "_view_name": "LayoutView",
            "grid_template_rows": null,
            "right": null,
            "justify_content": null,
            "_view_module": "@jupyter-widgets/base",
            "overflow": null,
            "_model_module_version": "1.2.0",
            "_view_count": null,
            "flex_flow": null,
            "width": null,
            "min_width": null,
            "border": null,
            "align_items": null,
            "bottom": null,
            "_model_module": "@jupyter-widgets/base",
            "top": null,
            "grid_column": null,
            "overflow_y": null,
            "overflow_x": null,
            "grid_auto_flow": null,
            "grid_area": null,
            "grid_template_columns": null,
            "flex": null,
            "_model_name": "LayoutModel",
            "justify_items": null,
            "grid_row": null,
            "max_height": null,
            "align_content": null,
            "visibility": null,
            "align_self": null,
            "height": null,
            "min_height": null,
            "padding": null,
            "grid_auto_rows": null,
            "grid_gap": null,
            "max_width": null,
            "order": null,
            "_view_module_version": "1.2.0",
            "grid_template_areas": null,
            "object_position": null,
            "object_fit": null,
            "grid_auto_columns": null,
            "margin": null,
            "display": null,
            "left": null
          }
        },
        "834451454d39498eae832da7c53c0f2a": {
          "model_module": "@jupyter-widgets/controls",
          "model_name": "ProgressStyleModel",
          "model_module_version": "1.5.0",
          "state": {
            "_view_name": "StyleView",
            "_model_name": "ProgressStyleModel",
            "description_width": "",
            "_view_module": "@jupyter-widgets/base",
            "_model_module_version": "1.5.0",
            "_view_count": null,
            "_view_module_version": "1.2.0",
            "bar_color": null,
            "_model_module": "@jupyter-widgets/controls"
          }
        },
        "dfd7922dfa2c4db8a68b45765f5204f9": {
          "model_module": "@jupyter-widgets/base",
          "model_name": "LayoutModel",
          "model_module_version": "1.2.0",
          "state": {
            "_view_name": "LayoutView",
            "grid_template_rows": null,
            "right": null,
            "justify_content": null,
            "_view_module": "@jupyter-widgets/base",
            "overflow": null,
            "_model_module_version": "1.2.0",
            "_view_count": null,
            "flex_flow": null,
            "width": null,
            "min_width": null,
            "border": null,
            "align_items": null,
            "bottom": null,
            "_model_module": "@jupyter-widgets/base",
            "top": null,
            "grid_column": null,
            "overflow_y": null,
            "overflow_x": null,
            "grid_auto_flow": null,
            "grid_area": null,
            "grid_template_columns": null,
            "flex": null,
            "_model_name": "LayoutModel",
            "justify_items": null,
            "grid_row": null,
            "max_height": null,
            "align_content": null,
            "visibility": null,
            "align_self": null,
            "height": null,
            "min_height": null,
            "padding": null,
            "grid_auto_rows": null,
            "grid_gap": null,
            "max_width": null,
            "order": null,
            "_view_module_version": "1.2.0",
            "grid_template_areas": null,
            "object_position": null,
            "object_fit": null,
            "grid_auto_columns": null,
            "margin": null,
            "display": null,
            "left": null
          }
        },
        "585fb68984a348f9b75486c80d585bed": {
          "model_module": "@jupyter-widgets/controls",
          "model_name": "DescriptionStyleModel",
          "model_module_version": "1.5.0",
          "state": {
            "_view_name": "StyleView",
            "_model_name": "DescriptionStyleModel",
            "description_width": "",
            "_view_module": "@jupyter-widgets/base",
            "_model_module_version": "1.5.0",
            "_view_count": null,
            "_view_module_version": "1.2.0",
            "_model_module": "@jupyter-widgets/controls"
          }
        },
        "76f2952a852e40b6a55785fea1a12af1": {
          "model_module": "@jupyter-widgets/base",
          "model_name": "LayoutModel",
          "model_module_version": "1.2.0",
          "state": {
            "_view_name": "LayoutView",
            "grid_template_rows": null,
            "right": null,
            "justify_content": null,
            "_view_module": "@jupyter-widgets/base",
            "overflow": null,
            "_model_module_version": "1.2.0",
            "_view_count": null,
            "flex_flow": null,
            "width": null,
            "min_width": null,
            "border": null,
            "align_items": null,
            "bottom": null,
            "_model_module": "@jupyter-widgets/base",
            "top": null,
            "grid_column": null,
            "overflow_y": null,
            "overflow_x": null,
            "grid_auto_flow": null,
            "grid_area": null,
            "grid_template_columns": null,
            "flex": null,
            "_model_name": "LayoutModel",
            "justify_items": null,
            "grid_row": null,
            "max_height": null,
            "align_content": null,
            "visibility": null,
            "align_self": null,
            "height": null,
            "min_height": null,
            "padding": null,
            "grid_auto_rows": null,
            "grid_gap": null,
            "max_width": null,
            "order": null,
            "_view_module_version": "1.2.0",
            "grid_template_areas": null,
            "object_position": null,
            "object_fit": null,
            "grid_auto_columns": null,
            "margin": null,
            "display": null,
            "left": null
          }
        },
        "567e5fdee3744e398e96b9d01091704d": {
          "model_module": "@jupyter-widgets/controls",
          "model_name": "HBoxModel",
          "model_module_version": "1.5.0",
          "state": {
            "_view_name": "HBoxView",
            "_dom_classes": [],
            "_model_name": "HBoxModel",
            "_view_module": "@jupyter-widgets/controls",
            "_model_module_version": "1.5.0",
            "_view_count": null,
            "_view_module_version": "1.5.0",
            "box_style": "",
            "layout": "IPY_MODEL_e53a08d155844609a463cd78cfca224d",
            "_model_module": "@jupyter-widgets/controls",
            "children": [
              "IPY_MODEL_81d62fdf0c414a9b87937e3df16f0156",
              "IPY_MODEL_c454affbec614def97d3731cd621dbf0",
              "IPY_MODEL_a8ad10eaa81e430ab79cd1f977edb371"
            ]
          }
        },
        "e53a08d155844609a463cd78cfca224d": {
          "model_module": "@jupyter-widgets/base",
          "model_name": "LayoutModel",
          "model_module_version": "1.2.0",
          "state": {
            "_view_name": "LayoutView",
            "grid_template_rows": null,
            "right": null,
            "justify_content": null,
            "_view_module": "@jupyter-widgets/base",
            "overflow": null,
            "_model_module_version": "1.2.0",
            "_view_count": null,
            "flex_flow": null,
            "width": null,
            "min_width": null,
            "border": null,
            "align_items": null,
            "bottom": null,
            "_model_module": "@jupyter-widgets/base",
            "top": null,
            "grid_column": null,
            "overflow_y": null,
            "overflow_x": null,
            "grid_auto_flow": null,
            "grid_area": null,
            "grid_template_columns": null,
            "flex": null,
            "_model_name": "LayoutModel",
            "justify_items": null,
            "grid_row": null,
            "max_height": null,
            "align_content": null,
            "visibility": null,
            "align_self": null,
            "height": null,
            "min_height": null,
            "padding": null,
            "grid_auto_rows": null,
            "grid_gap": null,
            "max_width": null,
            "order": null,
            "_view_module_version": "1.2.0",
            "grid_template_areas": null,
            "object_position": null,
            "object_fit": null,
            "grid_auto_columns": null,
            "margin": null,
            "display": null,
            "left": null
          }
        },
        "81d62fdf0c414a9b87937e3df16f0156": {
          "model_module": "@jupyter-widgets/controls",
          "model_name": "HTMLModel",
          "model_module_version": "1.5.0",
          "state": {
            "_view_name": "HTMLView",
            "style": "IPY_MODEL_3ed24d9ae1034b689871db759ad4ed95",
            "_dom_classes": [],
            "description": "",
            "_model_name": "HTMLModel",
            "placeholder": "​",
            "_view_module": "@jupyter-widgets/controls",
            "_model_module_version": "1.5.0",
            "value": "Downloading: 100%",
            "_view_count": null,
            "_view_module_version": "1.5.0",
            "description_tooltip": null,
            "_model_module": "@jupyter-widgets/controls",
            "layout": "IPY_MODEL_cbba6660f8844b60a1ae5b27cfa2fc8c"
          }
        },
        "c454affbec614def97d3731cd621dbf0": {
          "model_module": "@jupyter-widgets/controls",
          "model_name": "FloatProgressModel",
          "model_module_version": "1.5.0",
          "state": {
            "_view_name": "ProgressView",
            "style": "IPY_MODEL_01c3fb87ecd144cbafa9d047f2ae45e4",
            "_dom_classes": [],
            "description": "",
            "_model_name": "FloatProgressModel",
            "bar_style": "success",
            "max": 536063208,
            "_view_module": "@jupyter-widgets/controls",
            "_model_module_version": "1.5.0",
            "value": 536063208,
            "_view_count": null,
            "_view_module_version": "1.5.0",
            "orientation": "horizontal",
            "min": 0,
            "description_tooltip": null,
            "_model_module": "@jupyter-widgets/controls",
            "layout": "IPY_MODEL_b3ab4e207e1b4ee09ccea484162cd263"
          }
        },
        "a8ad10eaa81e430ab79cd1f977edb371": {
          "model_module": "@jupyter-widgets/controls",
          "model_name": "HTMLModel",
          "model_module_version": "1.5.0",
          "state": {
            "_view_name": "HTMLView",
            "style": "IPY_MODEL_ab872faf867a408398d8465f46f6bb01",
            "_dom_classes": [],
            "description": "",
            "_model_name": "HTMLModel",
            "placeholder": "​",
            "_view_module": "@jupyter-widgets/controls",
            "_model_module_version": "1.5.0",
            "value": " 511M/511M [00:25&lt;00:00, 17.0MB/s]",
            "_view_count": null,
            "_view_module_version": "1.5.0",
            "description_tooltip": null,
            "_model_module": "@jupyter-widgets/controls",
            "layout": "IPY_MODEL_a77535e737dd4ede8c5d8eaf55fd14cd"
          }
        },
        "3ed24d9ae1034b689871db759ad4ed95": {
          "model_module": "@jupyter-widgets/controls",
          "model_name": "DescriptionStyleModel",
          "model_module_version": "1.5.0",
          "state": {
            "_view_name": "StyleView",
            "_model_name": "DescriptionStyleModel",
            "description_width": "",
            "_view_module": "@jupyter-widgets/base",
            "_model_module_version": "1.5.0",
            "_view_count": null,
            "_view_module_version": "1.2.0",
            "_model_module": "@jupyter-widgets/controls"
          }
        },
        "cbba6660f8844b60a1ae5b27cfa2fc8c": {
          "model_module": "@jupyter-widgets/base",
          "model_name": "LayoutModel",
          "model_module_version": "1.2.0",
          "state": {
            "_view_name": "LayoutView",
            "grid_template_rows": null,
            "right": null,
            "justify_content": null,
            "_view_module": "@jupyter-widgets/base",
            "overflow": null,
            "_model_module_version": "1.2.0",
            "_view_count": null,
            "flex_flow": null,
            "width": null,
            "min_width": null,
            "border": null,
            "align_items": null,
            "bottom": null,
            "_model_module": "@jupyter-widgets/base",
            "top": null,
            "grid_column": null,
            "overflow_y": null,
            "overflow_x": null,
            "grid_auto_flow": null,
            "grid_area": null,
            "grid_template_columns": null,
            "flex": null,
            "_model_name": "LayoutModel",
            "justify_items": null,
            "grid_row": null,
            "max_height": null,
            "align_content": null,
            "visibility": null,
            "align_self": null,
            "height": null,
            "min_height": null,
            "padding": null,
            "grid_auto_rows": null,
            "grid_gap": null,
            "max_width": null,
            "order": null,
            "_view_module_version": "1.2.0",
            "grid_template_areas": null,
            "object_position": null,
            "object_fit": null,
            "grid_auto_columns": null,
            "margin": null,
            "display": null,
            "left": null
          }
        },
        "01c3fb87ecd144cbafa9d047f2ae45e4": {
          "model_module": "@jupyter-widgets/controls",
          "model_name": "ProgressStyleModel",
          "model_module_version": "1.5.0",
          "state": {
            "_view_name": "StyleView",
            "_model_name": "ProgressStyleModel",
            "description_width": "",
            "_view_module": "@jupyter-widgets/base",
            "_model_module_version": "1.5.0",
            "_view_count": null,
            "_view_module_version": "1.2.0",
            "bar_color": null,
            "_model_module": "@jupyter-widgets/controls"
          }
        },
        "b3ab4e207e1b4ee09ccea484162cd263": {
          "model_module": "@jupyter-widgets/base",
          "model_name": "LayoutModel",
          "model_module_version": "1.2.0",
          "state": {
            "_view_name": "LayoutView",
            "grid_template_rows": null,
            "right": null,
            "justify_content": null,
            "_view_module": "@jupyter-widgets/base",
            "overflow": null,
            "_model_module_version": "1.2.0",
            "_view_count": null,
            "flex_flow": null,
            "width": null,
            "min_width": null,
            "border": null,
            "align_items": null,
            "bottom": null,
            "_model_module": "@jupyter-widgets/base",
            "top": null,
            "grid_column": null,
            "overflow_y": null,
            "overflow_x": null,
            "grid_auto_flow": null,
            "grid_area": null,
            "grid_template_columns": null,
            "flex": null,
            "_model_name": "LayoutModel",
            "justify_items": null,
            "grid_row": null,
            "max_height": null,
            "align_content": null,
            "visibility": null,
            "align_self": null,
            "height": null,
            "min_height": null,
            "padding": null,
            "grid_auto_rows": null,
            "grid_gap": null,
            "max_width": null,
            "order": null,
            "_view_module_version": "1.2.0",
            "grid_template_areas": null,
            "object_position": null,
            "object_fit": null,
            "grid_auto_columns": null,
            "margin": null,
            "display": null,
            "left": null
          }
        },
        "ab872faf867a408398d8465f46f6bb01": {
          "model_module": "@jupyter-widgets/controls",
          "model_name": "DescriptionStyleModel",
          "model_module_version": "1.5.0",
          "state": {
            "_view_name": "StyleView",
            "_model_name": "DescriptionStyleModel",
            "description_width": "",
            "_view_module": "@jupyter-widgets/base",
            "_model_module_version": "1.5.0",
            "_view_count": null,
            "_view_module_version": "1.2.0",
            "_model_module": "@jupyter-widgets/controls"
          }
        },
        "a77535e737dd4ede8c5d8eaf55fd14cd": {
          "model_module": "@jupyter-widgets/base",
          "model_name": "LayoutModel",
          "model_module_version": "1.2.0",
          "state": {
            "_view_name": "LayoutView",
            "grid_template_rows": null,
            "right": null,
            "justify_content": null,
            "_view_module": "@jupyter-widgets/base",
            "overflow": null,
            "_model_module_version": "1.2.0",
            "_view_count": null,
            "flex_flow": null,
            "width": null,
            "min_width": null,
            "border": null,
            "align_items": null,
            "bottom": null,
            "_model_module": "@jupyter-widgets/base",
            "top": null,
            "grid_column": null,
            "overflow_y": null,
            "overflow_x": null,
            "grid_auto_flow": null,
            "grid_area": null,
            "grid_template_columns": null,
            "flex": null,
            "_model_name": "LayoutModel",
            "justify_items": null,
            "grid_row": null,
            "max_height": null,
            "align_content": null,
            "visibility": null,
            "align_self": null,
            "height": null,
            "min_height": null,
            "padding": null,
            "grid_auto_rows": null,
            "grid_gap": null,
            "max_width": null,
            "order": null,
            "_view_module_version": "1.2.0",
            "grid_template_areas": null,
            "object_position": null,
            "object_fit": null,
            "grid_auto_columns": null,
            "margin": null,
            "display": null,
            "left": null
          }
        }
      }
    }
  },
  "nbformat": 4,
  "nbformat_minor": 0
}