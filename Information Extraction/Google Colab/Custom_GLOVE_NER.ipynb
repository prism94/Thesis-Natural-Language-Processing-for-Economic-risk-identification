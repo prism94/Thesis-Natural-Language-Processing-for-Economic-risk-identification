{
  "cells": [
    {
      "cell_type": "code",
      "execution_count": null,
      "metadata": {
        "colab": {
          "base_uri": "https://localhost:8080/"
        },
        "id": "iu8Mn6DCOV3-",
        "outputId": "4209dee3-ed56-47ed-9c79-1809ab64f48e"
      },
      "outputs": [
        {
          "output_type": "stream",
          "name": "stdout",
          "text": [
            "Collecting transformers\n",
            "  Downloading transformers-4.16.2-py3-none-any.whl (3.5 MB)\n",
            "\u001b[K     |████████████████████████████████| 3.5 MB 5.5 MB/s \n",
            "\u001b[?25hCollecting sacremoses\n",
            "  Downloading sacremoses-0.0.47-py2.py3-none-any.whl (895 kB)\n",
            "\u001b[K     |████████████████████████████████| 895 kB 38.6 MB/s \n",
            "\u001b[?25hCollecting tokenizers!=0.11.3,>=0.10.1\n",
            "  Downloading tokenizers-0.11.4-cp37-cp37m-manylinux_2_12_x86_64.manylinux2010_x86_64.whl (6.8 MB)\n",
            "\u001b[K     |████████████████████████████████| 6.8 MB 37.0 MB/s \n",
            "\u001b[?25hRequirement already satisfied: tqdm>=4.27 in /usr/local/lib/python3.7/dist-packages (from transformers) (4.62.3)\n",
            "Collecting pyyaml>=5.1\n",
            "  Downloading PyYAML-6.0-cp37-cp37m-manylinux_2_5_x86_64.manylinux1_x86_64.manylinux_2_12_x86_64.manylinux2010_x86_64.whl (596 kB)\n",
            "\u001b[K     |████████████████████████████████| 596 kB 34.9 MB/s \n",
            "\u001b[?25hCollecting huggingface-hub<1.0,>=0.1.0\n",
            "  Downloading huggingface_hub-0.4.0-py3-none-any.whl (67 kB)\n",
            "\u001b[K     |████████████████████████████████| 67 kB 2.7 MB/s \n",
            "\u001b[?25hRequirement already satisfied: packaging>=20.0 in /usr/local/lib/python3.7/dist-packages (from transformers) (21.3)\n",
            "Requirement already satisfied: regex!=2019.12.17 in /usr/local/lib/python3.7/dist-packages (from transformers) (2019.12.20)\n",
            "Requirement already satisfied: numpy>=1.17 in /usr/local/lib/python3.7/dist-packages (from transformers) (1.19.5)\n",
            "Requirement already satisfied: requests in /usr/local/lib/python3.7/dist-packages (from transformers) (2.23.0)\n",
            "Requirement already satisfied: filelock in /usr/local/lib/python3.7/dist-packages (from transformers) (3.4.2)\n",
            "Requirement already satisfied: importlib-metadata in /usr/local/lib/python3.7/dist-packages (from transformers) (4.10.1)\n",
            "Requirement already satisfied: typing-extensions>=3.7.4.3 in /usr/local/lib/python3.7/dist-packages (from huggingface-hub<1.0,>=0.1.0->transformers) (3.10.0.2)\n",
            "Requirement already satisfied: pyparsing!=3.0.5,>=2.0.2 in /usr/local/lib/python3.7/dist-packages (from packaging>=20.0->transformers) (3.0.7)\n",
            "Requirement already satisfied: zipp>=0.5 in /usr/local/lib/python3.7/dist-packages (from importlib-metadata->transformers) (3.7.0)\n",
            "Requirement already satisfied: chardet<4,>=3.0.2 in /usr/local/lib/python3.7/dist-packages (from requests->transformers) (3.0.4)\n",
            "Requirement already satisfied: idna<3,>=2.5 in /usr/local/lib/python3.7/dist-packages (from requests->transformers) (2.10)\n",
            "Requirement already satisfied: certifi>=2017.4.17 in /usr/local/lib/python3.7/dist-packages (from requests->transformers) (2021.10.8)\n",
            "Requirement already satisfied: urllib3!=1.25.0,!=1.25.1,<1.26,>=1.21.1 in /usr/local/lib/python3.7/dist-packages (from requests->transformers) (1.24.3)\n",
            "Requirement already satisfied: click in /usr/local/lib/python3.7/dist-packages (from sacremoses->transformers) (7.1.2)\n",
            "Requirement already satisfied: joblib in /usr/local/lib/python3.7/dist-packages (from sacremoses->transformers) (1.1.0)\n",
            "Requirement already satisfied: six in /usr/local/lib/python3.7/dist-packages (from sacremoses->transformers) (1.15.0)\n",
            "Installing collected packages: pyyaml, tokenizers, sacremoses, huggingface-hub, transformers\n",
            "  Attempting uninstall: pyyaml\n",
            "    Found existing installation: PyYAML 3.13\n",
            "    Uninstalling PyYAML-3.13:\n",
            "      Successfully uninstalled PyYAML-3.13\n",
            "Successfully installed huggingface-hub-0.4.0 pyyaml-6.0 sacremoses-0.0.47 tokenizers-0.11.4 transformers-4.16.2\n",
            "Collecting tensorflow_addons\n",
            "  Downloading tensorflow_addons-0.15.0-cp37-cp37m-manylinux_2_12_x86_64.manylinux2010_x86_64.whl (1.1 MB)\n",
            "\u001b[K     |████████████████████████████████| 1.1 MB 5.4 MB/s \n",
            "\u001b[?25hRequirement already satisfied: typeguard>=2.7 in /usr/local/lib/python3.7/dist-packages (from tensorflow_addons) (2.7.1)\n",
            "Installing collected packages: tensorflow-addons\n",
            "Successfully installed tensorflow-addons-0.15.0\n"
          ]
        }
      ],
      "source": [
        "!pip install transformers\n",
        "!pip install tensorflow_addons"
      ]
    },
    {
      "cell_type": "code",
      "execution_count": null,
      "metadata": {
        "id": "KYIDR_Ql0ZL0"
      },
      "outputs": [],
      "source": [
        "from google.colab import drive\n",
        "import pickle\n",
        "from transformers import BertTokenizer, TFAutoModel, AlbertTokenizerFast, TFBertModel\n",
        "import numpy as np\n",
        "import tensorflow as tf\n",
        "import tensorflow_addons as tfa\n",
        "from tensorflow.keras.callbacks import ModelCheckpoint\n",
        "import pickle"
      ]
    },
    {
      "cell_type": "code",
      "execution_count": null,
      "metadata": {
        "colab": {
          "base_uri": "https://localhost:8080/"
        },
        "id": "hUJs3P6FNYoA",
        "outputId": "97c81698-3736-4ebb-f53e-b1e5595715ff"
      },
      "outputs": [
        {
          "output_type": "stream",
          "name": "stdout",
          "text": [
            "Mounted at /content/drive\n"
          ]
        }
      ],
      "source": [
        "drive.mount('/content/drive')"
      ]
    },
    {
      "cell_type": "code",
      "execution_count": null,
      "metadata": {
        "id": "dEptRkiJNa4v"
      },
      "outputs": [],
      "source": [
        "drive_loc = './drive/MyDrive/'\n",
        "with open(f'/content/drive/MyDrive/Token_Data.pkl', 'rb' ) as f:\n",
        "  X, y, tok, embedding_matrix = pickle.load(f)"
      ]
    },
    {
      "cell_type": "code",
      "execution_count": null,
      "metadata": {
        "id": "UonGSlkgTOIH"
      },
      "outputs": [],
      "source": [
        "y = y.tolist()\n",
        "\n",
        "for i in range(len(y)):\n",
        "    for n in range(len(y[i])):\n",
        "        summer = np.array(y[i][n]).sum()\n",
        "        if summer == 0:\n",
        "            new = 1\n",
        "        else:\n",
        "            new = 0\n",
        "        y[i][n].append(new)\n",
        "y = np.array(y)"
      ]
    },
    {
      "cell_type": "code",
      "execution_count": null,
      "metadata": {
        "colab": {
          "base_uri": "https://localhost:8080/",
          "height": 35
        },
        "id": "visTsXzKdROa",
        "outputId": "ebd5e42f-e1ee-4b9e-a6dd-0c31d6fbc6e7"
      },
      "outputs": [
        {
          "output_type": "execute_result",
          "data": {
            "application/vnd.google.colaboratory.intrinsic+json": {
              "type": "string"
            },
            "text/plain": [
              "'X = X.tolist()\\nnew_X = []\\nfor i in range(len(X)):\\n  Xer = np.array(X[i])\\n  Xer = Xer[Xer!=0]\\n  new_X.append(Xer)\\nX = np.array(new_X)\\ndel new_X'"
            ]
          },
          "metadata": {},
          "execution_count": 6
        }
      ],
      "source": [
        "#Masking not working\n",
        "\"\"\"X = X.tolist()\n",
        "new_X = []\n",
        "for i in range(len(X)):\n",
        "  Xer = np.array(X[i])\n",
        "  Xer = Xer[Xer!=0]\n",
        "  new_X.append(Xer)\n",
        "X = np.array(new_X)\n",
        "del new_X\"\"\""
      ]
    },
    {
      "cell_type": "code",
      "execution_count": null,
      "metadata": {
        "id": "saDfqRyROZvM"
      },
      "outputs": [],
      "source": [
        "max_length = 1000\n",
        "split = 0.75\n",
        "\n",
        "X_train = X[:int(len(X)*split)]\n",
        "y_train = y[:int(len(y)*split)]\n",
        "\n",
        "X_test = X[int(len(X)*split):]\n",
        "y_test = y[int(len(y)*split):]\n"
      ]
    },
    {
      "cell_type": "code",
      "execution_count": null,
      "metadata": {
        "id": "360vki4fPGfk"
      },
      "outputs": [],
      "source": [
        "from tensorflow.keras.models import Sequential\n",
        "from tensorflow.keras import Model, Input\n",
        "from tensorflow.keras.layers import LSTM, Embedding, Dense, Dropout, SimpleRNN, RNN, GRU\n",
        "from tensorflow.keras.layers import TimeDistributed, SpatialDropout1D, Bidirectional\n",
        "from tensorflow.keras.optimizers import Adam\n",
        "\n",
        "def create_model():\n",
        "\n",
        "  model = Sequential()\n",
        "  model.add(Embedding(len(embedding_matrix), 300, weights=[embedding_matrix], input_length=max_length, trainable=False))#, mask_zero=True))\n",
        "  model.add(Bidirectional(LSTM(500, return_sequences=True)))#Bidirectional()\n",
        "  model.add(Dropout(0.5))\n",
        "  model.add(Dense(250, activation='relu'))\n",
        "  model.add(Dense(y.shape[2], activation='softmax'))\n",
        "  opt = Adam()\n",
        "\n",
        "  model.compile(loss='categorical_crossentropy', optimizer=opt, metrics = ['accuracy'])\n",
        "\n",
        "  return model"
      ]
    },
    {
      "cell_type": "code",
      "execution_count": null,
      "metadata": {
        "colab": {
          "base_uri": "https://localhost:8080/"
        },
        "id": "X0Hbl5-FPcoi",
        "outputId": "461d7291-e99b-4279-a70a-a3988bdb32ce"
      },
      "outputs": [
        {
          "output_type": "stream",
          "name": "stdout",
          "text": [
            "INFO:tensorflow:Deallocate tpu buffers before initializing tpu system.\n"
          ]
        },
        {
          "output_type": "stream",
          "name": "stderr",
          "text": [
            "INFO:tensorflow:Deallocate tpu buffers before initializing tpu system.\n"
          ]
        },
        {
          "output_type": "stream",
          "name": "stdout",
          "text": [
            "INFO:tensorflow:Initializing the TPU system: grpc://10.9.194.114:8470\n"
          ]
        },
        {
          "output_type": "stream",
          "name": "stderr",
          "text": [
            "INFO:tensorflow:Initializing the TPU system: grpc://10.9.194.114:8470\n"
          ]
        },
        {
          "output_type": "stream",
          "name": "stdout",
          "text": [
            "INFO:tensorflow:Finished initializing TPU system.\n"
          ]
        },
        {
          "output_type": "stream",
          "name": "stderr",
          "text": [
            "INFO:tensorflow:Finished initializing TPU system.\n"
          ]
        },
        {
          "output_type": "stream",
          "name": "stdout",
          "text": [
            "INFO:tensorflow:Found TPU system:\n"
          ]
        },
        {
          "output_type": "stream",
          "name": "stderr",
          "text": [
            "INFO:tensorflow:Found TPU system:\n"
          ]
        },
        {
          "output_type": "stream",
          "name": "stdout",
          "text": [
            "INFO:tensorflow:*** Num TPU Cores: 8\n"
          ]
        },
        {
          "output_type": "stream",
          "name": "stderr",
          "text": [
            "INFO:tensorflow:*** Num TPU Cores: 8\n"
          ]
        },
        {
          "output_type": "stream",
          "name": "stdout",
          "text": [
            "INFO:tensorflow:*** Num TPU Workers: 1\n"
          ]
        },
        {
          "output_type": "stream",
          "name": "stderr",
          "text": [
            "INFO:tensorflow:*** Num TPU Workers: 1\n"
          ]
        },
        {
          "output_type": "stream",
          "name": "stdout",
          "text": [
            "INFO:tensorflow:*** Num TPU Cores Per Worker: 8\n"
          ]
        },
        {
          "output_type": "stream",
          "name": "stderr",
          "text": [
            "INFO:tensorflow:*** Num TPU Cores Per Worker: 8\n"
          ]
        },
        {
          "output_type": "stream",
          "name": "stdout",
          "text": [
            "INFO:tensorflow:*** Available Device: _DeviceAttributes(/job:localhost/replica:0/task:0/device:CPU:0, CPU, 0, 0)\n"
          ]
        },
        {
          "output_type": "stream",
          "name": "stderr",
          "text": [
            "INFO:tensorflow:*** Available Device: _DeviceAttributes(/job:localhost/replica:0/task:0/device:CPU:0, CPU, 0, 0)\n"
          ]
        },
        {
          "output_type": "stream",
          "name": "stdout",
          "text": [
            "INFO:tensorflow:*** Available Device: _DeviceAttributes(/job:worker/replica:0/task:0/device:CPU:0, CPU, 0, 0)\n"
          ]
        },
        {
          "output_type": "stream",
          "name": "stderr",
          "text": [
            "INFO:tensorflow:*** Available Device: _DeviceAttributes(/job:worker/replica:0/task:0/device:CPU:0, CPU, 0, 0)\n"
          ]
        },
        {
          "output_type": "stream",
          "name": "stdout",
          "text": [
            "INFO:tensorflow:*** Available Device: _DeviceAttributes(/job:worker/replica:0/task:0/device:TPU:0, TPU, 0, 0)\n"
          ]
        },
        {
          "output_type": "stream",
          "name": "stderr",
          "text": [
            "INFO:tensorflow:*** Available Device: _DeviceAttributes(/job:worker/replica:0/task:0/device:TPU:0, TPU, 0, 0)\n"
          ]
        },
        {
          "output_type": "stream",
          "name": "stdout",
          "text": [
            "INFO:tensorflow:*** Available Device: _DeviceAttributes(/job:worker/replica:0/task:0/device:TPU:1, TPU, 0, 0)\n"
          ]
        },
        {
          "output_type": "stream",
          "name": "stderr",
          "text": [
            "INFO:tensorflow:*** Available Device: _DeviceAttributes(/job:worker/replica:0/task:0/device:TPU:1, TPU, 0, 0)\n"
          ]
        },
        {
          "output_type": "stream",
          "name": "stdout",
          "text": [
            "INFO:tensorflow:*** Available Device: _DeviceAttributes(/job:worker/replica:0/task:0/device:TPU:2, TPU, 0, 0)\n"
          ]
        },
        {
          "output_type": "stream",
          "name": "stderr",
          "text": [
            "INFO:tensorflow:*** Available Device: _DeviceAttributes(/job:worker/replica:0/task:0/device:TPU:2, TPU, 0, 0)\n"
          ]
        },
        {
          "output_type": "stream",
          "name": "stdout",
          "text": [
            "INFO:tensorflow:*** Available Device: _DeviceAttributes(/job:worker/replica:0/task:0/device:TPU:3, TPU, 0, 0)\n"
          ]
        },
        {
          "output_type": "stream",
          "name": "stderr",
          "text": [
            "INFO:tensorflow:*** Available Device: _DeviceAttributes(/job:worker/replica:0/task:0/device:TPU:3, TPU, 0, 0)\n"
          ]
        },
        {
          "output_type": "stream",
          "name": "stdout",
          "text": [
            "INFO:tensorflow:*** Available Device: _DeviceAttributes(/job:worker/replica:0/task:0/device:TPU:4, TPU, 0, 0)\n"
          ]
        },
        {
          "output_type": "stream",
          "name": "stderr",
          "text": [
            "INFO:tensorflow:*** Available Device: _DeviceAttributes(/job:worker/replica:0/task:0/device:TPU:4, TPU, 0, 0)\n"
          ]
        },
        {
          "output_type": "stream",
          "name": "stdout",
          "text": [
            "INFO:tensorflow:*** Available Device: _DeviceAttributes(/job:worker/replica:0/task:0/device:TPU:5, TPU, 0, 0)\n"
          ]
        },
        {
          "output_type": "stream",
          "name": "stderr",
          "text": [
            "INFO:tensorflow:*** Available Device: _DeviceAttributes(/job:worker/replica:0/task:0/device:TPU:5, TPU, 0, 0)\n"
          ]
        },
        {
          "output_type": "stream",
          "name": "stdout",
          "text": [
            "INFO:tensorflow:*** Available Device: _DeviceAttributes(/job:worker/replica:0/task:0/device:TPU:6, TPU, 0, 0)\n"
          ]
        },
        {
          "output_type": "stream",
          "name": "stderr",
          "text": [
            "INFO:tensorflow:*** Available Device: _DeviceAttributes(/job:worker/replica:0/task:0/device:TPU:6, TPU, 0, 0)\n"
          ]
        },
        {
          "output_type": "stream",
          "name": "stdout",
          "text": [
            "INFO:tensorflow:*** Available Device: _DeviceAttributes(/job:worker/replica:0/task:0/device:TPU:7, TPU, 0, 0)\n"
          ]
        },
        {
          "output_type": "stream",
          "name": "stderr",
          "text": [
            "INFO:tensorflow:*** Available Device: _DeviceAttributes(/job:worker/replica:0/task:0/device:TPU:7, TPU, 0, 0)\n"
          ]
        },
        {
          "output_type": "stream",
          "name": "stdout",
          "text": [
            "INFO:tensorflow:*** Available Device: _DeviceAttributes(/job:worker/replica:0/task:0/device:TPU_SYSTEM:0, TPU_SYSTEM, 0, 0)\n"
          ]
        },
        {
          "output_type": "stream",
          "name": "stderr",
          "text": [
            "INFO:tensorflow:*** Available Device: _DeviceAttributes(/job:worker/replica:0/task:0/device:TPU_SYSTEM:0, TPU_SYSTEM, 0, 0)\n"
          ]
        },
        {
          "output_type": "stream",
          "name": "stdout",
          "text": [
            "INFO:tensorflow:*** Available Device: _DeviceAttributes(/job:worker/replica:0/task:0/device:XLA_CPU:0, XLA_CPU, 0, 0)\n"
          ]
        },
        {
          "output_type": "stream",
          "name": "stderr",
          "text": [
            "INFO:tensorflow:*** Available Device: _DeviceAttributes(/job:worker/replica:0/task:0/device:XLA_CPU:0, XLA_CPU, 0, 0)\n"
          ]
        }
      ],
      "source": [
        "tpu = tf.distribute.cluster_resolver.TPUClusterResolver()\n",
        "tf.config.experimental_connect_to_cluster(tpu)\n",
        "tf.tpu.experimental.initialize_tpu_system(tpu)\n",
        "strategy = tf.distribute.TPUStrategy(tpu)\n",
        "\n",
        "# Create model\n",
        "with strategy.scope():\n",
        "    model = create_model()"
      ]
    },
    {
      "cell_type": "code",
      "execution_count": null,
      "metadata": {
        "id": "iojJMxamPfeo",
        "colab": {
          "base_uri": "https://localhost:8080/"
        },
        "outputId": "0f4dff66-5e23-4839-924f-2fd10ed94af5"
      },
      "outputs": [
        {
          "output_type": "stream",
          "name": "stdout",
          "text": [
            "Model: \"sequential\"\n",
            "_________________________________________________________________\n",
            " Layer (type)                Output Shape              Param #   \n",
            "=================================================================\n",
            " embedding (Embedding)       (None, 1000, 300)         3050700   \n",
            "                                                                 \n",
            " bidirectional (Bidirectiona  (None, 1000, 1000)       3204000   \n",
            " l)                                                              \n",
            "                                                                 \n",
            " dropout (Dropout)           (None, 1000, 1000)        0         \n",
            "                                                                 \n",
            " dense (Dense)               (None, 1000, 6)           6006      \n",
            "                                                                 \n",
            "=================================================================\n",
            "Total params: 6,260,706\n",
            "Trainable params: 3,210,006\n",
            "Non-trainable params: 3,050,700\n",
            "_________________________________________________________________\n"
          ]
        }
      ],
      "source": [
        "model.summary()"
      ]
    },
    {
      "cell_type": "code",
      "execution_count": null,
      "metadata": {
        "id": "gbCRR2jpQP6d",
        "colab": {
          "base_uri": "https://localhost:8080/"
        },
        "outputId": "a9d00d63-1df7-49a0-80aa-48f6a99562ee"
      },
      "outputs": [
        {
          "output_type": "stream",
          "name": "stdout",
          "text": [
            "Iteration: 0\n",
            "WARNING:tensorflow:From /usr/local/lib/python3.7/dist-packages/keras/engine/training.py:2970: StrategyBase.unwrap (from tensorflow.python.distribute.distribute_lib) is deprecated and will be removed in a future version.\n",
            "Instructions for updating:\n",
            "use `experimental_local_results` instead.\n"
          ]
        },
        {
          "output_type": "stream",
          "name": "stderr",
          "text": [
            "WARNING:tensorflow:From /usr/local/lib/python3.7/dist-packages/keras/engine/training.py:2970: StrategyBase.unwrap (from tensorflow.python.distribute.distribute_lib) is deprecated and will be removed in a future version.\n",
            "Instructions for updating:\n",
            "use `experimental_local_results` instead.\n"
          ]
        },
        {
          "output_type": "stream",
          "name": "stdout",
          "text": [
            "50/50 [==============================] - 27s 358ms/step - loss: 0.4506 - accuracy: 0.9086 - val_loss: 0.2101 - val_accuracy: 0.9399\n",
            "Iteration: 1\n",
            "50/50 [==============================] - 15s 300ms/step - loss: 0.2344 - accuracy: 0.9294 - val_loss: 0.1873 - val_accuracy: 0.9428\n",
            "Iteration: 2\n",
            "50/50 [==============================] - 15s 308ms/step - loss: 0.2112 - accuracy: 0.9330 - val_loss: 0.1789 - val_accuracy: 0.9463\n",
            "Iteration: 3\n",
            "50/50 [==============================] - 15s 300ms/step - loss: 0.2029 - accuracy: 0.9363 - val_loss: 0.1713 - val_accuracy: 0.9481\n",
            "Iteration: 4\n",
            "50/50 [==============================] - 15s 301ms/step - loss: 0.1902 - accuracy: 0.9389 - val_loss: 0.1820 - val_accuracy: 0.9423\n",
            "Iteration: 5\n",
            "50/50 [==============================] - 15s 300ms/step - loss: 0.1841 - accuracy: 0.9389 - val_loss: 0.1723 - val_accuracy: 0.9457\n",
            "Iteration: 6\n",
            "50/50 [==============================] - 15s 299ms/step - loss: 0.1825 - accuracy: 0.9398 - val_loss: 0.1648 - val_accuracy: 0.9499\n",
            "Iteration: 7\n",
            "50/50 [==============================] - 15s 308ms/step - loss: 0.1780 - accuracy: 0.9409 - val_loss: 0.1633 - val_accuracy: 0.9489\n",
            "Iteration: 8\n",
            "50/50 [==============================] - 15s 301ms/step - loss: 0.1737 - accuracy: 0.9428 - val_loss: 0.1718 - val_accuracy: 0.9442\n",
            "Iteration: 9\n",
            "50/50 [==============================] - 15s 302ms/step - loss: 0.1730 - accuracy: 0.9428 - val_loss: 0.1833 - val_accuracy: 0.9470\n"
          ]
        }
      ],
      "source": [
        "import time\n",
        "\n",
        "iter = 10\n",
        "best_model_val = 0\n",
        "checkpoint_dir = checkpoint_dir = f'{drive_loc}/GLOVE_NER_LSTM'\n",
        "\n",
        "#Saving models differently as there was consistent implementation error with google drive\n",
        "\n",
        "model_1_vals = {}\n",
        "\n",
        "for i in range(iter):\n",
        "  print(f'Iteration: {i}')\n",
        "  history = model.fit(X_train, y_train,\n",
        "                    validation_data = (X_test, y_test),\n",
        "                    epochs = 1,\n",
        "                    batch_size=6,\n",
        "                    verbose=1\n",
        "                    )\n",
        "  model_val = history.history['val_accuracy'][0]\n",
        "  if model_val > best_model_val:\n",
        "    try:\n",
        "      model.save_weights(f'{checkpoint_dir}.h5')\n",
        "      best_model_val = model_val\n",
        "    except:\n",
        "      time.sleep(5)\n",
        "      model.save_weights(f'{checkpoint_dir}.h5')\n",
        "      best_model_val = model_val\n",
        "\n",
        "  \n",
        "  for key in history.history.keys():\n",
        "    if key not in model_1_vals:\n",
        "      model_1_vals[key] = []\n",
        "    model_1_vals[key].append(history.history[key][0])\n",
        "\n",
        "model.load_weights(f'{checkpoint_dir}.h5')"
      ]
    },
    {
      "cell_type": "code",
      "execution_count": null,
      "metadata": {
        "id": "GfC2TTU_Nn0c",
        "colab": {
          "base_uri": "https://localhost:8080/",
          "height": 545
        },
        "outputId": "7474de52-9759-4821-f59e-ce4565e771d8"
      },
      "outputs": [
        {
          "output_type": "display_data",
          "data": {
            "image/png": "[encoded data removed]",
            "text/plain": [
              "<Figure size 432x288 with 1 Axes>"
            ]
          },
          "metadata": {
            "needs_background": "light"
          }
        },
        {
          "output_type": "display_data",
          "data": {
            "image/png": "[encoded data removed]",
            "text/plain": [
              "<Figure size 432x288 with 1 Axes>"
            ]
          },
          "metadata": {
            "needs_background": "light"
          }
        }
      ],
      "source": [
        "import matplotlib.pyplot as plt\n",
        "\n",
        "plt.plot(model_1_vals['val_loss'])\n",
        "plt.plot(model_1_vals['loss'])\n",
        "plt.legend(['val_loss', 'loss'])\n",
        "plt.title('Loss')\n",
        "plt.show()\n",
        "\n",
        "plt.plot(model_1_vals['accuracy'])\n",
        "plt.plot(model_1_vals['val_accuracy'])\n",
        "plt.legend(['accuracy', 'val_accuracy'])\n",
        "plt.title('Accuracy')\n",
        "plt.show()"
      ]
    },
    {
      "cell_type": "code",
      "execution_count": null,
      "metadata": {
        "id": "2duncsX7QeYf"
      },
      "outputs": [],
      "source": [
        "import copy\n",
        "def get_entities(text, out, prob):\n",
        "  output = copy.copy(out)\n",
        "  output[output> prob] = 1\n",
        "  output[output<= prob] = 0\n",
        "\n",
        "  identified = []\n",
        "\n",
        "  entity_loc = {\n",
        "    2:[\"Reason\", False, []],\n",
        "    1:[\"Defendant\",False, []],\n",
        "    3:[\"Penalties\", False, []],\n",
        "    4:[\"Outcome\", False, []],\n",
        "    0:[\"Platiff\", False, []]\n",
        "  }\n",
        "\n",
        "  for i in range(0, len(output)):\n",
        "      word = text[i]\n",
        "      for n in range(5):\n",
        "          open = entity_loc[n][1]\n",
        "          val = output[i, n]\n",
        "          if open == True:\n",
        "              if val == 1:\n",
        "                  entity_loc[n][2].append(word)\n",
        "              else:\n",
        "                  entity_loc[n][1] = False\n",
        "                  identified.append([entity_loc[n][0], tok.sequences_to_texts([entity_loc[n][2]])])\n",
        "                  entity_loc[n][2] = []\n",
        "          else:\n",
        "              if val == 1:\n",
        "                  entity_loc[n][2].append(word)\n",
        "                  entity_loc[n][1] = True\n",
        "\n",
        "  return identified"
      ]
    },
    {
      "cell_type": "code",
      "execution_count": null,
      "metadata": {
        "id": "LlqZbRCPQnH8"
      },
      "outputs": [],
      "source": [
        "predictions = model.predict(X_test)"
      ]
    },
    {
      "cell_type": "code",
      "execution_count": null,
      "metadata": {
        "id": "IlEQVyy7QqkH",
        "colab": {
          "base_uri": "https://localhost:8080/"
        },
        "outputId": "0d277ca0-4fd5-4c2b-df48-7bcd4413fa31"
      },
      "outputs": [
        {
          "output_type": "execute_result",
          "data": {
            "text/plain": [
              "array([0.00391591, 0.01119875, 0.03824417, 0.0015139 , 0.00520707,\n",
              "       0.9399201 ], dtype=float32)"
            ]
          },
          "metadata": {},
          "execution_count": 15
        }
      ],
      "source": [
        "predictions[2][0]"
      ]
    },
    {
      "cell_type": "code",
      "execution_count": null,
      "metadata": {
        "id": "qp11sUewSe_6",
        "colab": {
          "base_uri": "https://localhost:8080/"
        },
        "outputId": "76d41728-b7c6-4945-cecf-fc91d6dccff1"
      },
      "outputs": [
        {
          "output_type": "execute_result",
          "data": {
            "text/plain": [
              "[['Outcome', ['cleared']],\n",
              " ['Defendant', ['exxon mobil corp']],\n",
              " ['Reason',\n",
              "  ['the oil company for decades concealed its knowledge of the role fossil fuels']],\n",
              " ['Reason', ['misled']],\n",
              " ['Defendant', ['exxon']],\n",
              " ['Defendant', ['exxon']],\n",
              " ['Defendant', ['exxon']],\n",
              " ['Reason', ['systematic scheme']],\n",
              " ['Reason', ['investors']],\n",
              " ['Defendant', ['exxon']],\n",
              " ['Defendant', ['exxon']],\n",
              " ['Defendant', ['exxon']],\n",
              " ['Defendant', ['mobil']],\n",
              " ['Defendant', ['exxon']]]"
            ]
          },
          "metadata": {},
          "execution_count": 16
        }
      ],
      "source": [
        "get_entities(X_test[12], predictions[12], 0.5)"
      ]
    },
    {
      "cell_type": "code",
      "execution_count": null,
      "metadata": {
        "id": "58VhrnbAPMcY"
      },
      "outputs": [],
      "source": [
        "entity_diction = {\n",
        "    \"Platiff\":0,\n",
        "    \"Defendant\":1,\n",
        "    \"Reason\":2,\n",
        "    \"Penalties\":3,\n",
        "    \"Outcome\":4,\n",
        "    \"No-Tag\":5\n",
        "}\n",
        "\n",
        "metrics = {\n",
        "    \n",
        "}\n",
        "\n",
        "predictions = model.predict(X_test)\n",
        "\n",
        "predictions[predictions > 0.5] = 1\n",
        "predictions[predictions <= 0.5] = 0\n",
        "\n",
        "for key in entity_diction.keys():\n",
        "  val = entity_diction[key]\n",
        "  metrics[key] = {'Pred':[],\n",
        "                  'Actual':[]\n",
        "                  }\n",
        "  for i in range(len(X_test)):\n",
        "    for n in range(len(X_test[i])):\n",
        "        mask = X_test[i][n]\n",
        "        if mask != 0:\n",
        "            metrics[key]['Pred'].append(predictions[i][n][val])\n",
        "            metrics[key]['Actual'].append(y_test[i][n][val])\n"
      ]
    },
    {
      "cell_type": "code",
      "execution_count": null,
      "metadata": {
        "id": "wxd1i0gzPOSF"
      },
      "outputs": [],
      "source": [
        "from sklearn.metrics import accuracy_score, precision_score, recall_score, f1_score\n",
        "\n",
        "outputer = {'Label':[],\n",
        "            'Accuracy':[],\n",
        "            'Precision':[],\n",
        "            'Recall':[],\n",
        "            'F1 Score':[]}\n",
        "\n",
        "for key in metrics.keys():\n",
        "    outputer['Label'].append(key)\n",
        "    outputer['Accuracy'].append(accuracy_score(metrics[key]['Actual'], metrics[key]['Pred']))\n",
        "    outputer['Precision'].append(precision_score(metrics[key]['Actual'], metrics[key]['Pred']))\n",
        "    outputer['Recall'].append(recall_score(metrics[key]['Actual'], metrics[key]['Pred']))\n",
        "    outputer['F1 Score'].append(f1_score(metrics[key]['Actual'], metrics[key]['Pred']))"
      ]
    },
    {
      "cell_type": "code",
      "execution_count": null,
      "metadata": {
        "id": "ksnvN38ePP8M",
        "colab": {
          "base_uri": "https://localhost:8080/",
          "height": 237
        },
        "outputId": "e6977e62-7264-41ac-8472-e63445a0e1de"
      },
      "outputs": [
        {
          "output_type": "execute_result",
          "data": {
            "text/html": [
              "\n",
              "  <div id=\"df-cb29ee4c-fc6c-4bed-81de-bd780e23c80d\">\n",
              "    <div class=\"colab-df-container\">\n",
              "      <div>\n",
              "<style scoped>\n",
              "    .dataframe tbody tr th:only-of-type {\n",
              "        vertical-align: middle;\n",
              "    }\n",
              "\n",
              "    .dataframe tbody tr th {\n",
              "        vertical-align: top;\n",
              "    }\n",
              "\n",
              "    .dataframe thead th {\n",
              "        text-align: right;\n",
              "    }\n",
              "</style>\n",
              "<table border=\"1\" class=\"dataframe\">\n",
              "  <thead>\n",
              "    <tr style=\"text-align: right;\">\n",
              "      <th></th>\n",
              "      <th>Label</th>\n",
              "      <th>Accuracy</th>\n",
              "      <th>Precision</th>\n",
              "      <th>Recall</th>\n",
              "      <th>F1 Score</th>\n",
              "    </tr>\n",
              "  </thead>\n",
              "  <tbody>\n",
              "    <tr>\n",
              "      <th>0</th>\n",
              "      <td>Platiff</td>\n",
              "      <td>0.975721</td>\n",
              "      <td>0.634518</td>\n",
              "      <td>0.146714</td>\n",
              "      <td>0.238322</td>\n",
              "    </tr>\n",
              "    <tr>\n",
              "      <th>1</th>\n",
              "      <td>Defendant</td>\n",
              "      <td>0.974232</td>\n",
              "      <td>0.704965</td>\n",
              "      <td>0.437115</td>\n",
              "      <td>0.539631</td>\n",
              "    </tr>\n",
              "    <tr>\n",
              "      <th>2</th>\n",
              "      <td>Reason</td>\n",
              "      <td>0.919171</td>\n",
              "      <td>0.754039</td>\n",
              "      <td>0.260384</td>\n",
              "      <td>0.387097</td>\n",
              "    </tr>\n",
              "    <tr>\n",
              "      <th>3</th>\n",
              "      <td>Penalties</td>\n",
              "      <td>0.996961</td>\n",
              "      <td>0.596154</td>\n",
              "      <td>0.281818</td>\n",
              "      <td>0.382716</td>\n",
              "    </tr>\n",
              "    <tr>\n",
              "      <th>4</th>\n",
              "      <td>Outcome</td>\n",
              "      <td>0.965845</td>\n",
              "      <td>0.577406</td>\n",
              "      <td>0.118863</td>\n",
              "      <td>0.197143</td>\n",
              "    </tr>\n",
              "    <tr>\n",
              "      <th>5</th>\n",
              "      <td>No-Tag</td>\n",
              "      <td>0.856240</td>\n",
              "      <td>0.876398</td>\n",
              "      <td>0.958699</td>\n",
              "      <td>0.915703</td>\n",
              "    </tr>\n",
              "  </tbody>\n",
              "</table>\n",
              "</div>\n",
              "      <button class=\"colab-df-convert\" onclick=\"convertToInteractive('df-cb29ee4c-fc6c-4bed-81de-bd780e23c80d')\"\n",
              "              title=\"Convert this dataframe to an interactive table.\"\n",
              "              style=\"display:none;\">\n",
              "        \n",
              "  <svg xmlns=\"http://www.w3.org/2000/svg\" height=\"24px\"viewBox=\"0 0 24 24\"\n",
              "       width=\"24px\">\n",
              "    <path d=\"M0 0h24v24H0V0z\" fill=\"none\"/>\n",
              "    <path d=\"M18.56 5.44l.94 2.06.94-2.06 2.06-.94-2.06-.94-.94-2.06-.94 2.06-2.06.94zm-11 1L8.5 8.5l.94-2.06 2.06-.94-2.06-.94L8.5 2.5l-.94 2.06-2.06.94zm10 10l.94 2.06.94-2.06 2.06-.94-2.06-.94-.94-2.06-.94 2.06-2.06.94z\"/><path d=\"M17.41 7.96l-1.37-1.37c-.4-.4-.92-.59-1.43-.59-.52 0-1.04.2-1.43.59L10.3 9.45l-7.72 7.72c-.78.78-.78 2.05 0 2.83L4 21.41c.39.39.9.59 1.41.59.51 0 1.02-.2 1.41-.59l7.78-7.78 2.81-2.81c.8-.78.8-2.07 0-2.86zM5.41 20L4 18.59l7.72-7.72 1.47 1.35L5.41 20z\"/>\n",
              "  </svg>\n",
              "      </button>\n",
              "      \n",
              "  <style>\n",
              "    .colab-df-container {\n",
              "      display:flex;\n",
              "      flex-wrap:wrap;\n",
              "      gap: 12px;\n",
              "    }\n",
              "\n",
              "    .colab-df-convert {\n",
              "      background-color: #E8F0FE;\n",
              "      border: none;\n",
              "      border-radius: 50%;\n",
              "      cursor: pointer;\n",
              "      display: none;\n",
              "      fill: #1967D2;\n",
              "      height: 32px;\n",
              "      padding: 0 0 0 0;\n",
              "      width: 32px;\n",
              "    }\n",
              "\n",
              "    .colab-df-convert:hover {\n",
              "      background-color: #E2EBFA;\n",
              "      box-shadow: 0px 1px 2px rgba(60, 64, 67, 0.3), 0px 1px 3px 1px rgba(60, 64, 67, 0.15);\n",
              "      fill: #174EA6;\n",
              "    }\n",
              "\n",
              "    [theme=dark] .colab-df-convert {\n",
              "      background-color: #3B4455;\n",
              "      fill: #D2E3FC;\n",
              "    }\n",
              "\n",
              "    [theme=dark] .colab-df-convert:hover {\n",
              "      background-color: #434B5C;\n",
              "      box-shadow: 0px 1px 3px 1px rgba(0, 0, 0, 0.15);\n",
              "      filter: drop-shadow(0px 1px 2px rgba(0, 0, 0, 0.3));\n",
              "      fill: #FFFFFF;\n",
              "    }\n",
              "  </style>\n",
              "\n",
              "      <script>\n",
              "        const buttonEl =\n",
              "          document.querySelector('#df-cb29ee4c-fc6c-4bed-81de-bd780e23c80d button.colab-df-convert');\n",
              "        buttonEl.style.display =\n",
              "          google.colab.kernel.accessAllowed ? 'block' : 'none';\n",
              "\n",
              "        async function convertToInteractive(key) {\n",
              "          const element = document.querySelector('#df-cb29ee4c-fc6c-4bed-81de-bd780e23c80d');\n",
              "          const dataTable =\n",
              "            await google.colab.kernel.invokeFunction('convertToInteractive',\n",
              "                                                     [key], {});\n",
              "          if (!dataTable) return;\n",
              "\n",
              "          const docLinkHtml = 'Like what you see? Visit the ' +\n",
              "            '<a target=\"_blank\" href=https://colab.research.google.com/notebooks/data_table.ipynb>data table notebook</a>'\n",
              "            + ' to learn more about interactive tables.';\n",
              "          element.innerHTML = '';\n",
              "          dataTable['output_type'] = 'display_data';\n",
              "          await google.colab.output.renderOutput(dataTable, element);\n",
              "          const docLink = document.createElement('div');\n",
              "          docLink.innerHTML = docLinkHtml;\n",
              "          element.appendChild(docLink);\n",
              "        }\n",
              "      </script>\n",
              "    </div>\n",
              "  </div>\n",
              "  "
            ],
            "text/plain": [
              "       Label  Accuracy  Precision    Recall  F1 Score\n",
              "0    Platiff  0.975721   0.634518  0.146714  0.238322\n",
              "1  Defendant  0.974232   0.704965  0.437115  0.539631\n",
              "2     Reason  0.919171   0.754039  0.260384  0.387097\n",
              "3  Penalties  0.996961   0.596154  0.281818  0.382716\n",
              "4    Outcome  0.965845   0.577406  0.118863  0.197143\n",
              "5     No-Tag  0.856240   0.876398  0.958699  0.915703"
            ]
          },
          "metadata": {},
          "execution_count": 19
        }
      ],
      "source": [
        "import pandas as pd\n",
        "pd.DataFrame(outputer, columns=['Label', 'Accuracy','Precision', 'Recall', 'F1 Score'])"
      ]
    }
  ],
  "metadata": {
    "accelerator": "TPU",
    "colab": {
      "collapsed_sections": [],
      "name": "Custom-GLOVE-NER.ipynb",
      "provenance": []
    },
    "kernelspec": {
      "display_name": "Python 3",
      "name": "python3"
    },
    "language_info": {
      "name": "python"
    }
  },
  "nbformat": 4,
  "nbformat_minor": 0
}