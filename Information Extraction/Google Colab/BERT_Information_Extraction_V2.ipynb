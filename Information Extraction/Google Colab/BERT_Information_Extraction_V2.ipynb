{
  "cells": [
    {
      "cell_type": "code",
      "execution_count": null,
      "metadata": {
        "colab": {
          "base_uri": "https://localhost:8080/"
        },
        "id": "_vtW4BoEElU8",
        "outputId": "e046aa9a-4801-4e69-9ea2-df08bb14e333"
      },
      "outputs": [
        {
          "output_type": "stream",
          "name": "stdout",
          "text": [
            "Collecting transformers\n",
            "  Downloading transformers-4.16.0-py3-none-any.whl (3.5 MB)\n",
            "\u001b[K     |████████████████████████████████| 3.5 MB 5.3 MB/s \n",
            "\u001b[?25hCollecting pyyaml>=5.1\n",
            "  Downloading PyYAML-6.0-cp37-cp37m-manylinux_2_5_x86_64.manylinux1_x86_64.manylinux_2_12_x86_64.manylinux2010_x86_64.whl (596 kB)\n",
            "\u001b[K     |████████████████████████████████| 596 kB 44.7 MB/s \n",
            "\u001b[?25hRequirement already satisfied: regex!=2019.12.17 in /usr/local/lib/python3.7/dist-packages (from transformers) (2019.12.20)\n",
            "Requirement already satisfied: numpy>=1.17 in /usr/local/lib/python3.7/dist-packages (from transformers) (1.19.5)\n",
            "Requirement already satisfied: packaging>=20.0 in /usr/local/lib/python3.7/dist-packages (from transformers) (21.3)\n",
            "Collecting sacremoses\n",
            "  Downloading sacremoses-0.0.47-py2.py3-none-any.whl (895 kB)\n",
            "\u001b[K     |████████████████████████████████| 895 kB 39.0 MB/s \n",
            "\u001b[?25hRequirement already satisfied: filelock in /usr/local/lib/python3.7/dist-packages (from transformers) (3.4.2)\n",
            "Collecting huggingface-hub<1.0,>=0.1.0\n",
            "  Downloading huggingface_hub-0.4.0-py3-none-any.whl (67 kB)\n",
            "\u001b[K     |████████████████████████████████| 67 kB 3.5 MB/s \n",
            "\u001b[?25hCollecting tokenizers!=0.11.3,>=0.10.1\n",
            "  Downloading tokenizers-0.11.4-cp37-cp37m-manylinux_2_12_x86_64.manylinux2010_x86_64.whl (6.8 MB)\n",
            "\u001b[K     |████████████████████████████████| 6.8 MB 43.0 MB/s \n",
            "\u001b[?25hRequirement already satisfied: importlib-metadata in /usr/local/lib/python3.7/dist-packages (from transformers) (4.10.1)\n",
            "Requirement already satisfied: requests in /usr/local/lib/python3.7/dist-packages (from transformers) (2.23.0)\n",
            "Requirement already satisfied: tqdm>=4.27 in /usr/local/lib/python3.7/dist-packages (from transformers) (4.62.3)\n",
            "Requirement already satisfied: typing-extensions>=3.7.4.3 in /usr/local/lib/python3.7/dist-packages (from huggingface-hub<1.0,>=0.1.0->transformers) (3.10.0.2)\n",
            "Requirement already satisfied: pyparsing!=3.0.5,>=2.0.2 in /usr/local/lib/python3.7/dist-packages (from packaging>=20.0->transformers) (3.0.7)\n",
            "Requirement already satisfied: zipp>=0.5 in /usr/local/lib/python3.7/dist-packages (from importlib-metadata->transformers) (3.7.0)\n",
            "Requirement already satisfied: idna<3,>=2.5 in /usr/local/lib/python3.7/dist-packages (from requests->transformers) (2.10)\n",
            "Requirement already satisfied: certifi>=2017.4.17 in /usr/local/lib/python3.7/dist-packages (from requests->transformers) (2021.10.8)\n",
            "Requirement already satisfied: chardet<4,>=3.0.2 in /usr/local/lib/python3.7/dist-packages (from requests->transformers) (3.0.4)\n",
            "Requirement already satisfied: urllib3!=1.25.0,!=1.25.1,<1.26,>=1.21.1 in /usr/local/lib/python3.7/dist-packages (from requests->transformers) (1.24.3)\n",
            "Requirement already satisfied: click in /usr/local/lib/python3.7/dist-packages (from sacremoses->transformers) (7.1.2)\n",
            "Requirement already satisfied: joblib in /usr/local/lib/python3.7/dist-packages (from sacremoses->transformers) (1.1.0)\n",
            "Requirement already satisfied: six in /usr/local/lib/python3.7/dist-packages (from sacremoses->transformers) (1.15.0)\n",
            "Installing collected packages: pyyaml, tokenizers, sacremoses, huggingface-hub, transformers\n",
            "  Attempting uninstall: pyyaml\n",
            "    Found existing installation: PyYAML 3.13\n",
            "    Uninstalling PyYAML-3.13:\n",
            "      Successfully uninstalled PyYAML-3.13\n",
            "Successfully installed huggingface-hub-0.4.0 pyyaml-6.0 sacremoses-0.0.47 tokenizers-0.11.4 transformers-4.16.0\n",
            "Collecting tensorflow_addons\n",
            "  Downloading tensorflow_addons-0.15.0-cp37-cp37m-manylinux_2_12_x86_64.manylinux2010_x86_64.whl (1.1 MB)\n",
            "\u001b[K     |████████████████████████████████| 1.1 MB 5.2 MB/s \n",
            "\u001b[?25hRequirement already satisfied: typeguard>=2.7 in /usr/local/lib/python3.7/dist-packages (from tensorflow_addons) (2.7.1)\n",
            "Installing collected packages: tensorflow-addons\n",
            "Successfully installed tensorflow-addons-0.15.0\n"
          ]
        }
      ],
      "source": [
        "!pip install transformers\n",
        "!pip install tensorflow_addons"
      ]
    },
    {
      "cell_type": "code",
      "execution_count": null,
      "metadata": {
        "id": "KYIDR_Ql0ZL0"
      },
      "outputs": [],
      "source": [
        "from google.colab import drive\n",
        "import pickle\n",
        "from transformers import BertTokenizer, TFAutoModel, AlbertTokenizerFast, TFBertModel\n",
        "import numpy as np\n",
        "import tensorflow as tf\n",
        "import tensorflow_addons as tfa\n",
        "from tensorflow.keras.callbacks import ModelCheckpoint"
      ]
    },
    {
      "cell_type": "code",
      "execution_count": null,
      "metadata": {
        "id": "fQKC3h6QErhq",
        "colab": {
          "base_uri": "https://localhost:8080/"
        },
        "outputId": "0d35d91a-250c-409d-895a-18727196902a"
      },
      "outputs": [
        {
          "output_type": "stream",
          "name": "stdout",
          "text": [
            "Mounted at /content/drive\n"
          ]
        }
      ],
      "source": [
        "drive.mount('/content/drive')"
      ]
    },
    {
      "cell_type": "code",
      "execution_count": null,
      "metadata": {
        "id": "i7Z-HdOL0oEt"
      },
      "outputs": [],
      "source": [
        "drive_loc = './drive/MyDrive/'\n",
        "\n",
        "with open(f'{drive_loc}/Compiled_Labeled_Data_Final.pkl', 'rb' ) as f:\n",
        "  training_data = pickle.load(f)"
      ]
    },
    {
      "cell_type": "code",
      "execution_count": null,
      "metadata": {
        "id": "OlMr8p9GFARq",
        "colab": {
          "base_uri": "https://localhost:8080/",
          "height": 145,
          "referenced_widgets": [
            "f0e3b27e64d746b9a9d1f039a7497721",
            "c1ffdb7b8b0a4445a77fa1351947fc26",
            "a8bb8f1fc0bd4cb79cb508a4b6d1901f",
            "199a41c9e4e246ffb3bcb23ac4fc1a5d",
            "749e2bb3d5ad4c6d99f16d77e6a65cff",
            "191802bd255848bbb445d87d42694404",
            "69f10360ff134015852a50665da42ac9",
            "d7dfdc21958f4e4cacdfc06f932265cd",
            "0c615b825b8c41148d5fa99b554f5919",
            "aa21aa19b6944f5c92421b0cc8131fdd",
            "541990d03722478e8b0b53905995fcd2",
            "8f680c169210464db06db47684ac90ca",
            "036f54bbe2e841ccba071e4926a90a0b",
            "fffbf767a0d64b29b8a0472a9a1cd61e",
            "15ec41f5f66c4ea49e15371873a11355",
            "c66ec4b604c64f6a8248f987db24bbd2",
            "3ce081dbb8db483da0b34c70e837ca62",
            "b239e1838c41403e9dc9ac2fe9029572",
            "6e5c1bf4707946e9bf2e71f4df5ac98c",
            "39053b4d41714aea82b555d87a200d68",
            "f511e07fc56c4a6eb2828615e44c2731",
            "5e8411a29fee4c5589f5004fd00f439f",
            "b9450b1e311c40c18e979b94de14e035",
            "7b9bf3abf4064119877ca41f5b3d3794",
            "0d43fbf0b41242f4957dd041f3f07bab",
            "09c93f843c7244b4b2b098e59364cc45",
            "5e9518b1dda64f0aafcbc84f263bf6a2",
            "c80cf9355ae04d75bcee4eb8439a2c2f",
            "3691c4f4755045fa87bd782ca68cb9a6",
            "b99a81f76bac4db7a42724d542db2579",
            "512ee7fc66e3443ab161af53ada499a1",
            "ad2ae62941b44f1f8971f55c53b51724",
            "693d158f0a3c4a74950df3637b90da2f",
            "f2052ded402a4be2b6385c9cf2ae6a89",
            "c629cbac76374bf49d21d3d36010b3f0",
            "73c16dde703f4770b6160bbc434acf09",
            "225957fca77f491986c3d36075428de5",
            "51e26ceaf09e42108ed6089f9c6f612d",
            "44aa6101f8984996b316b875f5edb741",
            "a1ae3b167eb144af82c8f09238de7144",
            "65b87fa0c4024ad3b6bd787fb8e5c170",
            "457a4405b7b548f89a3fb99863f25d03",
            "206a03db327446c18d14a2283f839914",
            "5fce0709c9a848af822322fa0deb3160"
          ]
        },
        "outputId": "17aa8152-9a19-456b-99e0-a2a3fb582305"
      },
      "outputs": [
        {
          "output_type": "display_data",
          "data": {
            "application/vnd.jupyter.widget-view+json": {
              "model_id": "f0e3b27e64d746b9a9d1f039a7497721",
              "version_minor": 0,
              "version_major": 2
            },
            "text/plain": [
              "Downloading:   0%|          | 0.00/28.0 [00:00<?, ?B/s]"
            ]
          },
          "metadata": {}
        },
        {
          "output_type": "display_data",
          "data": {
            "application/vnd.jupyter.widget-view+json": {
              "model_id": "8f680c169210464db06db47684ac90ca",
              "version_minor": 0,
              "version_major": 2
            },
            "text/plain": [
              "Downloading:   0%|          | 0.00/226k [00:00<?, ?B/s]"
            ]
          },
          "metadata": {}
        },
        {
          "output_type": "display_data",
          "data": {
            "application/vnd.jupyter.widget-view+json": {
              "model_id": "b9450b1e311c40c18e979b94de14e035",
              "version_minor": 0,
              "version_major": 2
            },
            "text/plain": [
              "Downloading:   0%|          | 0.00/455k [00:00<?, ?B/s]"
            ]
          },
          "metadata": {}
        },
        {
          "output_type": "display_data",
          "data": {
            "application/vnd.jupyter.widget-view+json": {
              "model_id": "f2052ded402a4be2b6385c9cf2ae6a89",
              "version_minor": 0,
              "version_major": 2
            },
            "text/plain": [
              "Downloading:   0%|          | 0.00/570 [00:00<?, ?B/s]"
            ]
          },
          "metadata": {}
        }
      ],
      "source": [
        "model_name = 'bert-base-uncased'\n",
        "\n",
        "tokenizer = BertTokenizer.from_pretrained(model_name)\n",
        "\n",
        "max_len = 512\n",
        "\n",
        "entity_diction = { \"Reason\":2,\n",
        "  \"Defendant\":1,\n",
        "  \"Penalties\":3,\n",
        "  \"Outcome\":4,\n",
        "  \"Platiff\":0\n",
        "}"
      ]
    },
    {
      "cell_type": "code",
      "execution_count": null,
      "metadata": {
        "id": "CDs2EzGiD2_M"
      },
      "outputs": [],
      "source": [
        "\n",
        "example = training_data[2]\n",
        "\n",
        "def labeling_to_output(train):\n",
        "\n",
        "  text = train[0]\n",
        "  tokens = train[1]\n",
        "  stringer = tokenizer.tokenize(text)\n",
        "  tok = tokenizer(\n",
        "                  text,\n",
        "                  max_length = max_len, #change this for padding\n",
        "                  truncation=True,\n",
        "                  padding='max_length',\n",
        "                  add_special_tokens=True,\n",
        "                  return_tensors='np'\n",
        "\n",
        "  )\n",
        "\n",
        "  output = np.zeros((len(tok['attention_mask'][0]), len(entity_diction)))\n",
        "\n",
        "  for tag in tokens['entities']:\n",
        "    start = tag[0]\n",
        "    end = tag[1]\n",
        "    tager = tag[2]\n",
        "\n",
        "    before = tokenizer(text[:start], return_tensors='np')\n",
        "    after = tokenizer(text[start:+end], return_tensors='np')\n",
        "\n",
        "    starter = len(before['input_ids'][0]) - 1\n",
        "    afterer = len(after['input_ids'][0]) - 1\n",
        "\n",
        "    output[starter:(starter+afterer-1), entity_diction[tager]] = 1\n",
        "\n",
        "  return tok, output\n",
        "\n",
        "def get_entities(text, output, prob):\n",
        "\n",
        "  output[output> prob] = 1\n",
        "  output[output<= prob] = 0\n",
        "\n",
        "  identified = []\n",
        "\n",
        "  entity_loc = { \n",
        "    2:[\"Reason\", False, []],\n",
        "    1:[\"Defendant\",False, []],\n",
        "    3:[\"Penalties\", False, []],\n",
        "    4:[\"Outcome\", False, []],\n",
        "    0:[\"Platiff\", False, []]\n",
        "  }\n",
        "\n",
        "  for i in range(1, len(output)):\n",
        "      word = text[i]\n",
        "      for n in range(5):\n",
        "          open = entity_loc[n][1]\n",
        "          val = output[i, n]\n",
        "          if open == True:\n",
        "              if val == 1:\n",
        "                  entity_loc[n][2].append(word)\n",
        "              else:\n",
        "                  entity_loc[n][1] = False\n",
        "                  identified.append([entity_loc[n][0], tokenizer.convert_tokens_to_string(tokenizer.convert_ids_to_tokens(entity_loc[n][2]))])\n",
        "                  entity_loc[n][2] = []\n",
        "          else:\n",
        "              if val == 1:\n",
        "                  entity_loc[n][2].append(word)\n",
        "                  entity_loc[n][1] = True\n",
        "\n",
        "  return identified\n",
        "\n",
        "def get_entities_altered(text, output, prob):\n",
        "\n",
        "  output[output> prob] = 1\n",
        "  output[output<= prob] = 0\n",
        "\n",
        "  identified = []\n",
        "\n",
        "  entity_loc = { \n",
        "    1:[\"Defendant\", False, []],\n",
        "    0:[\"Plantiff\",False, []],\n",
        "    3:[\"Outcome\", False, []],\n",
        "  }\n",
        "\n",
        "  for i in range(1, len(output)):\n",
        "      word = text[i]\n",
        "      for n in range(3):\n",
        "          open = entity_loc[n][1]\n",
        "          val = output[i, n]\n",
        "          if open == True:\n",
        "              if val == 1:\n",
        "                  entity_loc[n][2].append(word)\n",
        "              else:\n",
        "                  entity_loc[n][1] = False\n",
        "                  identified.append([entity_loc[n][0], tokenizer.convert_tokens_to_string(tokenizer.convert_ids_to_tokens(entity_loc[n][2]))])\n",
        "                  entity_loc[n][2] = []\n",
        "          else:\n",
        "              if val == 1:\n",
        "                  entity_loc[n][2].append(word)\n",
        "                  entity_loc[n][1] = True\n",
        "\n",
        "  return identified\n",
        "\n",
        "\n",
        "def get_entities_argmax(text, out, prob):\n",
        "  \n",
        "  new_out = []\n",
        "\n",
        "  for i in range(len(out)):\n",
        "      new = np.zeros(len(out[i]))\n",
        "      maxer = out[i].argmax()\n",
        "      new[maxer] = 1\n",
        "      new_out.append(new.tolist())\n",
        "  \n",
        "  output = np.array(new_out)\n",
        "  \n",
        "  identified = []\n",
        "\n",
        "  entity_loc = {\n",
        "    2:[\"Reason\", False, []],\n",
        "    1:[\"Defendant\",False, []],\n",
        "    3:[\"Penalties\", False, []],\n",
        "    4:[\"Outcome\", False, []],\n",
        "    0:[\"Platiff\", False, []]\n",
        "  }\n",
        "  \n",
        "  for i in range(1, len(output)):\n",
        "      word = text[i]\n",
        "      for n in range(5):\n",
        "          open = entity_loc[n][1]\n",
        "          try:\n",
        "            val = output[i, n]\n",
        "          except:\n",
        "            pdb.set_trace()\n",
        "          if open == True:\n",
        "              if val == 1:\n",
        "                  entity_loc[n][2].append(word)\n",
        "              else:\n",
        "                  entity_loc[n][1] = False\n",
        "                  identified.append([entity_loc[n][0], tokenizer.convert_tokens_to_string(tokenizer.convert_ids_to_tokens(entity_loc[n][2]))])\n",
        "                  entity_loc[n][2] = []\n",
        "          else:\n",
        "              if val == 1:\n",
        "                  entity_loc[n][2].append(word)\n",
        "                  entity_loc[n][1] = True\n",
        "\n",
        "  return identified\n",
        "\n",
        "def get_entities_argmax_altered(text, out, prob):\n",
        "  \n",
        "  new_out = []\n",
        "\n",
        "  for i in range(len(out)):\n",
        "      new = np.zeros(len(out[i]))\n",
        "      maxer = out[i].argmax()\n",
        "      new[maxer] = 1\n",
        "      new_out.append(new.tolist())\n",
        "  \n",
        "  output = np.array(new_out)\n",
        "  \n",
        "  identified = []\n",
        "\n",
        "  entity_loc = { \n",
        "    0:[\"Reason\", False, []],\n",
        "    1:[\"Outcome\",False, []],\n",
        "  }\n",
        "  \n",
        "  for i in range(1, len(output)):\n",
        "      word = text[i]\n",
        "      for n in range(2):\n",
        "          open = entity_loc[n][1]\n",
        "          try:\n",
        "            val = output[i, n]\n",
        "          except:\n",
        "            pdb.set_trace()\n",
        "          if open == True:\n",
        "              if val == 1:\n",
        "                  entity_loc[n][2].append(word)\n",
        "              else:\n",
        "                  entity_loc[n][1] = False\n",
        "                  identified.append([entity_loc[n][0], tokenizer.convert_tokens_to_string(tokenizer.convert_ids_to_tokens(entity_loc[n][2]))])\n",
        "                  entity_loc[n][2] = []\n",
        "          else:\n",
        "              if val == 1:\n",
        "                  entity_loc[n][2].append(word)\n",
        "                  entity_loc[n][1] = True\n",
        "\n",
        "  return identified  "
      ]
    },
    {
      "cell_type": "code",
      "execution_count": null,
      "metadata": {
        "id": "7VkFAVC7d6gR"
      },
      "outputs": [],
      "source": [
        "import pdb\n",
        "def get_entities_argmax_running(text, out, run):\n",
        "  \n",
        "  new_out = []\n",
        "\n",
        "  for i in range(len(out)):\n",
        "      new = np.zeros(len(out[i]))\n",
        "      maxer = out[i].argmax()\n",
        "      new[maxer] = 1\n",
        "      new_out.append(new.tolist())\n",
        "  \n",
        "  output = np.array(new_out)\n",
        "  \n",
        "  identified = []\n",
        "\n",
        "  entity_loc = { \n",
        "    0:[\"Reason\", False, []],\n",
        "    1:[\"Outcome\",False, []],\n",
        "  }\n",
        "  \n",
        "  pdb.set_trace()\n",
        "\n",
        "  return identified"
      ]
    },
    {
      "cell_type": "code",
      "execution_count": null,
      "metadata": {
        "id": "n57CeZWmJsiE",
        "colab": {
          "base_uri": "https://localhost:8080/",
          "height": 109
        },
        "outputId": "14481dac-8cdc-4822-8276-422599c20636"
      },
      "outputs": [
        {
          "output_type": "execute_result",
          "data": {
            "application/vnd.google.colaboratory.intrinsic+json": {
              "type": "string"
            },
            "text/plain": [
              "'\\nimport pdb\\nexample = training_data[2]\\n\\nentity_loc_len = { \\n    2:1000,\\n    1:1000,\\n    3:1000,\\n    4:1000,\\n    0:1000\\n  }\\n\\ndef labeling_to_output(train):\\n\\n  text = train[0]\\n  tokens = train[1]\\n  stringer = tokenizer.tokenize(text)\\n  tok = tokenizer(\\n                  text,\\n                  max_length = max_len, #change this for padding\\n                  truncation=True,\\n                  padding=\\'max_length\\',\\n                  add_special_tokens=True,\\n                  return_tensors=\\'np\\'\\n\\n  )\\n\\n  output = np.zeros((len(tok[\\'attention_mask\\'][0]), len(entity_diction)*3))\\n  \\n  for tag in tokens[\\'entities\\']:\\n    start = tag[0]\\n    end = tag[1]\\n    tager = tag[2]\\n\\n    before = tokenizer(text[:start], return_tensors=\\'np\\')\\n    after = tokenizer(text[start:+end], return_tensors=\\'np\\')\\n\\n    starter = len(before[\\'input_ids\\'][0]) - 1\\n    afterer = len(after[\\'input_ids\\'][0]) - 1\\n    if (starter+afterer) < max_len:\\n      output[starter:(starter+afterer-1), entity_diction[tager]] = 1\\n      output[starter, (entity_diction[tager]+len(entity_diction))] = 1\\n      output[(starter+afterer-2), int((entity_diction[tager]+len(entity_diction)*2))] = 1\\n    \\n\\n  return tok, output\\n\\n\\ndef get_entities(text, output, prob):\\n\\n  output[output> prob] = 1\\n  output[output<= prob] = 0\\n\\n  identified = []\\n\\n  entity_loc = { \\n    2:[\"Reason\", False, []],\\n    1:[\"Defendant\",False, []],\\n    3:[\"Penalties\", False, []],\\n    4:[\"Outcome\", False, []],\\n    0:[\"Platiff\", False, []]\\n  }\\n\\n  for i in range(1, len(output)):\\n      word = text[i]\\n      for n in range(5):\\n          open = entity_loc[n][1]\\n          val = output[i, n]\\n          if open == True:\\n              if val == 1:\\n                  entity_loc[n][2].append(word)\\n              else:\\n                  entity_loc[n][1] = False\\n                  identified.append([entity_loc[n][0], tokenizer.convert_tokens_to_string(tokenizer.convert_ids_to_tokens(entity_loc[n][2]))])\\n                  entity_loc[n][2] = []\\n          else:\\n              if val == 1:\\n                  entity_loc[n][2].append(word)\\n                  entity_loc[n][1] = True\\n\\n  return identified\\n\\ndef get_entities_start_finish(text, output, prob):\\n\\n  output[output> prob] = 1\\n  output[output<= prob] = 0\\n\\n  identified = []\\n\\n  entity_loc = { \\n    2:[\"Reason\", False, []],\\n    1:[\"Defendant\",False, []],\\n    3:[\"Penalties\", False, []],\\n    4:[\"Outcome\", False, []],\\n    0:[\"Platiff\", False, []]\\n  }\\n  \\n  for i in range(1, len(output)):\\n      word = text[i]\\n      \\n      for n in range(5):\\n          open = entity_loc[n][1]\\n          val = output[i, n]\\n          start_val = output[i, int(n+len(entity_diction))]\\n          end_val = output[i, int(n+len(entity_diction)*2)]\\n\\n          if open == True:\\n                entity_loc[n][2].append(word)\\n                \\n                if end_val == 1:\\n                  entity_loc[n][1] = False\\n                  identified.append([entity_loc[n][0], tokenizer.convert_tokens_to_string(tokenizer.convert_ids_to_tokens(entity_loc[n][2]))])\\n                  entity_loc[n][2] = []\\n                else:\\n                  if len(entity_loc[n][2]) > entity_loc_len[n]:\\n                      entity_loc[n][1] = False\\n                      entity_loc[n][2] = []\\n          else:\\n              if start_val == 1:\\n                  entity_loc[n][2].append(word)\\n                  entity_loc[n][1] = True\\n                  if end_val == 1:\\n                    entity_loc[n][1] = False\\n                    identified.append([entity_loc[n][0], tokenizer.convert_tokens_to_string(tokenizer.convert_ids_to_tokens(entity_loc[n][2]))])\\n                    entity_loc[n][2] = []\\n                    \\n\\n  return identified\\n\\ndef get_entities_start_finish_2(text, output, prob):\\n\\n  output[output> prob] = 1\\n  output[output<= prob] = 0\\n\\n  identified = []\\n\\n  entity_loc = { \\n    2:[\"Reason\", False, [], []],\\n    1:[\"Defendant\",False, [], []],\\n    3:[\"Penalties\", False, [], []],\\n    4:[\"Outcome\", False, [], []],\\n    0:[\"Platiff\", False, [], []]\\n  }\\n  \\n  for i in range(1, len(output)):\\n      word = text[i]\\n      \\n      for n in range(5):\\n          open = entity_loc[n][1]\\n          val = output[i, n]\\n          start_val = output[i, int(n+len(entity_diction))]\\n          end_val = output[i, int(n+len(entity_diction)*2)]\\n\\n          if open == True:\\n                entity_loc[n][2].append(word)\\n                entity_loc[n][3].append(val)\\n                \\n                if end_val == 1:\\n                  entity_loc[n][1] = False\\n                  if np.array(entity_loc[n][3]).mean() > 0.3:\\n                    identified.append([entity_loc[n][0], tokenizer.convert_tokens_to_string(tokenizer.convert_ids_to_tokens(entity_loc[n][2]))])\\n                  entity_loc[n][2] = []\\n                  entity_loc[n][3] = []\\n                else:\\n                  if len(entity_loc[n][2]) > entity_loc_len[n]:\\n                      entity_loc[n][1] = False\\n                      entity_loc[n][2] = []\\n                      entity_loc[n][3] = []\\n          else:\\n              if start_val == 1:\\n                  entity_loc[n][2].append(word)\\n                  entity_loc[n][3].append(val)\\n                  entity_loc[n][1] = True\\n                  if end_val == 1:\\n                    entity_loc[n][1] = False\\n                    if np.array(entity_loc[n][3]).mean() > 0.3:\\n                      identified.append([entity_loc[n][0], tokenizer.convert_tokens_to_string(tokenizer.convert_ids_to_tokens(entity_loc[n][2]))])\\n                    entity_loc[n][2] = []\\n                    entity_loc[n][3] = []\\n                    \\n\\n  return identified\\n'"
            ]
          },
          "metadata": {},
          "execution_count": 8
        }
      ],
      "source": [
        "\"\"\"\n",
        "import pdb\n",
        "example = training_data[2]\n",
        "\n",
        "entity_loc_len = { \n",
        "    2:1000,\n",
        "    1:1000,\n",
        "    3:1000,\n",
        "    4:1000,\n",
        "    0:1000\n",
        "  }\n",
        "\n",
        "def labeling_to_output(train):\n",
        "\n",
        "  text = train[0]\n",
        "  tokens = train[1]\n",
        "  stringer = tokenizer.tokenize(text)\n",
        "  tok = tokenizer(\n",
        "                  text,\n",
        "                  max_length = max_len, #change this for padding\n",
        "                  truncation=True,\n",
        "                  padding='max_length',\n",
        "                  add_special_tokens=True,\n",
        "                  return_tensors='np'\n",
        "\n",
        "  )\n",
        "\n",
        "  output = np.zeros((len(tok['attention_mask'][0]), len(entity_diction)*3))\n",
        "  \n",
        "  for tag in tokens['entities']:\n",
        "    start = tag[0]\n",
        "    end = tag[1]\n",
        "    tager = tag[2]\n",
        "\n",
        "    before = tokenizer(text[:start], return_tensors='np')\n",
        "    after = tokenizer(text[start:+end], return_tensors='np')\n",
        "\n",
        "    starter = len(before['input_ids'][0]) - 1\n",
        "    afterer = len(after['input_ids'][0]) - 1\n",
        "    if (starter+afterer) < max_len:\n",
        "      output[starter:(starter+afterer-1), entity_diction[tager]] = 1\n",
        "      output[starter, (entity_diction[tager]+len(entity_diction))] = 1\n",
        "      output[(starter+afterer-2), int((entity_diction[tager]+len(entity_diction)*2))] = 1\n",
        "    \n",
        "\n",
        "  return tok, output\n",
        "\n",
        "\n",
        "def get_entities(text, output, prob):\n",
        "\n",
        "  output[output> prob] = 1\n",
        "  output[output<= prob] = 0\n",
        "\n",
        "  identified = []\n",
        "\n",
        "  entity_loc = { \n",
        "    2:[\"Reason\", False, []],\n",
        "    1:[\"Defendant\",False, []],\n",
        "    3:[\"Penalties\", False, []],\n",
        "    4:[\"Outcome\", False, []],\n",
        "    0:[\"Platiff\", False, []]\n",
        "  }\n",
        "\n",
        "  for i in range(1, len(output)):\n",
        "      word = text[i]\n",
        "      for n in range(5):\n",
        "          open = entity_loc[n][1]\n",
        "          val = output[i, n]\n",
        "          if open == True:\n",
        "              if val == 1:\n",
        "                  entity_loc[n][2].append(word)\n",
        "              else:\n",
        "                  entity_loc[n][1] = False\n",
        "                  identified.append([entity_loc[n][0], tokenizer.convert_tokens_to_string(tokenizer.convert_ids_to_tokens(entity_loc[n][2]))])\n",
        "                  entity_loc[n][2] = []\n",
        "          else:\n",
        "              if val == 1:\n",
        "                  entity_loc[n][2].append(word)\n",
        "                  entity_loc[n][1] = True\n",
        "\n",
        "  return identified\n",
        "\n",
        "def get_entities_start_finish(text, output, prob):\n",
        "\n",
        "  output[output> prob] = 1\n",
        "  output[output<= prob] = 0\n",
        "\n",
        "  identified = []\n",
        "\n",
        "  entity_loc = { \n",
        "    2:[\"Reason\", False, []],\n",
        "    1:[\"Defendant\",False, []],\n",
        "    3:[\"Penalties\", False, []],\n",
        "    4:[\"Outcome\", False, []],\n",
        "    0:[\"Platiff\", False, []]\n",
        "  }\n",
        "  \n",
        "  for i in range(1, len(output)):\n",
        "      word = text[i]\n",
        "      \n",
        "      for n in range(5):\n",
        "          open = entity_loc[n][1]\n",
        "          val = output[i, n]\n",
        "          start_val = output[i, int(n+len(entity_diction))]\n",
        "          end_val = output[i, int(n+len(entity_diction)*2)]\n",
        "\n",
        "          if open == True:\n",
        "                entity_loc[n][2].append(word)\n",
        "                \n",
        "                if end_val == 1:\n",
        "                  entity_loc[n][1] = False\n",
        "                  identified.append([entity_loc[n][0], tokenizer.convert_tokens_to_string(tokenizer.convert_ids_to_tokens(entity_loc[n][2]))])\n",
        "                  entity_loc[n][2] = []\n",
        "                else:\n",
        "                  if len(entity_loc[n][2]) > entity_loc_len[n]:\n",
        "                      entity_loc[n][1] = False\n",
        "                      entity_loc[n][2] = []\n",
        "          else:\n",
        "              if start_val == 1:\n",
        "                  entity_loc[n][2].append(word)\n",
        "                  entity_loc[n][1] = True\n",
        "                  if end_val == 1:\n",
        "                    entity_loc[n][1] = False\n",
        "                    identified.append([entity_loc[n][0], tokenizer.convert_tokens_to_string(tokenizer.convert_ids_to_tokens(entity_loc[n][2]))])\n",
        "                    entity_loc[n][2] = []\n",
        "                    \n",
        "\n",
        "  return identified\n",
        "\n",
        "def get_entities_start_finish_2(text, output, prob):\n",
        "\n",
        "  output[output> prob] = 1\n",
        "  output[output<= prob] = 0\n",
        "\n",
        "  identified = []\n",
        "\n",
        "  entity_loc = { \n",
        "    2:[\"Reason\", False, [], []],\n",
        "    1:[\"Defendant\",False, [], []],\n",
        "    3:[\"Penalties\", False, [], []],\n",
        "    4:[\"Outcome\", False, [], []],\n",
        "    0:[\"Platiff\", False, [], []]\n",
        "  }\n",
        "  \n",
        "  for i in range(1, len(output)):\n",
        "      word = text[i]\n",
        "      \n",
        "      for n in range(5):\n",
        "          open = entity_loc[n][1]\n",
        "          val = output[i, n]\n",
        "          start_val = output[i, int(n+len(entity_diction))]\n",
        "          end_val = output[i, int(n+len(entity_diction)*2)]\n",
        "\n",
        "          if open == True:\n",
        "                entity_loc[n][2].append(word)\n",
        "                entity_loc[n][3].append(val)\n",
        "                \n",
        "                if end_val == 1:\n",
        "                  entity_loc[n][1] = False\n",
        "                  if np.array(entity_loc[n][3]).mean() > 0.3:\n",
        "                    identified.append([entity_loc[n][0], tokenizer.convert_tokens_to_string(tokenizer.convert_ids_to_tokens(entity_loc[n][2]))])\n",
        "                  entity_loc[n][2] = []\n",
        "                  entity_loc[n][3] = []\n",
        "                else:\n",
        "                  if len(entity_loc[n][2]) > entity_loc_len[n]:\n",
        "                      entity_loc[n][1] = False\n",
        "                      entity_loc[n][2] = []\n",
        "                      entity_loc[n][3] = []\n",
        "          else:\n",
        "              if start_val == 1:\n",
        "                  entity_loc[n][2].append(word)\n",
        "                  entity_loc[n][3].append(val)\n",
        "                  entity_loc[n][1] = True\n",
        "                  if end_val == 1:\n",
        "                    entity_loc[n][1] = False\n",
        "                    if np.array(entity_loc[n][3]).mean() > 0.3:\n",
        "                      identified.append([entity_loc[n][0], tokenizer.convert_tokens_to_string(tokenizer.convert_ids_to_tokens(entity_loc[n][2]))])\n",
        "                    entity_loc[n][2] = []\n",
        "                    entity_loc[n][3] = []\n",
        "                    \n",
        "\n",
        "  return identified\n",
        "\"\"\""
      ]
    },
    {
      "cell_type": "code",
      "execution_count": null,
      "metadata": {
        "id": "WarB6S-qUghF"
      },
      "outputs": [],
      "source": [
        "X, y = labeling_to_output(example)\n",
        "test = get_entities(X['input_ids'][0], y, 0.5) #Change this depending on output type"
      ]
    },
    {
      "cell_type": "code",
      "execution_count": null,
      "metadata": {
        "id": "mYPkXS6CX98r"
      },
      "outputs": [],
      "source": [
        "X = {'input_ids':[],\n",
        "     'attention_mask':[],\n",
        "     'token_type_ids':[],\n",
        "     }\n",
        "    \n",
        "y = []\n"
      ]
    },
    {
      "cell_type": "code",
      "execution_count": null,
      "metadata": {
        "id": "wjNjumOyYafj",
        "colab": {
          "base_uri": "https://localhost:8080/"
        },
        "outputId": "b10e3ce3-89f0-4bb9-a05c-644cf97f8bde"
      },
      "outputs": [
        {
          "output_type": "stream",
          "name": "stderr",
          "text": [
            "Token indices sequence length is longer than the specified maximum sequence length for this model (584 > 512). Running this sequence through the model will result in indexing errors\n"
          ]
        }
      ],
      "source": [
        "for i in range(len(training_data)):\n",
        "    example = training_data[i]\n",
        "    tok, output = labeling_to_output(example)\n",
        "    inputer = tok['input_ids'].tolist()[0]\n",
        "    mask = tok['attention_mask'].tolist()[0]\n",
        "    types = tok['token_type_ids'].tolist()[0]\n",
        "    X['input_ids'].append(inputer)\n",
        "    X['attention_mask'].append(mask)\n",
        "    X['token_type_ids'].append(types)\n",
        "    y.append(output.tolist())\n"
      ]
    },
    {
      "cell_type": "code",
      "execution_count": null,
      "metadata": {
        "id": "JJl3hHflaa4j"
      },
      "outputs": [],
      "source": [
        "X['input_ids'] = np.array(X['input_ids'])\n",
        "X['attention_mask'] = np.array(X['attention_mask'])\n",
        "X['token_type_ids'] = np.array(X['token_type_ids'])\n",
        "y = np.array(y)\n",
        "#y = np.array(y).reshape(len(y), int(y.shape[1]*y.shape[2]))"
      ]
    },
    {
      "cell_type": "code",
      "execution_count": null,
      "metadata": {
        "id": "ddUJZnK7DwPj"
      },
      "outputs": [],
      "source": [
        "y = y.tolist()\n",
        "\n",
        "for i in range(len(y)):\n",
        "    for n in range(len(y[i])):\n",
        "        summer = np.array(y[i][n]).sum()\n",
        "        if summer == 0:\n",
        "            new = 1\n",
        "        else:\n",
        "            new = 0\n",
        "        y[i][n].append(new)\n",
        "y = np.array(y)"
      ]
    },
    {
      "cell_type": "code",
      "execution_count": null,
      "metadata": {
        "id": "9DMrT3RKSht2"
      },
      "outputs": [],
      "source": [
        "split = 0.75\n",
        "\n",
        "X_train = {}\n",
        "\n",
        "X_train['input_ids'] = X['input_ids'][:int(0.75*len(X['input_ids']))]\n",
        "X_train['attention_mask'] = X['attention_mask'][:int(0.75*len(X['attention_mask']))]\n",
        "X_train['token_type_ids'] = X['token_type_ids'][:int(0.75*len(X['token_type_ids']))]\n",
        "\n",
        "X_test = {}\n",
        "\n",
        "X_test['input_ids'] = X['input_ids'][int(0.75*len(X['input_ids'])):]\n",
        "X_test['attention_mask'] = X['attention_mask'][int(0.75*len(X['attention_mask'])):]\n",
        "X_test['token_type_ids'] = X['token_type_ids'][int(0.75*len(X['token_type_ids'])):]\n",
        "\n",
        "y_train = y[:int(len(y)*split)]\n",
        "y_test = y[int(len(y)*split):]"
      ]
    },
    {
      "cell_type": "code",
      "execution_count": null,
      "metadata": {
        "id": "ZSpTmjxTe_fB",
        "colab": {
          "base_uri": "https://localhost:8080/",
          "height": 35
        },
        "outputId": "187ad9bc-9850-4836-eac6-d485add8fc58"
      },
      "outputs": [
        {
          "output_type": "execute_result",
          "data": {
            "application/vnd.google.colaboratory.intrinsic+json": {
              "type": "string"
            },
            "text/plain": [
              "'\\nshort_list = [2,4,5]\\n\\ny_train = y_train[:, :, short_list]\\ny_test = y_test[:, :, short_list]\\n'"
            ]
          },
          "metadata": {},
          "execution_count": 15
        }
      ],
      "source": [
        "\"\"\"\n",
        "short_list = [2,4,5]\n",
        "\n",
        "y_train = y_train[:, :, short_list]\n",
        "y_test = y_test[:, :, short_list]\n",
        "\"\"\""
      ]
    },
    {
      "cell_type": "code",
      "execution_count": null,
      "metadata": {
        "id": "75BsXZuC4bCN"
      },
      "outputs": [],
      "source": [
        "from tensorflow.keras.layers import Dropout\n",
        "\n",
        "seq_len = max_len\n",
        "check = 'checkpoint-InformationExtraction'\n",
        "checkpoint_dir = f'{drive_loc}/BERT_NER'\n",
        "\n",
        "checkpoint = ModelCheckpoint(checkpoint_dir, monitor='val_accuracy', verbose=0, save_best_only=True, mode='auto')#, save_weights_only=True, mode='auto')\n",
        "callbacks = [checkpoint]\n",
        "\n",
        "loss_object = tf.keras.losses.SparseCategoricalCrossentropy(\n",
        "    from_logits=False, reduction=tf.keras.losses.Reduction.NONE\n",
        ")\n",
        "\n",
        "def masked_ce_loss(real, pred):\n",
        "    mask = tf.math.logical_not(tf.math.equal(real, 17))\n",
        "    loss_ = loss_object(real, pred)\n",
        "\n",
        "    mask = tf.cast(mask, dtype=loss_.dtype)\n",
        "    loss_ *= mask\n",
        "\n",
        "    return tf.reduce_mean(loss_)\n",
        "\n",
        "def create_model():\n",
        "  BERT = TFBertModel.from_pretrained(model_name)\n",
        "\n",
        "  input_ids = tf.keras.layers.Input(shape=(seq_len, ), name='input_ids', dtype='int32')\n",
        "  token_type_ids = tf.keras.layers.Input(shape=(seq_len, ), name='token_type_ids', dtype='int32')\n",
        "  mask = tf.keras.layers.Input(shape=(seq_len, ), name='attention_mask', dtype='int32')\n",
        "\n",
        "  embeddings = BERT(input_ids, token_type_ids=token_type_ids, attention_mask=mask)[0]#'pooler_output'] #Try out index 0\n",
        "  #embeddings = BERT.albert(input_ids, attention_mask=mask)['pooler_output']\n",
        "\n",
        "  #den_1 = tf.keras.layers.Dense(1000, activation='relu')(embeddings)]\n",
        "  den_1 = Dropout(0.5)(embeddings)\n",
        "  #den_2  = tf.keras.layers.Dense(1000, activation='relu')(den_1)\n",
        "  #den_3 = Dropout(0.5)(den_2)\n",
        "  output = tf.keras.layers.Dense(y_train.shape[2], activation='softmax')(den_1) #Alter this depending on output type\n",
        "\n",
        "  model = tf.keras.Model(inputs=[input_ids, token_type_ids, mask],\n",
        "                         outputs=output)\n",
        "\n",
        "  #opt = tfa.optimizers.AdamW()\n",
        "  opt = tf.keras.optimizers.Adam(learning_rate = 1e-5)\n",
        "  #loss = tf.keras.losses.CategoricalCrossentropy()\n",
        "\n",
        "  model.compile(opt, loss='categorical_crossentropy', metrics=['accuracy'])\n",
        "\n",
        "  #model.load_weights(checkpoint_dir)\n",
        "  model.layers[0].trainable = False\n",
        "  model.layers[1].trainable = False\n",
        "  model.layers[2].trainable = False\n",
        "  model.layers[3].trainable = False\n",
        "\n",
        "  return model"
      ]
    },
    {
      "cell_type": "code",
      "execution_count": null,
      "metadata": {
        "id": "9LpVRcO7JM0N",
        "colab": {
          "base_uri": "https://localhost:8080/",
          "height": 855,
          "referenced_widgets": [
            "720191586c0f4bf482c470d8f806ea4a",
            "a3334f71d4d04a9185e716cb6c162969",
            "4e1f0406106046239cf5cfdd2ae06f92",
            "6a9b34acdc1843559ca1fc8c0cda7f98",
            "41885a271d76439da8525e5915014040",
            "351c1ef0b0e1406ca4b7246174984efa",
            "6705183dbcd94800aa882441efb175fb",
            "cf6e8efeb8b2446cb647544941003733",
            "f061c411679a4b1982440f241cae9360",
            "38ccea034f5244ddb1b907a4e9a00783",
            "29556ae2bf6d4d2e90c53c3a343382e2"
          ]
        },
        "outputId": "c21f1582-f8b3-494c-d447-1f0444d7789b"
      },
      "outputs": [
        {
          "output_type": "stream",
          "name": "stdout",
          "text": [
            "INFO:tensorflow:Deallocate tpu buffers before initializing tpu system.\n"
          ]
        },
        {
          "output_type": "stream",
          "name": "stderr",
          "text": [
            "INFO:tensorflow:Deallocate tpu buffers before initializing tpu system.\n"
          ]
        },
        {
          "output_type": "stream",
          "name": "stdout",
          "text": [
            "INFO:tensorflow:Initializing the TPU system: grpc://10.100.106.170:8470\n"
          ]
        },
        {
          "output_type": "stream",
          "name": "stderr",
          "text": [
            "INFO:tensorflow:Initializing the TPU system: grpc://10.100.106.170:8470\n"
          ]
        },
        {
          "output_type": "stream",
          "name": "stdout",
          "text": [
            "INFO:tensorflow:Finished initializing TPU system.\n"
          ]
        },
        {
          "output_type": "stream",
          "name": "stderr",
          "text": [
            "INFO:tensorflow:Finished initializing TPU system.\n"
          ]
        },
        {
          "output_type": "stream",
          "name": "stdout",
          "text": [
            "INFO:tensorflow:Found TPU system:\n"
          ]
        },
        {
          "output_type": "stream",
          "name": "stderr",
          "text": [
            "INFO:tensorflow:Found TPU system:\n"
          ]
        },
        {
          "output_type": "stream",
          "name": "stdout",
          "text": [
            "INFO:tensorflow:*** Num TPU Cores: 8\n"
          ]
        },
        {
          "output_type": "stream",
          "name": "stderr",
          "text": [
            "INFO:tensorflow:*** Num TPU Cores: 8\n"
          ]
        },
        {
          "output_type": "stream",
          "name": "stdout",
          "text": [
            "INFO:tensorflow:*** Num TPU Workers: 1\n"
          ]
        },
        {
          "output_type": "stream",
          "name": "stderr",
          "text": [
            "INFO:tensorflow:*** Num TPU Workers: 1\n"
          ]
        },
        {
          "output_type": "stream",
          "name": "stdout",
          "text": [
            "INFO:tensorflow:*** Num TPU Cores Per Worker: 8\n"
          ]
        },
        {
          "output_type": "stream",
          "name": "stderr",
          "text": [
            "INFO:tensorflow:*** Num TPU Cores Per Worker: 8\n"
          ]
        },
        {
          "output_type": "stream",
          "name": "stdout",
          "text": [
            "INFO:tensorflow:*** Available Device: _DeviceAttributes(/job:localhost/replica:0/task:0/device:CPU:0, CPU, 0, 0)\n"
          ]
        },
        {
          "output_type": "stream",
          "name": "stderr",
          "text": [
            "INFO:tensorflow:*** Available Device: _DeviceAttributes(/job:localhost/replica:0/task:0/device:CPU:0, CPU, 0, 0)\n"
          ]
        },
        {
          "output_type": "stream",
          "name": "stdout",
          "text": [
            "INFO:tensorflow:*** Available Device: _DeviceAttributes(/job:worker/replica:0/task:0/device:CPU:0, CPU, 0, 0)\n"
          ]
        },
        {
          "output_type": "stream",
          "name": "stderr",
          "text": [
            "INFO:tensorflow:*** Available Device: _DeviceAttributes(/job:worker/replica:0/task:0/device:CPU:0, CPU, 0, 0)\n"
          ]
        },
        {
          "output_type": "stream",
          "name": "stdout",
          "text": [
            "INFO:tensorflow:*** Available Device: _DeviceAttributes(/job:worker/replica:0/task:0/device:TPU:0, TPU, 0, 0)\n"
          ]
        },
        {
          "output_type": "stream",
          "name": "stderr",
          "text": [
            "INFO:tensorflow:*** Available Device: _DeviceAttributes(/job:worker/replica:0/task:0/device:TPU:0, TPU, 0, 0)\n"
          ]
        },
        {
          "output_type": "stream",
          "name": "stdout",
          "text": [
            "INFO:tensorflow:*** Available Device: _DeviceAttributes(/job:worker/replica:0/task:0/device:TPU:1, TPU, 0, 0)\n"
          ]
        },
        {
          "output_type": "stream",
          "name": "stderr",
          "text": [
            "INFO:tensorflow:*** Available Device: _DeviceAttributes(/job:worker/replica:0/task:0/device:TPU:1, TPU, 0, 0)\n"
          ]
        },
        {
          "output_type": "stream",
          "name": "stdout",
          "text": [
            "INFO:tensorflow:*** Available Device: _DeviceAttributes(/job:worker/replica:0/task:0/device:TPU:2, TPU, 0, 0)\n"
          ]
        },
        {
          "output_type": "stream",
          "name": "stderr",
          "text": [
            "INFO:tensorflow:*** Available Device: _DeviceAttributes(/job:worker/replica:0/task:0/device:TPU:2, TPU, 0, 0)\n"
          ]
        },
        {
          "output_type": "stream",
          "name": "stdout",
          "text": [
            "INFO:tensorflow:*** Available Device: _DeviceAttributes(/job:worker/replica:0/task:0/device:TPU:3, TPU, 0, 0)\n"
          ]
        },
        {
          "output_type": "stream",
          "name": "stderr",
          "text": [
            "INFO:tensorflow:*** Available Device: _DeviceAttributes(/job:worker/replica:0/task:0/device:TPU:3, TPU, 0, 0)\n"
          ]
        },
        {
          "output_type": "stream",
          "name": "stdout",
          "text": [
            "INFO:tensorflow:*** Available Device: _DeviceAttributes(/job:worker/replica:0/task:0/device:TPU:4, TPU, 0, 0)\n"
          ]
        },
        {
          "output_type": "stream",
          "name": "stderr",
          "text": [
            "INFO:tensorflow:*** Available Device: _DeviceAttributes(/job:worker/replica:0/task:0/device:TPU:4, TPU, 0, 0)\n"
          ]
        },
        {
          "output_type": "stream",
          "name": "stdout",
          "text": [
            "INFO:tensorflow:*** Available Device: _DeviceAttributes(/job:worker/replica:0/task:0/device:TPU:5, TPU, 0, 0)\n"
          ]
        },
        {
          "output_type": "stream",
          "name": "stderr",
          "text": [
            "INFO:tensorflow:*** Available Device: _DeviceAttributes(/job:worker/replica:0/task:0/device:TPU:5, TPU, 0, 0)\n"
          ]
        },
        {
          "output_type": "stream",
          "name": "stdout",
          "text": [
            "INFO:tensorflow:*** Available Device: _DeviceAttributes(/job:worker/replica:0/task:0/device:TPU:6, TPU, 0, 0)\n"
          ]
        },
        {
          "output_type": "stream",
          "name": "stderr",
          "text": [
            "INFO:tensorflow:*** Available Device: _DeviceAttributes(/job:worker/replica:0/task:0/device:TPU:6, TPU, 0, 0)\n"
          ]
        },
        {
          "output_type": "stream",
          "name": "stdout",
          "text": [
            "INFO:tensorflow:*** Available Device: _DeviceAttributes(/job:worker/replica:0/task:0/device:TPU:7, TPU, 0, 0)\n"
          ]
        },
        {
          "output_type": "stream",
          "name": "stderr",
          "text": [
            "INFO:tensorflow:*** Available Device: _DeviceAttributes(/job:worker/replica:0/task:0/device:TPU:7, TPU, 0, 0)\n"
          ]
        },
        {
          "output_type": "stream",
          "name": "stdout",
          "text": [
            "INFO:tensorflow:*** Available Device: _DeviceAttributes(/job:worker/replica:0/task:0/device:TPU_SYSTEM:0, TPU_SYSTEM, 0, 0)\n"
          ]
        },
        {
          "output_type": "stream",
          "name": "stderr",
          "text": [
            "INFO:tensorflow:*** Available Device: _DeviceAttributes(/job:worker/replica:0/task:0/device:TPU_SYSTEM:0, TPU_SYSTEM, 0, 0)\n"
          ]
        },
        {
          "output_type": "stream",
          "name": "stdout",
          "text": [
            "INFO:tensorflow:*** Available Device: _DeviceAttributes(/job:worker/replica:0/task:0/device:XLA_CPU:0, XLA_CPU, 0, 0)\n"
          ]
        },
        {
          "output_type": "stream",
          "name": "stderr",
          "text": [
            "INFO:tensorflow:*** Available Device: _DeviceAttributes(/job:worker/replica:0/task:0/device:XLA_CPU:0, XLA_CPU, 0, 0)\n"
          ]
        },
        {
          "output_type": "display_data",
          "data": {
            "application/vnd.jupyter.widget-view+json": {
              "model_id": "720191586c0f4bf482c470d8f806ea4a",
              "version_minor": 0,
              "version_major": 2
            },
            "text/plain": [
              "Downloading:   0%|          | 0.00/511M [00:00<?, ?B/s]"
            ]
          },
          "metadata": {}
        },
        {
          "output_type": "stream",
          "name": "stderr",
          "text": [
            "Some layers from the model checkpoint at bert-base-uncased were not used when initializing TFBertModel: ['nsp___cls', 'mlm___cls']\n",
            "- This IS expected if you are initializing TFBertModel from the checkpoint of a model trained on another task or with another architecture (e.g. initializing a BertForSequenceClassification model from a BertForPreTraining model).\n",
            "- This IS NOT expected if you are initializing TFBertModel from the checkpoint of a model that you expect to be exactly identical (initializing a BertForSequenceClassification model from a BertForSequenceClassification model).\n",
            "All the layers of TFBertModel were initialized from the model checkpoint at bert-base-uncased.\n",
            "If your task is similar to the task the model of the checkpoint was trained on, you can already use TFBertModel for predictions without further training.\n"
          ]
        }
      ],
      "source": [
        "tpu = tf.distribute.cluster_resolver.TPUClusterResolver()\n",
        "tf.config.experimental_connect_to_cluster(tpu)\n",
        "tf.tpu.experimental.initialize_tpu_system(tpu)\n",
        "strategy = tf.distribute.TPUStrategy(tpu)\n",
        "\n",
        "# Create model\n",
        "with strategy.scope():\n",
        "    model = create_model()"
      ]
    },
    {
      "cell_type": "code",
      "execution_count": null,
      "metadata": {
        "id": "HwJZOMvrJVwe",
        "colab": {
          "base_uri": "https://localhost:8080/"
        },
        "outputId": "b746762f-fb71-41ef-aed5-805ca76ac800"
      },
      "outputs": [
        {
          "output_type": "stream",
          "name": "stdout",
          "text": [
            "Model: \"model\"\n",
            "__________________________________________________________________________________________________\n",
            " Layer (type)                   Output Shape         Param #     Connected to                     \n",
            "==================================================================================================\n",
            " input_ids (InputLayer)         [(None, 512)]        0           []                               \n",
            "                                                                                                  \n",
            " attention_mask (InputLayer)    [(None, 512)]        0           []                               \n",
            "                                                                                                  \n",
            " token_type_ids (InputLayer)    [(None, 512)]        0           []                               \n",
            "                                                                                                  \n",
            " tf_bert_model (TFBertModel)    TFBaseModelOutputWi  109482240   ['input_ids[0][0]',              \n",
            "                                thPoolingAndCrossAt               'attention_mask[0][0]',         \n",
            "                                tentions(last_hidde               'token_type_ids[0][0]']         \n",
            "                                n_state=(None, 512,                                               \n",
            "                                 768),                                                            \n",
            "                                 pooler_output=(Non                                               \n",
            "                                e, 768),                                                          \n",
            "                                 past_key_values=No                                               \n",
            "                                ne, hidden_states=N                                               \n",
            "                                one, attentions=Non                                               \n",
            "                                e, cross_attentions                                               \n",
            "                                =None)                                                            \n",
            "                                                                                                  \n",
            " dropout_37 (Dropout)           (None, 512, 768)     0           ['tf_bert_model[0][0]']          \n",
            "                                                                                                  \n",
            " dense (Dense)                  (None, 512, 6)       4614        ['dropout_37[0][0]']             \n",
            "                                                                                                  \n",
            "==================================================================================================\n",
            "Total params: 109,486,854\n",
            "Trainable params: 4,614\n",
            "Non-trainable params: 109,482,240\n",
            "__________________________________________________________________________________________________\n"
          ]
        }
      ],
      "source": [
        "model.summary()"
      ]
    },
    {
      "cell_type": "code",
      "execution_count": null,
      "metadata": {
        "id": "-_WvAz1sPnid",
        "colab": {
          "base_uri": "https://localhost:8080/"
        },
        "outputId": "6e4fe04d-1474-4236-d059-e12a95c0581b"
      },
      "outputs": [
        {
          "output_type": "stream",
          "name": "stdout",
          "text": [
            "Iteration: 0\n",
            "WARNING:tensorflow:Gradients do not exist for variables ['tf_bert_model/bert/pooler/dense/kernel:0', 'tf_bert_model/bert/pooler/dense/bias:0'] when minimizing the loss. If you're using `model.compile()`, did you forget to provide a `loss`argument?\n"
          ]
        },
        {
          "output_type": "stream",
          "name": "stderr",
          "text": [
            "WARNING:tensorflow:Gradients do not exist for variables ['tf_bert_model/bert/pooler/dense/kernel:0', 'tf_bert_model/bert/pooler/dense/bias:0'] when minimizing the loss. If you're using `model.compile()`, did you forget to provide a `loss`argument?\n"
          ]
        },
        {
          "output_type": "stream",
          "name": "stdout",
          "text": [
            "WARNING:tensorflow:From /usr/local/lib/python3.7/dist-packages/keras/engine/training.py:2970: StrategyBase.unwrap (from tensorflow.python.distribute.distribute_lib) is deprecated and will be removed in a future version.\n",
            "Instructions for updating:\n",
            "use `experimental_local_results` instead.\n"
          ]
        },
        {
          "output_type": "stream",
          "name": "stderr",
          "text": [
            "WARNING:tensorflow:From /usr/local/lib/python3.7/dist-packages/keras/engine/training.py:2970: StrategyBase.unwrap (from tensorflow.python.distribute.distribute_lib) is deprecated and will be removed in a future version.\n",
            "Instructions for updating:\n",
            "use `experimental_local_results` instead.\n"
          ]
        },
        {
          "output_type": "stream",
          "name": "stdout",
          "text": [
            "WARNING:tensorflow:Gradients do not exist for variables ['tf_bert_model/bert/pooler/dense/kernel:0', 'tf_bert_model/bert/pooler/dense/bias:0'] when minimizing the loss. If you're using `model.compile()`, did you forget to provide a `loss`argument?\n"
          ]
        },
        {
          "output_type": "stream",
          "name": "stderr",
          "text": [
            "WARNING:tensorflow:Gradients do not exist for variables ['tf_bert_model/bert/pooler/dense/kernel:0', 'tf_bert_model/bert/pooler/dense/bias:0'] when minimizing the loss. If you're using `model.compile()`, did you forget to provide a `loss`argument?\n"
          ]
        },
        {
          "output_type": "stream",
          "name": "stdout",
          "text": [
            "50/50 [==============================] - 101s 396ms/step - loss: 0.9042 - accuracy: 0.7562 - val_loss: 0.5137 - val_accuracy: 0.8464\n",
            "Iteration: 1\n",
            "50/50 [==============================] - 7s 145ms/step - loss: 0.5634 - accuracy: 0.8303 - val_loss: 0.4525 - val_accuracy: 0.8617\n",
            "Iteration: 2\n",
            "50/50 [==============================] - 8s 160ms/step - loss: 0.4929 - accuracy: 0.8490 - val_loss: 0.4297 - val_accuracy: 0.8630\n",
            "Iteration: 3\n",
            "50/50 [==============================] - 7s 145ms/step - loss: 0.4461 - accuracy: 0.8606 - val_loss: 0.4421 - val_accuracy: 0.8537\n",
            "Iteration: 4\n",
            "50/50 [==============================] - 7s 145ms/step - loss: 0.4143 - accuracy: 0.8704 - val_loss: 0.4032 - val_accuracy: 0.8677\n",
            "Iteration: 5\n",
            "50/50 [==============================] - 7s 140ms/step - loss: 0.3788 - accuracy: 0.8803 - val_loss: 0.4285 - val_accuracy: 0.8596\n",
            "Iteration: 6\n",
            "50/50 [==============================] - 7s 147ms/step - loss: 0.3412 - accuracy: 0.8915 - val_loss: 0.4315 - val_accuracy: 0.8631\n",
            "Iteration: 7\n",
            "50/50 [==============================] - 7s 143ms/step - loss: 0.3105 - accuracy: 0.9009 - val_loss: 0.4303 - val_accuracy: 0.8679\n",
            "Iteration: 8\n",
            "50/50 [==============================] - 7s 145ms/step - loss: 0.2840 - accuracy: 0.9083 - val_loss: 0.4887 - val_accuracy: 0.8511\n",
            "Iteration: 9\n",
            "50/50 [==============================] - 8s 158ms/step - loss: 0.2567 - accuracy: 0.9173 - val_loss: 0.4473 - val_accuracy: 0.8729\n"
          ]
        }
      ],
      "source": [
        "import time\n",
        "\n",
        "iter = 10\n",
        "best_model_val = 0\n",
        "\n",
        "#Saving models differently as there was consistent implementation error with google drive\n",
        "checkpoint_dir = f'{drive_loc}/BERT_NER_V1'\n",
        "model_1_vals = {}\n",
        "\n",
        "for i in range(iter):\n",
        "  print(f'Iteration: {i}')\n",
        "  history = model.fit(X_train, y_train,\n",
        "                    validation_data = (X_test, y_test),\n",
        "                    epochs = 1,\n",
        "                    batch_size=6,\n",
        "                    verbose=1\n",
        "                    )\n",
        "  model_val = history.history['val_accuracy'][0]\n",
        "  if model_val > best_model_val:\n",
        "    try:\n",
        "      model.save_weights(f'{checkpoint_dir}.h5')\n",
        "      best_model_val = model_val\n",
        "    except:\n",
        "      time.sleep(5)\n",
        "      model.save_weights(f'{checkpoint_dir}.h5')\n",
        "      best_model_val = model_val\n",
        "\n",
        "  \n",
        "  for key in history.history.keys():\n",
        "    if key not in model_1_vals:\n",
        "      model_1_vals[key] = []\n",
        "    model_1_vals[key].append(history.history[key][0])\n",
        "\n",
        "model.load_weights(f'{checkpoint_dir}.h5')"
      ]
    },
    {
      "cell_type": "code",
      "execution_count": null,
      "metadata": {
        "id": "GfC2TTU_Nn0c",
        "colab": {
          "base_uri": "https://localhost:8080/",
          "height": 545
        },
        "outputId": "201d80ab-fe88-4d6a-9c6e-6378f30a02b9"
      },
      "outputs": [
        {
          "output_type": "display_data",
          "data": {
            "image/png": "[encoded data removed]",
            "text/plain": [
              "<Figure size 432x288 with 1 Axes>"
            ]
          },
          "metadata": {
            "needs_background": "light"
          }
        },
        {
          "output_type": "display_data",
          "data": {
            "image/png": "[encoded data removed]",
            "text/plain": [
              "<Figure size 432x288 with 1 Axes>"
            ]
          },
          "metadata": {
            "needs_background": "light"
          }
        }
      ],
      "source": [
        "import matplotlib.pyplot as plt\n",
        "\n",
        "plt.plot(model_1_vals['val_loss'])\n",
        "plt.plot(model_1_vals['loss'])\n",
        "plt.legend(['val_loss', 'loss'])\n",
        "plt.title('Loss')\n",
        "plt.show()\n",
        "\n",
        "plt.plot(model_1_vals['accuracy'])\n",
        "plt.plot(model_1_vals['val_accuracy'])\n",
        "plt.legend(['accuracy', 'val_accuracy'])\n",
        "plt.title('Accuracy')\n",
        "plt.show()"
      ]
    },
    {
      "cell_type": "code",
      "execution_count": null,
      "metadata": {
        "id": "nlWz6PcMYpk1"
      },
      "outputs": [],
      "source": [
        "predictions = model.predict(X_test)"
      ]
    },
    {
      "cell_type": "code",
      "execution_count": null,
      "metadata": {
        "id": "v9Rb_ny3Y_yD",
        "colab": {
          "base_uri": "https://localhost:8080/"
        },
        "outputId": "9c75e3b3-5c32-4bdf-d142-07d7129c7edf"
      },
      "outputs": [
        {
          "output_type": "execute_result",
          "data": {
            "text/plain": [
              "[['Platiff', 'trump'],\n",
              " ['Platiff', 'u . s . civil rights groups'],\n",
              " ['Defendant', 'alphabet'],\n",
              " ['Defendant', 'youtube'],\n",
              " ['Reason', 'it does not remove president donald'],\n",
              " ['Reason', \"' s channel\"],\n",
              " ['Reason', 'hate'],\n",
              " ['Reason', 'profit'],\n",
              " ['Reason', 'youtube take down'],\n",
              " ['Reason', \"' s\"],\n",
              " ['Reason', 'youtube channel'],\n",
              " ['Reason', 'million subscribers'],\n",
              " ['Defendant', 'youtube'],\n",
              " ['Reason',\n",
              "  \"removed new content uploaded to president donald trump ' s channel as it violated policies for inciting violence\"],\n",
              " ['Defendant', 'youtube'],\n",
              " ['Defendant', 'facebook'],\n",
              " ['Defendant', 'trump'],\n",
              " ['Defendant', 'trump'],\n",
              " ['Defendant', 'youtube'],\n",
              " ['Reason', 'spread of hate'],\n",
              " ['Reason', 'hate']]"
            ]
          },
          "metadata": {},
          "execution_count": 38
        }
      ],
      "source": [
        "num = 48\n",
        "output = get_entities(X_test['input_ids'][num], predictions[num], 0.5)\n",
        "output_comparison = get_entities(X_test['input_ids'][num], y_test[num], 0.5)\n",
        "output"
      ]
    },
    {
      "cell_type": "code",
      "execution_count": null,
      "metadata": {
        "id": "7Xus6aXFZX1U",
        "colab": {
          "base_uri": "https://localhost:8080/"
        },
        "outputId": "2d5eb2eb-fea9-453f-85e4-ca52aee0e475"
      },
      "outputs": [
        {
          "output_type": "execute_result",
          "data": {
            "text/plain": [
              "[['Defendant', 'chevron'],\n",
              " ['Defendant', 'chevron'],\n",
              " ['Defendant', 'chevron'],\n",
              " ['Platiff', 'cities of san francisco and oakland'],\n",
              " ['Defendant', 'five major energy producers'],\n",
              " ['Defendant', 'cvx'],\n",
              " ['Defendant', 'exxon'],\n",
              " ['Defendant', 'conocophillips'],\n",
              " ['Defendant', 'shell'],\n",
              " ['Reason',\n",
              "  'accuses five major energy producers - cvx , exxon ( nyse : ) , conocophillips ( nyse : ) , shell ( lon : ) ( rds . a , rds . b ) and - of misleading the public for years about their role in global warming'],\n",
              " ['Reason',\n",
              "  'the cities are seeking an abatement fund to help them address flooding they say is a result of climate change'],\n",
              " ['Defendant', 'exxon'],\n",
              " ['Defendant', 'chevron']]"
            ]
          },
          "metadata": {},
          "execution_count": 23
        }
      ],
      "source": [
        "output_comparison"
      ]
    },
    {
      "cell_type": "code",
      "source": [
        "training_data[-1]\n",
        "text = training_data[-1][0]\n",
        "for ent in training_data[-1][1]['entities']:\n",
        "  print(f'{ent[2]} :', text[ent[0]:ent[1]])"
      ],
      "metadata": {
        "id": "-UEzVIJX4eDi",
        "colab": {
          "base_uri": "https://localhost:8080/"
        },
        "outputId": "bb56b69c-7173-4cca-c37d-c8c78ea44e9a"
      },
      "execution_count": null,
      "outputs": [
        {
          "output_type": "stream",
          "name": "stdout",
          "text": [
            "Defendant : Amazon\n",
            "Platiff : Washington, DC's attorney general\n",
            "Defendant : Amazon.com\n",
            "Defendant : Amazon\n",
            "Reason : the online retailer broke antitrust law by requiring that third-party sellers not offer better deals for their products elsewhere\n",
            "Platiff : Attorney General Karl Racine\n",
            "Defendant : Amazon\n",
            "Defendant : Amazon\n",
            "Defendant : Amazon\n",
            "Defendant : Amazon\n",
            "Platiff : DC attorney general\n",
            "Defendant : Amazon\n",
            "Defendant : Amazon\n",
            "Defendant : Amazon\n",
            "Defendant : Amazon\n",
            "Reason : used its dominant position in the online retail market to win at all costs. It maximizes its profits at the expense of third-party sellers and consumers, while harming competition\n",
            "Defendant : Amazon.com\n"
          ]
        }
      ]
    },
    {
      "cell_type": "code",
      "execution_count": null,
      "metadata": {
        "id": "UoIbyacDKEEa"
      },
      "outputs": [],
      "source": [
        "\"\"\"\n",
        "entity_diction = {\n",
        "    \"Reason\":0,\n",
        "    \"Outcome\":1,\n",
        "    \"No-Tag\":2\n",
        "}\n",
        "\n",
        "\"\"\"\n",
        "entity_diction = {\n",
        "    \"Platiff\":0,\n",
        "    \"Defendant\":1,\n",
        "    \"Reason\":2,\n",
        "    \"Penalties\":3,\n",
        "    \"Outcome\":4,\n",
        "    \"No-Tag\":5\n",
        "}\n",
        "\n",
        "\n",
        "\n",
        "metrics = {\n",
        "    \n",
        "}\n",
        "\n",
        "\n",
        "predictions = model.predict(X_test)\n",
        "\n",
        "\n",
        "predictions[predictions > 0.5] = 1\n",
        "predictions[predictions <= 0.5] = 0\n",
        "\n",
        "for key in entity_diction.keys():\n",
        "  val = entity_diction[key]\n",
        "  metrics[key] = {'Pred':[],\n",
        "                  'Actual':[]\n",
        "                  }\n",
        "  for i in range(len(X_test['input_ids'])):\n",
        "    for n in range(len(X_test['input_ids'][i])):\n",
        "        mask = X_test['attention_mask'][i][n]\n",
        "        if mask == 1:\n",
        "            pred = predictions[i][n][val]\n",
        "            if ~np.isinf(pred):\n",
        "              if ~np.isnan(pred):\n",
        "                metrics[key]['Pred'].append(pred)\n",
        "                metrics[key]['Actual'].append(y_test[i][n][val])\n",
        "\n"
      ]
    },
    {
      "cell_type": "code",
      "execution_count": null,
      "metadata": {
        "id": "V9qht0YxZorq"
      },
      "outputs": [],
      "source": [
        "from sklearn.metrics import accuracy_score, precision_score, recall_score, f1_score, confusion_matrix\n",
        "\n",
        "outputer = {'Label':[],\n",
        "            'Accuracy':[],\n",
        "            'Precision':[],\n",
        "            'Recall':[],\n",
        "            'F1 Score':[]}\n",
        "\n",
        "confusion_matrixs = {}\n",
        "\n",
        "for key in metrics.keys():\n",
        "    outputer['Label'].append(key)\n",
        "    outputer['Accuracy'].append(accuracy_score(metrics[key]['Actual'], metrics[key]['Pred']))\n",
        "    outputer['Precision'].append(precision_score(metrics[key]['Actual'], metrics[key]['Pred']))\n",
        "    outputer['Recall'].append(recall_score(metrics[key]['Actual'], metrics[key]['Pred']))\n",
        "    outputer['F1 Score'].append(f1_score(metrics[key]['Actual'], metrics[key]['Pred']))\n",
        "    confusion_matrixs[key] = confusion_matrix(metrics[key]['Actual'], metrics[key]['Pred'])"
      ]
    },
    {
      "cell_type": "code",
      "execution_count": null,
      "metadata": {
        "id": "ikrRxMqlaCLd",
        "colab": {
          "base_uri": "https://localhost:8080/",
          "height": 237
        },
        "outputId": "6bb06988-4e53-4c4f-d78c-56a8913990be"
      },
      "outputs": [
        {
          "output_type": "execute_result",
          "data": {
            "text/html": [
              "\n",
              "  <div id=\"df-61bd03d4-4af2-454b-a365-8ba71e662362\">\n",
              "    <div class=\"colab-df-container\">\n",
              "      <div>\n",
              "<style scoped>\n",
              "    .dataframe tbody tr th:only-of-type {\n",
              "        vertical-align: middle;\n",
              "    }\n",
              "\n",
              "    .dataframe tbody tr th {\n",
              "        vertical-align: top;\n",
              "    }\n",
              "\n",
              "    .dataframe thead th {\n",
              "        text-align: right;\n",
              "    }\n",
              "</style>\n",
              "<table border=\"1\" class=\"dataframe\">\n",
              "  <thead>\n",
              "    <tr style=\"text-align: right;\">\n",
              "      <th></th>\n",
              "      <th>Label</th>\n",
              "      <th>Accuracy</th>\n",
              "      <th>Precision</th>\n",
              "      <th>Recall</th>\n",
              "      <th>F1 Score</th>\n",
              "    </tr>\n",
              "  </thead>\n",
              "  <tbody>\n",
              "    <tr>\n",
              "      <th>0</th>\n",
              "      <td>Platiff</td>\n",
              "      <td>0.973312</td>\n",
              "      <td>0.649682</td>\n",
              "      <td>0.325100</td>\n",
              "      <td>0.433351</td>\n",
              "    </tr>\n",
              "    <tr>\n",
              "      <th>1</th>\n",
              "      <td>Defendant</td>\n",
              "      <td>0.974187</td>\n",
              "      <td>0.663836</td>\n",
              "      <td>0.787322</td>\n",
              "      <td>0.720325</td>\n",
              "    </tr>\n",
              "    <tr>\n",
              "      <th>2</th>\n",
              "      <td>Reason</td>\n",
              "      <td>0.906453</td>\n",
              "      <td>0.546778</td>\n",
              "      <td>0.627685</td>\n",
              "      <td>0.584444</td>\n",
              "    </tr>\n",
              "    <tr>\n",
              "      <th>3</th>\n",
              "      <td>Penalties</td>\n",
              "      <td>0.995948</td>\n",
              "      <td>0.714286</td>\n",
              "      <td>0.087719</td>\n",
              "      <td>0.156250</td>\n",
              "    </tr>\n",
              "    <tr>\n",
              "      <th>4</th>\n",
              "      <td>Outcome</td>\n",
              "      <td>0.964007</td>\n",
              "      <td>0.525547</td>\n",
              "      <td>0.244233</td>\n",
              "      <td>0.333488</td>\n",
              "    </tr>\n",
              "    <tr>\n",
              "      <th>5</th>\n",
              "      <td>No-Tag</td>\n",
              "      <td>0.854852</td>\n",
              "      <td>0.918660</td>\n",
              "      <td>0.896774</td>\n",
              "      <td>0.907585</td>\n",
              "    </tr>\n",
              "  </tbody>\n",
              "</table>\n",
              "</div>\n",
              "      <button class=\"colab-df-convert\" onclick=\"convertToInteractive('df-61bd03d4-4af2-454b-a365-8ba71e662362')\"\n",
              "              title=\"Convert this dataframe to an interactive table.\"\n",
              "              style=\"display:none;\">\n",
              "        \n",
              "  <svg xmlns=\"http://www.w3.org/2000/svg\" height=\"24px\"viewBox=\"0 0 24 24\"\n",
              "       width=\"24px\">\n",
              "    <path d=\"M0 0h24v24H0V0z\" fill=\"none\"/>\n",
              "    <path d=\"M18.56 5.44l.94 2.06.94-2.06 2.06-.94-2.06-.94-.94-2.06-.94 2.06-2.06.94zm-11 1L8.5 8.5l.94-2.06 2.06-.94-2.06-.94L8.5 2.5l-.94 2.06-2.06.94zm10 10l.94 2.06.94-2.06 2.06-.94-2.06-.94-.94-2.06-.94 2.06-2.06.94z\"/><path d=\"M17.41 7.96l-1.37-1.37c-.4-.4-.92-.59-1.43-.59-.52 0-1.04.2-1.43.59L10.3 9.45l-7.72 7.72c-.78.78-.78 2.05 0 2.83L4 21.41c.39.39.9.59 1.41.59.51 0 1.02-.2 1.41-.59l7.78-7.78 2.81-2.81c.8-.78.8-2.07 0-2.86zM5.41 20L4 18.59l7.72-7.72 1.47 1.35L5.41 20z\"/>\n",
              "  </svg>\n",
              "      </button>\n",
              "      \n",
              "  <style>\n",
              "    .colab-df-container {\n",
              "      display:flex;\n",
              "      flex-wrap:wrap;\n",
              "      gap: 12px;\n",
              "    }\n",
              "\n",
              "    .colab-df-convert {\n",
              "      background-color: #E8F0FE;\n",
              "      border: none;\n",
              "      border-radius: 50%;\n",
              "      cursor: pointer;\n",
              "      display: none;\n",
              "      fill: #1967D2;\n",
              "      height: 32px;\n",
              "      padding: 0 0 0 0;\n",
              "      width: 32px;\n",
              "    }\n",
              "\n",
              "    .colab-df-convert:hover {\n",
              "      background-color: #E2EBFA;\n",
              "      box-shadow: 0px 1px 2px rgba(60, 64, 67, 0.3), 0px 1px 3px 1px rgba(60, 64, 67, 0.15);\n",
              "      fill: #174EA6;\n",
              "    }\n",
              "\n",
              "    [theme=dark] .colab-df-convert {\n",
              "      background-color: #3B4455;\n",
              "      fill: #D2E3FC;\n",
              "    }\n",
              "\n",
              "    [theme=dark] .colab-df-convert:hover {\n",
              "      background-color: #434B5C;\n",
              "      box-shadow: 0px 1px 3px 1px rgba(0, 0, 0, 0.15);\n",
              "      filter: drop-shadow(0px 1px 2px rgba(0, 0, 0, 0.3));\n",
              "      fill: #FFFFFF;\n",
              "    }\n",
              "  </style>\n",
              "\n",
              "      <script>\n",
              "        const buttonEl =\n",
              "          document.querySelector('#df-61bd03d4-4af2-454b-a365-8ba71e662362 button.colab-df-convert');\n",
              "        buttonEl.style.display =\n",
              "          google.colab.kernel.accessAllowed ? 'block' : 'none';\n",
              "\n",
              "        async function convertToInteractive(key) {\n",
              "          const element = document.querySelector('#df-61bd03d4-4af2-454b-a365-8ba71e662362');\n",
              "          const dataTable =\n",
              "            await google.colab.kernel.invokeFunction('convertToInteractive',\n",
              "                                                     [key], {});\n",
              "          if (!dataTable) return;\n",
              "\n",
              "          const docLinkHtml = 'Like what you see? Visit the ' +\n",
              "            '<a target=\"_blank\" href=https://colab.research.google.com/notebooks/data_table.ipynb>data table notebook</a>'\n",
              "            + ' to learn more about interactive tables.';\n",
              "          element.innerHTML = '';\n",
              "          dataTable['output_type'] = 'display_data';\n",
              "          await google.colab.output.renderOutput(dataTable, element);\n",
              "          const docLink = document.createElement('div');\n",
              "          docLink.innerHTML = docLinkHtml;\n",
              "          element.appendChild(docLink);\n",
              "        }\n",
              "      </script>\n",
              "    </div>\n",
              "  </div>\n",
              "  "
            ],
            "text/plain": [
              "       Label  Accuracy  Precision    Recall  F1 Score\n",
              "0    Platiff  0.973312   0.649682  0.325100  0.433351\n",
              "1  Defendant  0.974187   0.663836  0.787322  0.720325\n",
              "2     Reason  0.906453   0.546778  0.627685  0.584444\n",
              "3  Penalties  0.995948   0.714286  0.087719  0.156250\n",
              "4    Outcome  0.964007   0.525547  0.244233  0.333488\n",
              "5     No-Tag  0.854852   0.918660  0.896774  0.907585"
            ]
          },
          "metadata": {},
          "execution_count": 27
        }
      ],
      "source": [
        "import pandas as pd\n",
        "df = pd.DataFrame(outputer, columns=['Label', 'Accuracy','Precision', 'Recall', 'F1 Score'])\n",
        "df"
      ]
    },
    {
      "cell_type": "code",
      "execution_count": null,
      "metadata": {
        "id": "iTs4Cp6q6371",
        "colab": {
          "base_uri": "https://localhost:8080/"
        },
        "outputId": "e6528146-4021-4db8-e10a-3a191231755f"
      },
      "outputs": [
        {
          "output_type": "stream",
          "name": "stdout",
          "text": [
            "Platiff\n",
            "[[38505   220]\n",
            " [  847   408]]\n",
            "Defendant\n",
            "[[37619   673]\n",
            " [  359  1329]]\n",
            "Reason\n",
            "[[33610  2180]\n",
            " [ 1560  2630]]\n",
            "Penalties\n",
            "[[39803     6]\n",
            " [  156    15]]\n",
            "Outcome\n",
            "[[38181   325]\n",
            " [ 1114   360]]\n",
            "No-Tag\n",
            "[[ 5682  2523]\n",
            " [ 3280 28495]]\n"
          ]
        }
      ],
      "source": [
        "for key in confusion_matrixs.keys():\n",
        "  print(key)\n",
        "  print(confusion_matrixs[key])"
      ]
    },
    {
      "cell_type": "code",
      "execution_count": null,
      "metadata": {
        "id": "P03_uMBekBYQ"
      },
      "outputs": [],
      "source": [
        "def inverse_sigmoid(prob):\n",
        "  return -(np.log((1/prob) - 1))"
      ]
    },
    {
      "cell_type": "code",
      "execution_count": null,
      "metadata": {
        "id": "gxpW_XCYuKME",
        "colab": {
          "base_uri": "https://localhost:8080/"
        },
        "outputId": "e7d42399-6106-4da5-e431-1e71448a59ce"
      },
      "outputs": [
        {
          "output_type": "stream",
          "name": "stdout",
          "text": [
            "X =  1.3862943611198906\n",
            "y =  -1.3862943611198908\n"
          ]
        }
      ],
      "source": [
        "prob = 0.8\n",
        "_X_ = inverse_sigmoid(prob)\n",
        "_y_ = inverse_sigmoid((1-prob))\n",
        "print('X = ', inverse_sigmoid(prob))\n",
        "print('y = ', inverse_sigmoid((1-prob)))"
      ]
    },
    {
      "cell_type": "code",
      "execution_count": null,
      "metadata": {
        "id": "pg3ux6_juutg"
      },
      "outputs": [],
      "source": [
        "def softmax_calc(vals, val):\n",
        "  \n",
        "  vals = np.array(vals)\n",
        "  softmax = np.exp(val)/(np.exp(vals).sum())\n",
        "\n",
        "  return softmax"
      ]
    },
    {
      "cell_type": "code",
      "execution_count": null,
      "metadata": {
        "id": "2UDI5gn7veLe",
        "colab": {
          "base_uri": "https://localhost:8080/"
        },
        "outputId": "7a0afc06-3ec5-421e-a005-1e6f84dd56b7"
      },
      "outputs": [
        {
          "output_type": "stream",
          "name": "stdout",
          "text": [
            "0.9411764705882353\n"
          ]
        }
      ],
      "source": [
        "test = [_X_, _y_]\n",
        "print(softmax_calc(test, _X_))"
      ]
    },
    {
      "cell_type": "code",
      "execution_count": null,
      "metadata": {
        "id": "jJjKfBkC30yz",
        "colab": {
          "base_uri": "https://localhost:8080/",
          "height": 335
        },
        "outputId": "7847407a-e096-4da3-92c6-85545d667cb1"
      },
      "outputs": [
        {
          "output_type": "error",
          "ename": "ValueError",
          "evalue": "ignored",
          "traceback": [
            "\u001b[0;31m---------------------------------------------------------------------------\u001b[0m",
            "\u001b[0;31mValueError\u001b[0m                                Traceback (most recent call last)",
            "\u001b[0;32m<ipython-input-33-38d998d27289>\u001b[0m in \u001b[0;36m<module>\u001b[0;34m()\u001b[0m\n\u001b[0;32m----> 1\u001b[0;31m \u001b[0mnew_mod\u001b[0m \u001b[0;34m=\u001b[0m \u001b[0mtf\u001b[0m\u001b[0;34m.\u001b[0m\u001b[0mkeras\u001b[0m\u001b[0;34m.\u001b[0m\u001b[0mModel\u001b[0m\u001b[0;34m(\u001b[0m\u001b[0mmodel\u001b[0m\u001b[0;34m.\u001b[0m\u001b[0minput\u001b[0m\u001b[0;34m,\u001b[0m \u001b[0mmodel\u001b[0m\u001b[0;34m.\u001b[0m\u001b[0mget_layer\u001b[0m\u001b[0;34m(\u001b[0m\u001b[0;34m'dense_1'\u001b[0m\u001b[0;34m)\u001b[0m\u001b[0;34m.\u001b[0m\u001b[0moutput\u001b[0m\u001b[0;34m)\u001b[0m\u001b[0;34m\u001b[0m\u001b[0;34m\u001b[0m\u001b[0m\n\u001b[0m",
            "\u001b[0;32m/usr/local/lib/python3.7/dist-packages/keras/engine/training.py\u001b[0m in \u001b[0;36mget_layer\u001b[0;34m(self, name, index)\u001b[0m\n\u001b[1;32m   2629\u001b[0m         \u001b[0;32mif\u001b[0m \u001b[0mlayer\u001b[0m\u001b[0;34m.\u001b[0m\u001b[0mname\u001b[0m \u001b[0;34m==\u001b[0m \u001b[0mname\u001b[0m\u001b[0;34m:\u001b[0m\u001b[0;34m\u001b[0m\u001b[0;34m\u001b[0m\u001b[0m\n\u001b[1;32m   2630\u001b[0m           \u001b[0;32mreturn\u001b[0m \u001b[0mlayer\u001b[0m\u001b[0;34m\u001b[0m\u001b[0;34m\u001b[0m\u001b[0m\n\u001b[0;32m-> 2631\u001b[0;31m       raise ValueError(f'No such layer: {name}. Existing layers are '\n\u001b[0m\u001b[1;32m   2632\u001b[0m                        f'{self.layers}.')\n\u001b[1;32m   2633\u001b[0m     raise ValueError('Provide either a layer name or layer index at '\n",
            "\u001b[0;31mValueError\u001b[0m: No such layer: dense_1. Existing layers are [<keras.engine.input_layer.InputLayer object at 0x7f3805a6b4d0>, <keras.engine.input_layer.InputLayer object at 0x7f3806046d50>, <keras.engine.input_layer.InputLayer object at 0x7f3806044510>, <transformers.models.bert.modeling_tf_bert.TFBertModel object at 0x7f3806b0aed0>, <keras.layers.core.dropout.Dropout object at 0x7f3806044190>, <keras.layers.core.dense.Dense object at 0x7f3806038350>]."
          ]
        }
      ],
      "source": [
        "new_mod = tf.keras.Model(model.input, model.get_layer('dense_1').output)"
      ]
    },
    {
      "cell_type": "code",
      "execution_count": null,
      "metadata": {
        "id": "UC4oOtHo4Xza"
      },
      "outputs": [],
      "source": [
        "test_output = new_mod.predict(X_test)[2]"
      ]
    },
    {
      "cell_type": "code",
      "execution_count": null,
      "metadata": {
        "id": "nDYJm3oW4vfw"
      },
      "outputs": [],
      "source": [
        "test_z = np.dot(test_output, model.get_layer('dense_2').get_weights()[0])"
      ]
    },
    {
      "cell_type": "code",
      "execution_count": null,
      "metadata": {
        "id": "d1AbdsAY7xVF"
      },
      "outputs": [],
      "source": [
        "test_z"
      ]
    },
    {
      "cell_type": "code",
      "execution_count": null,
      "metadata": {
        "id": "TOiBTVbg5tJt"
      },
      "outputs": [],
      "source": [
        "test = model.predict(X_test)[0]"
      ]
    },
    {
      "cell_type": "code",
      "execution_count": null,
      "metadata": {
        "id": "OIgL6y8T6ro6"
      },
      "outputs": [],
      "source": [
        "new_predict = []\n",
        "\n",
        "for i in range(len(test_output)):\n",
        "    new = []\n",
        "    for n in range(len(test_z[i])):\n",
        "      zs = softmax_calc(test_z[i],test_z[i][n]) \n",
        "      new.append(zs)\n",
        "    new_predict.append(new)"
      ]
    },
    {
      "cell_type": "code",
      "execution_count": null,
      "metadata": {
        "id": "S3jyhbhD9Pbw"
      },
      "outputs": [],
      "source": [
        "roll = 7\n",
        "new_pred = []\n",
        "for i in range(len(test_z)):\n",
        "  if i >= roll:\n",
        "      back = i - roll\n",
        "      forward = i + roll\n",
        "      summary = test_z[back:forward]\n",
        "      ori = []\n",
        "      for sum in summary:\n",
        "          if ori == []:\n",
        "            ori = sum\n",
        "          else:\n",
        "            ori += sum\n",
        "      ori /= len(summary)\n",
        "      preds = []\n",
        "      for val in ori:\n",
        "        dist = softmax_calc(ori, val)\n",
        "        preds.append(dist)\n",
        "      new_pred.append(preds)\n",
        "      \n",
        "\n"
      ]
    },
    {
      "cell_type": "code",
      "execution_count": null,
      "metadata": {
        "id": "KX-7cPEJ3Th3"
      },
      "outputs": [],
      "source": [
        "new_pred = np.array(new_pred)\n",
        "new_output = get_entities_argmax_altered(X_test['input_ids'][num], new_pred, 0.5)\n",
        "new_output"
      ]
    },
    {
      "cell_type": "code",
      "execution_count": null,
      "metadata": {
        "id": "4NC1M1RE3yjA"
      },
      "outputs": [],
      "source": [
        "test_z "
      ]
    }
  ],
  "metadata": {
    "accelerator": "TPU",
    "colab": {
      "collapsed_sections": [],
      "name": "BERT_Information_Extraction_V2.ipynb",
      "provenance": []
    },
    "kernelspec": {
      "display_name": "Python 3",
      "name": "python3"
    },
    "language_info": {
      "name": "python"
    },
    "widgets": {
      "application/vnd.jupyter.widget-state+json": {
        "f0e3b27e64d746b9a9d1f039a7497721": {
          "model_module": "@jupyter-widgets/controls",
          "model_name": "HBoxModel",
          "model_module_version": "1.5.0",
          "state": {
            "_view_name": "HBoxView",
            "_dom_classes": [],
            "_model_name": "HBoxModel",
            "_view_module": "@jupyter-widgets/controls",
            "_model_module_version": "1.5.0",
            "_view_count": null,
            "_view_module_version": "1.5.0",
            "box_style": "",
            "layout": "IPY_MODEL_c1ffdb7b8b0a4445a77fa1351947fc26",
            "_model_module": "@jupyter-widgets/controls",
            "children": [
              "IPY_MODEL_a8bb8f1fc0bd4cb79cb508a4b6d1901f",
              "IPY_MODEL_199a41c9e4e246ffb3bcb23ac4fc1a5d",
              "IPY_MODEL_749e2bb3d5ad4c6d99f16d77e6a65cff"
            ]
          }
        },
        "c1ffdb7b8b0a4445a77fa1351947fc26": {
          "model_module": "@jupyter-widgets/base",
          "model_name": "LayoutModel",
          "model_module_version": "1.2.0",
          "state": {
            "_view_name": "LayoutView",
            "grid_template_rows": null,
            "right": null,
            "justify_content": null,
            "_view_module": "@jupyter-widgets/base",
            "overflow": null,
            "_model_module_version": "1.2.0",
            "_view_count": null,
            "flex_flow": null,
            "width": null,
            "min_width": null,
            "border": null,
            "align_items": null,
            "bottom": null,
            "_model_module": "@jupyter-widgets/base",
            "top": null,
            "grid_column": null,
            "overflow_y": null,
            "overflow_x": null,
            "grid_auto_flow": null,
            "grid_area": null,
            "grid_template_columns": null,
            "flex": null,
            "_model_name": "LayoutModel",
            "justify_items": null,
            "grid_row": null,
            "max_height": null,
            "align_content": null,
            "visibility": null,
            "align_self": null,
            "height": null,
            "min_height": null,
            "padding": null,
            "grid_auto_rows": null,
            "grid_gap": null,
            "max_width": null,
            "order": null,
            "_view_module_version": "1.2.0",
            "grid_template_areas": null,
            "object_position": null,
            "object_fit": null,
            "grid_auto_columns": null,
            "margin": null,
            "display": null,
            "left": null
          }
        },
        "a8bb8f1fc0bd4cb79cb508a4b6d1901f": {
          "model_module": "@jupyter-widgets/controls",
          "model_name": "HTMLModel",
          "model_module_version": "1.5.0",
          "state": {
            "_view_name": "HTMLView",
            "style": "IPY_MODEL_191802bd255848bbb445d87d42694404",
            "_dom_classes": [],
            "description": "",
            "_model_name": "HTMLModel",
            "placeholder": "​",
            "_view_module": "@jupyter-widgets/controls",
            "_model_module_version": "1.5.0",
            "value": "Downloading: 100%",
            "_view_count": null,
            "_view_module_version": "1.5.0",
            "description_tooltip": null,
            "_model_module": "@jupyter-widgets/controls",
            "layout": "IPY_MODEL_69f10360ff134015852a50665da42ac9"
          }
        },
        "199a41c9e4e246ffb3bcb23ac4fc1a5d": {
          "model_module": "@jupyter-widgets/controls",
          "model_name": "FloatProgressModel",
          "model_module_version": "1.5.0",
          "state": {
            "_view_name": "ProgressView",
            "style": "IPY_MODEL_d7dfdc21958f4e4cacdfc06f932265cd",
            "_dom_classes": [],
            "description": "",
            "_model_name": "FloatProgressModel",
            "bar_style": "success",
            "max": 28,
            "_view_module": "@jupyter-widgets/controls",
            "_model_module_version": "1.5.0",
            "value": 28,
            "_view_count": null,
            "_view_module_version": "1.5.0",
            "orientation": "horizontal",
            "min": 0,
            "description_tooltip": null,
            "_model_module": "@jupyter-widgets/controls",
            "layout": "IPY_MODEL_0c615b825b8c41148d5fa99b554f5919"
          }
        },
        "749e2bb3d5ad4c6d99f16d77e6a65cff": {
          "model_module": "@jupyter-widgets/controls",
          "model_name": "HTMLModel",
          "model_module_version": "1.5.0",
          "state": {
            "_view_name": "HTMLView",
            "style": "IPY_MODEL_aa21aa19b6944f5c92421b0cc8131fdd",
            "_dom_classes": [],
            "description": "",
            "_model_name": "HTMLModel",
            "placeholder": "​",
            "_view_module": "@jupyter-widgets/controls",
            "_model_module_version": "1.5.0",
            "value": " 28.0/28.0 [00:00&lt;00:00, 457B/s]",
            "_view_count": null,
            "_view_module_version": "1.5.0",
            "description_tooltip": null,
            "_model_module": "@jupyter-widgets/controls",
            "layout": "IPY_MODEL_541990d03722478e8b0b53905995fcd2"
          }
        },
        "191802bd255848bbb445d87d42694404": {
          "model_module": "@jupyter-widgets/controls",
          "model_name": "DescriptionStyleModel",
          "model_module_version": "1.5.0",
          "state": {
            "_view_name": "StyleView",
            "_model_name": "DescriptionStyleModel",
            "description_width": "",
            "_view_module": "@jupyter-widgets/base",
            "_model_module_version": "1.5.0",
            "_view_count": null,
            "_view_module_version": "1.2.0",
            "_model_module": "@jupyter-widgets/controls"
          }
        },
        "69f10360ff134015852a50665da42ac9": {
          "model_module": "@jupyter-widgets/base",
          "model_name": "LayoutModel",
          "model_module_version": "1.2.0",
          "state": {
            "_view_name": "LayoutView",
            "grid_template_rows": null,
            "right": null,
            "justify_content": null,
            "_view_module": "@jupyter-widgets/base",
            "overflow": null,
            "_model_module_version": "1.2.0",
            "_view_count": null,
            "flex_flow": null,
            "width": null,
            "min_width": null,
            "border": null,
            "align_items": null,
            "bottom": null,
            "_model_module": "@jupyter-widgets/base",
            "top": null,
            "grid_column": null,
            "overflow_y": null,
            "overflow_x": null,
            "grid_auto_flow": null,
            "grid_area": null,
            "grid_template_columns": null,
            "flex": null,
            "_model_name": "LayoutModel",
            "justify_items": null,
            "grid_row": null,
            "max_height": null,
            "align_content": null,
            "visibility": null,
            "align_self": null,
            "height": null,
            "min_height": null,
            "padding": null,
            "grid_auto_rows": null,
            "grid_gap": null,
            "max_width": null,
            "order": null,
            "_view_module_version": "1.2.0",
            "grid_template_areas": null,
            "object_position": null,
            "object_fit": null,
            "grid_auto_columns": null,
            "margin": null,
            "display": null,
            "left": null
          }
        },
        "d7dfdc21958f4e4cacdfc06f932265cd": {
          "model_module": "@jupyter-widgets/controls",
          "model_name": "ProgressStyleModel",
          "model_module_version": "1.5.0",
          "state": {
            "_view_name": "StyleView",
            "_model_name": "ProgressStyleModel",
            "description_width": "",
            "_view_module": "@jupyter-widgets/base",
            "_model_module_version": "1.5.0",
            "_view_count": null,
            "_view_module_version": "1.2.0",
            "bar_color": null,
            "_model_module": "@jupyter-widgets/controls"
          }
        },
        "0c615b825b8c41148d5fa99b554f5919": {
          "model_module": "@jupyter-widgets/base",
          "model_name": "LayoutModel",
          "model_module_version": "1.2.0",
          "state": {
            "_view_name": "LayoutView",
            "grid_template_rows": null,
            "right": null,
            "justify_content": null,
            "_view_module": "@jupyter-widgets/base",
            "overflow": null,
            "_model_module_version": "1.2.0",
            "_view_count": null,
            "flex_flow": null,
            "width": null,
            "min_width": null,
            "border": null,
            "align_items": null,
            "bottom": null,
            "_model_module": "@jupyter-widgets/base",
            "top": null,
            "grid_column": null,
            "overflow_y": null,
            "overflow_x": null,
            "grid_auto_flow": null,
            "grid_area": null,
            "grid_template_columns": null,
            "flex": null,
            "_model_name": "LayoutModel",
            "justify_items": null,
            "grid_row": null,
            "max_height": null,
            "align_content": null,
            "visibility": null,
            "align_self": null,
            "height": null,
            "min_height": null,
            "padding": null,
            "grid_auto_rows": null,
            "grid_gap": null,
            "max_width": null,
            "order": null,
            "_view_module_version": "1.2.0",
            "grid_template_areas": null,
            "object_position": null,
            "object_fit": null,
            "grid_auto_columns": null,
            "margin": null,
            "display": null,
            "left": null
          }
        },
        "aa21aa19b6944f5c92421b0cc8131fdd": {
          "model_module": "@jupyter-widgets/controls",
          "model_name": "DescriptionStyleModel",
          "model_module_version": "1.5.0",
          "state": {
            "_view_name": "StyleView",
            "_model_name": "DescriptionStyleModel",
            "description_width": "",
            "_view_module": "@jupyter-widgets/base",
            "_model_module_version": "1.5.0",
            "_view_count": null,
            "_view_module_version": "1.2.0",
            "_model_module": "@jupyter-widgets/controls"
          }
        },
        "541990d03722478e8b0b53905995fcd2": {
          "model_module": "@jupyter-widgets/base",
          "model_name": "LayoutModel",
          "model_module_version": "1.2.0",
          "state": {
            "_view_name": "LayoutView",
            "grid_template_rows": null,
            "right": null,
            "justify_content": null,
            "_view_module": "@jupyter-widgets/base",
            "overflow": null,
            "_model_module_version": "1.2.0",
            "_view_count": null,
            "flex_flow": null,
            "width": null,
            "min_width": null,
            "border": null,
            "align_items": null,
            "bottom": null,
            "_model_module": "@jupyter-widgets/base",
            "top": null,
            "grid_column": null,
            "overflow_y": null,
            "overflow_x": null,
            "grid_auto_flow": null,
            "grid_area": null,
            "grid_template_columns": null,
            "flex": null,
            "_model_name": "LayoutModel",
            "justify_items": null,
            "grid_row": null,
            "max_height": null,
            "align_content": null,
            "visibility": null,
            "align_self": null,
            "height": null,
            "min_height": null,
            "padding": null,
            "grid_auto_rows": null,
            "grid_gap": null,
            "max_width": null,
            "order": null,
            "_view_module_version": "1.2.0",
            "grid_template_areas": null,
            "object_position": null,
            "object_fit": null,
            "grid_auto_columns": null,
            "margin": null,
            "display": null,
            "left": null
          }
        },
        "8f680c169210464db06db47684ac90ca": {
          "model_module": "@jupyter-widgets/controls",
          "model_name": "HBoxModel",
          "model_module_version": "1.5.0",
          "state": {
            "_view_name": "HBoxView",
            "_dom_classes": [],
            "_model_name": "HBoxModel",
            "_view_module": "@jupyter-widgets/controls",
            "_model_module_version": "1.5.0",
            "_view_count": null,
            "_view_module_version": "1.5.0",
            "box_style": "",
            "layout": "IPY_MODEL_036f54bbe2e841ccba071e4926a90a0b",
            "_model_module": "@jupyter-widgets/controls",
            "children": [
              "IPY_MODEL_fffbf767a0d64b29b8a0472a9a1cd61e",
              "IPY_MODEL_15ec41f5f66c4ea49e15371873a11355",
              "IPY_MODEL_c66ec4b604c64f6a8248f987db24bbd2"
            ]
          }
        },
        "036f54bbe2e841ccba071e4926a90a0b": {
          "model_module": "@jupyter-widgets/base",
          "model_name": "LayoutModel",
          "model_module_version": "1.2.0",
          "state": {
            "_view_name": "LayoutView",
            "grid_template_rows": null,
            "right": null,
            "justify_content": null,
            "_view_module": "@jupyter-widgets/base",
            "overflow": null,
            "_model_module_version": "1.2.0",
            "_view_count": null,
            "flex_flow": null,
            "width": null,
            "min_width": null,
            "border": null,
            "align_items": null,
            "bottom": null,
            "_model_module": "@jupyter-widgets/base",
            "top": null,
            "grid_column": null,
            "overflow_y": null,
            "overflow_x": null,
            "grid_auto_flow": null,
            "grid_area": null,
            "grid_template_columns": null,
            "flex": null,
            "_model_name": "LayoutModel",
            "justify_items": null,
            "grid_row": null,
            "max_height": null,
            "align_content": null,
            "visibility": null,
            "align_self": null,
            "height": null,
            "min_height": null,
            "padding": null,
            "grid_auto_rows": null,
            "grid_gap": null,
            "max_width": null,
            "order": null,
            "_view_module_version": "1.2.0",
            "grid_template_areas": null,
            "object_position": null,
            "object_fit": null,
            "grid_auto_columns": null,
            "margin": null,
            "display": null,
            "left": null
          }
        },
        "fffbf767a0d64b29b8a0472a9a1cd61e": {
          "model_module": "@jupyter-widgets/controls",
          "model_name": "HTMLModel",
          "model_module_version": "1.5.0",
          "state": {
            "_view_name": "HTMLView",
            "style": "IPY_MODEL_3ce081dbb8db483da0b34c70e837ca62",
            "_dom_classes": [],
            "description": "",
            "_model_name": "HTMLModel",
            "placeholder": "​",
            "_view_module": "@jupyter-widgets/controls",
            "_model_module_version": "1.5.0",
            "value": "Downloading: 100%",
            "_view_count": null,
            "_view_module_version": "1.5.0",
            "description_tooltip": null,
            "_model_module": "@jupyter-widgets/controls",
            "layout": "IPY_MODEL_b239e1838c41403e9dc9ac2fe9029572"
          }
        },
        "15ec41f5f66c4ea49e15371873a11355": {
          "model_module": "@jupyter-widgets/controls",
          "model_name": "FloatProgressModel",
          "model_module_version": "1.5.0",
          "state": {
            "_view_name": "ProgressView",
            "style": "IPY_MODEL_6e5c1bf4707946e9bf2e71f4df5ac98c",
            "_dom_classes": [],
            "description": "",
            "_model_name": "FloatProgressModel",
            "bar_style": "success",
            "max": 231508,
            "_view_module": "@jupyter-widgets/controls",
            "_model_module_version": "1.5.0",
            "value": 231508,
            "_view_count": null,
            "_view_module_version": "1.5.0",
            "orientation": "horizontal",
            "min": 0,
            "description_tooltip": null,
            "_model_module": "@jupyter-widgets/controls",
            "layout": "IPY_MODEL_39053b4d41714aea82b555d87a200d68"
          }
        },
        "c66ec4b604c64f6a8248f987db24bbd2": {
          "model_module": "@jupyter-widgets/controls",
          "model_name": "HTMLModel",
          "model_module_version": "1.5.0",
          "state": {
            "_view_name": "HTMLView",
            "style": "IPY_MODEL_f511e07fc56c4a6eb2828615e44c2731",
            "_dom_classes": [],
            "description": "",
            "_model_name": "HTMLModel",
            "placeholder": "​",
            "_view_module": "@jupyter-widgets/controls",
            "_model_module_version": "1.5.0",
            "value": " 226k/226k [00:00&lt;00:00, 1.17MB/s]",
            "_view_count": null,
            "_view_module_version": "1.5.0",
            "description_tooltip": null,
            "_model_module": "@jupyter-widgets/controls",
            "layout": "IPY_MODEL_5e8411a29fee4c5589f5004fd00f439f"
          }
        },
        "3ce081dbb8db483da0b34c70e837ca62": {
          "model_module": "@jupyter-widgets/controls",
          "model_name": "DescriptionStyleModel",
          "model_module_version": "1.5.0",
          "state": {
            "_view_name": "StyleView",
            "_model_name": "DescriptionStyleModel",
            "description_width": "",
            "_view_module": "@jupyter-widgets/base",
            "_model_module_version": "1.5.0",
            "_view_count": null,
            "_view_module_version": "1.2.0",
            "_model_module": "@jupyter-widgets/controls"
          }
        },
        "b239e1838c41403e9dc9ac2fe9029572": {
          "model_module": "@jupyter-widgets/base",
          "model_name": "LayoutModel",
          "model_module_version": "1.2.0",
          "state": {
            "_view_name": "LayoutView",
            "grid_template_rows": null,
            "right": null,
            "justify_content": null,
            "_view_module": "@jupyter-widgets/base",
            "overflow": null,
            "_model_module_version": "1.2.0",
            "_view_count": null,
            "flex_flow": null,
            "width": null,
            "min_width": null,
            "border": null,
            "align_items": null,
            "bottom": null,
            "_model_module": "@jupyter-widgets/base",
            "top": null,
            "grid_column": null,
            "overflow_y": null,
            "overflow_x": null,
            "grid_auto_flow": null,
            "grid_area": null,
            "grid_template_columns": null,
            "flex": null,
            "_model_name": "LayoutModel",
            "justify_items": null,
            "grid_row": null,
            "max_height": null,
            "align_content": null,
            "visibility": null,
            "align_self": null,
            "height": null,
            "min_height": null,
            "padding": null,
            "grid_auto_rows": null,
            "grid_gap": null,
            "max_width": null,
            "order": null,
            "_view_module_version": "1.2.0",
            "grid_template_areas": null,
            "object_position": null,
            "object_fit": null,
            "grid_auto_columns": null,
            "margin": null,
            "display": null,
            "left": null
          }
        },
        "6e5c1bf4707946e9bf2e71f4df5ac98c": {
          "model_module": "@jupyter-widgets/controls",
          "model_name": "ProgressStyleModel",
          "model_module_version": "1.5.0",
          "state": {
            "_view_name": "StyleView",
            "_model_name": "ProgressStyleModel",
            "description_width": "",
            "_view_module": "@jupyter-widgets/base",
            "_model_module_version": "1.5.0",
            "_view_count": null,
            "_view_module_version": "1.2.0",
            "bar_color": null,
            "_model_module": "@jupyter-widgets/controls"
          }
        },
        "39053b4d41714aea82b555d87a200d68": {
          "model_module": "@jupyter-widgets/base",
          "model_name": "LayoutModel",
          "model_module_version": "1.2.0",
          "state": {
            "_view_name": "LayoutView",
            "grid_template_rows": null,
            "right": null,
            "justify_content": null,
            "_view_module": "@jupyter-widgets/base",
            "overflow": null,
            "_model_module_version": "1.2.0",
            "_view_count": null,
            "flex_flow": null,
            "width": null,
            "min_width": null,
            "border": null,
            "align_items": null,
            "bottom": null,
            "_model_module": "@jupyter-widgets/base",
            "top": null,
            "grid_column": null,
            "overflow_y": null,
            "overflow_x": null,
            "grid_auto_flow": null,
            "grid_area": null,
            "grid_template_columns": null,
            "flex": null,
            "_model_name": "LayoutModel",
            "justify_items": null,
            "grid_row": null,
            "max_height": null,
            "align_content": null,
            "visibility": null,
            "align_self": null,
            "height": null,
            "min_height": null,
            "padding": null,
            "grid_auto_rows": null,
            "grid_gap": null,
            "max_width": null,
            "order": null,
            "_view_module_version": "1.2.0",
            "grid_template_areas": null,
            "object_position": null,
            "object_fit": null,
            "grid_auto_columns": null,
            "margin": null,
            "display": null,
            "left": null
          }
        },
        "f511e07fc56c4a6eb2828615e44c2731": {
          "model_module": "@jupyter-widgets/controls",
          "model_name": "DescriptionStyleModel",
          "model_module_version": "1.5.0",
          "state": {
            "_view_name": "StyleView",
            "_model_name": "DescriptionStyleModel",
            "description_width": "",
            "_view_module": "@jupyter-widgets/base",
            "_model_module_version": "1.5.0",
            "_view_count": null,
            "_view_module_version": "1.2.0",
            "_model_module": "@jupyter-widgets/controls"
          }
        },
        "5e8411a29fee4c5589f5004fd00f439f": {
          "model_module": "@jupyter-widgets/base",
          "model_name": "LayoutModel",
          "model_module_version": "1.2.0",
          "state": {
            "_view_name": "LayoutView",
            "grid_template_rows": null,
            "right": null,
            "justify_content": null,
            "_view_module": "@jupyter-widgets/base",
            "overflow": null,
            "_model_module_version": "1.2.0",
            "_view_count": null,
            "flex_flow": null,
            "width": null,
            "min_width": null,
            "border": null,
            "align_items": null,
            "bottom": null,
            "_model_module": "@jupyter-widgets/base",
            "top": null,
            "grid_column": null,
            "overflow_y": null,
            "overflow_x": null,
            "grid_auto_flow": null,
            "grid_area": null,
            "grid_template_columns": null,
            "flex": null,
            "_model_name": "LayoutModel",
            "justify_items": null,
            "grid_row": null,
            "max_height": null,
            "align_content": null,
            "visibility": null,
            "align_self": null,
            "height": null,
            "min_height": null,
            "padding": null,
            "grid_auto_rows": null,
            "grid_gap": null,
            "max_width": null,
            "order": null,
            "_view_module_version": "1.2.0",
            "grid_template_areas": null,
            "object_position": null,
            "object_fit": null,
            "grid_auto_columns": null,
            "margin": null,
            "display": null,
            "left": null
          }
        },
        "b9450b1e311c40c18e979b94de14e035": {
          "model_module": "@jupyter-widgets/controls",
          "model_name": "HBoxModel",
          "model_module_version": "1.5.0",
          "state": {
            "_view_name": "HBoxView",
            "_dom_classes": [],
            "_model_name": "HBoxModel",
            "_view_module": "@jupyter-widgets/controls",
            "_model_module_version": "1.5.0",
            "_view_count": null,
            "_view_module_version": "1.5.0",
            "box_style": "",
            "layout": "IPY_MODEL_7b9bf3abf4064119877ca41f5b3d3794",
            "_model_module": "@jupyter-widgets/controls",
            "children": [
              "IPY_MODEL_0d43fbf0b41242f4957dd041f3f07bab",
              "IPY_MODEL_09c93f843c7244b4b2b098e59364cc45",
              "IPY_MODEL_5e9518b1dda64f0aafcbc84f263bf6a2"
            ]
          }
        },
        "7b9bf3abf4064119877ca41f5b3d3794": {
          "model_module": "@jupyter-widgets/base",
          "model_name": "LayoutModel",
          "model_module_version": "1.2.0",
          "state": {
            "_view_name": "LayoutView",
            "grid_template_rows": null,
            "right": null,
            "justify_content": null,
            "_view_module": "@jupyter-widgets/base",
            "overflow": null,
            "_model_module_version": "1.2.0",
            "_view_count": null,
            "flex_flow": null,
            "width": null,
            "min_width": null,
            "border": null,
            "align_items": null,
            "bottom": null,
            "_model_module": "@jupyter-widgets/base",
            "top": null,
            "grid_column": null,
            "overflow_y": null,
            "overflow_x": null,
            "grid_auto_flow": null,
            "grid_area": null,
            "grid_template_columns": null,
            "flex": null,
            "_model_name": "LayoutModel",
            "justify_items": null,
            "grid_row": null,
            "max_height": null,
            "align_content": null,
            "visibility": null,
            "align_self": null,
            "height": null,
            "min_height": null,
            "padding": null,
            "grid_auto_rows": null,
            "grid_gap": null,
            "max_width": null,
            "order": null,
            "_view_module_version": "1.2.0",
            "grid_template_areas": null,
            "object_position": null,
            "object_fit": null,
            "grid_auto_columns": null,
            "margin": null,
            "display": null,
            "left": null
          }
        },
        "0d43fbf0b41242f4957dd041f3f07bab": {
          "model_module": "@jupyter-widgets/controls",
          "model_name": "HTMLModel",
          "model_module_version": "1.5.0",
          "state": {
            "_view_name": "HTMLView",
            "style": "IPY_MODEL_c80cf9355ae04d75bcee4eb8439a2c2f",
            "_dom_classes": [],
            "description": "",
            "_model_name": "HTMLModel",
            "placeholder": "​",
            "_view_module": "@jupyter-widgets/controls",
            "_model_module_version": "1.5.0",
            "value": "Downloading: 100%",
            "_view_count": null,
            "_view_module_version": "1.5.0",
            "description_tooltip": null,
            "_model_module": "@jupyter-widgets/controls",
            "layout": "IPY_MODEL_3691c4f4755045fa87bd782ca68cb9a6"
          }
        },
        "09c93f843c7244b4b2b098e59364cc45": {
          "model_module": "@jupyter-widgets/controls",
          "model_name": "FloatProgressModel",
          "model_module_version": "1.5.0",
          "state": {
            "_view_name": "ProgressView",
            "style": "IPY_MODEL_b99a81f76bac4db7a42724d542db2579",
            "_dom_classes": [],
            "description": "",
            "_model_name": "FloatProgressModel",
            "bar_style": "success",
            "max": 466062,
            "_view_module": "@jupyter-widgets/controls",
            "_model_module_version": "1.5.0",
            "value": 466062,
            "_view_count": null,
            "_view_module_version": "1.5.0",
            "orientation": "horizontal",
            "min": 0,
            "description_tooltip": null,
            "_model_module": "@jupyter-widgets/controls",
            "layout": "IPY_MODEL_512ee7fc66e3443ab161af53ada499a1"
          }
        },
        "5e9518b1dda64f0aafcbc84f263bf6a2": {
          "model_module": "@jupyter-widgets/controls",
          "model_name": "HTMLModel",
          "model_module_version": "1.5.0",
          "state": {
            "_view_name": "HTMLView",
            "style": "IPY_MODEL_ad2ae62941b44f1f8971f55c53b51724",
            "_dom_classes": [],
            "description": "",
            "_model_name": "HTMLModel",
            "placeholder": "​",
            "_view_module": "@jupyter-widgets/controls",
            "_model_module_version": "1.5.0",
            "value": " 455k/455k [00:00&lt;00:00, 1.46MB/s]",
            "_view_count": null,
            "_view_module_version": "1.5.0",
            "description_tooltip": null,
            "_model_module": "@jupyter-widgets/controls",
            "layout": "IPY_MODEL_693d158f0a3c4a74950df3637b90da2f"
          }
        },
        "c80cf9355ae04d75bcee4eb8439a2c2f": {
          "model_module": "@jupyter-widgets/controls",
          "model_name": "DescriptionStyleModel",
          "model_module_version": "1.5.0",
          "state": {
            "_view_name": "StyleView",
            "_model_name": "DescriptionStyleModel",
            "description_width": "",
            "_view_module": "@jupyter-widgets/base",
            "_model_module_version": "1.5.0",
            "_view_count": null,
            "_view_module_version": "1.2.0",
            "_model_module": "@jupyter-widgets/controls"
          }
        },
        "3691c4f4755045fa87bd782ca68cb9a6": {
          "model_module": "@jupyter-widgets/base",
          "model_name": "LayoutModel",
          "model_module_version": "1.2.0",
          "state": {
            "_view_name": "LayoutView",
            "grid_template_rows": null,
            "right": null,
            "justify_content": null,
            "_view_module": "@jupyter-widgets/base",
            "overflow": null,
            "_model_module_version": "1.2.0",
            "_view_count": null,
            "flex_flow": null,
            "width": null,
            "min_width": null,
            "border": null,
            "align_items": null,
            "bottom": null,
            "_model_module": "@jupyter-widgets/base",
            "top": null,
            "grid_column": null,
            "overflow_y": null,
            "overflow_x": null,
            "grid_auto_flow": null,
            "grid_area": null,
            "grid_template_columns": null,
            "flex": null,
            "_model_name": "LayoutModel",
            "justify_items": null,
            "grid_row": null,
            "max_height": null,
            "align_content": null,
            "visibility": null,
            "align_self": null,
            "height": null,
            "min_height": null,
            "padding": null,
            "grid_auto_rows": null,
            "grid_gap": null,
            "max_width": null,
            "order": null,
            "_view_module_version": "1.2.0",
            "grid_template_areas": null,
            "object_position": null,
            "object_fit": null,
            "grid_auto_columns": null,
            "margin": null,
            "display": null,
            "left": null
          }
        },
        "b99a81f76bac4db7a42724d542db2579": {
          "model_module": "@jupyter-widgets/controls",
          "model_name": "ProgressStyleModel",
          "model_module_version": "1.5.0",
          "state": {
            "_view_name": "StyleView",
            "_model_name": "ProgressStyleModel",
            "description_width": "",
            "_view_module": "@jupyter-widgets/base",
            "_model_module_version": "1.5.0",
            "_view_count": null,
            "_view_module_version": "1.2.0",
            "bar_color": null,
            "_model_module": "@jupyter-widgets/controls"
          }
        },
        "512ee7fc66e3443ab161af53ada499a1": {
          "model_module": "@jupyter-widgets/base",
          "model_name": "LayoutModel",
          "model_module_version": "1.2.0",
          "state": {
            "_view_name": "LayoutView",
            "grid_template_rows": null,
            "right": null,
            "justify_content": null,
            "_view_module": "@jupyter-widgets/base",
            "overflow": null,
            "_model_module_version": "1.2.0",
            "_view_count": null,
            "flex_flow": null,
            "width": null,
            "min_width": null,
            "border": null,
            "align_items": null,
            "bottom": null,
            "_model_module": "@jupyter-widgets/base",
            "top": null,
            "grid_column": null,
            "overflow_y": null,
            "overflow_x": null,
            "grid_auto_flow": null,
            "grid_area": null,
            "grid_template_columns": null,
            "flex": null,
            "_model_name": "LayoutModel",
            "justify_items": null,
            "grid_row": null,
            "max_height": null,
            "align_content": null,
            "visibility": null,
            "align_self": null,
            "height": null,
            "min_height": null,
            "padding": null,
            "grid_auto_rows": null,
            "grid_gap": null,
            "max_width": null,
            "order": null,
            "_view_module_version": "1.2.0",
            "grid_template_areas": null,
            "object_position": null,
            "object_fit": null,
            "grid_auto_columns": null,
            "margin": null,
            "display": null,
            "left": null
          }
        },
        "ad2ae62941b44f1f8971f55c53b51724": {
          "model_module": "@jupyter-widgets/controls",
          "model_name": "DescriptionStyleModel",
          "model_module_version": "1.5.0",
          "state": {
            "_view_name": "StyleView",
            "_model_name": "DescriptionStyleModel",
            "description_width": "",
            "_view_module": "@jupyter-widgets/base",
            "_model_module_version": "1.5.0",
            "_view_count": null,
            "_view_module_version": "1.2.0",
            "_model_module": "@jupyter-widgets/controls"
          }
        },
        "693d158f0a3c4a74950df3637b90da2f": {
          "model_module": "@jupyter-widgets/base",
          "model_name": "LayoutModel",
          "model_module_version": "1.2.0",
          "state": {
            "_view_name": "LayoutView",
            "grid_template_rows": null,
            "right": null,
            "justify_content": null,
            "_view_module": "@jupyter-widgets/base",
            "overflow": null,
            "_model_module_version": "1.2.0",
            "_view_count": null,
            "flex_flow": null,
            "width": null,
            "min_width": null,
            "border": null,
            "align_items": null,
            "bottom": null,
            "_model_module": "@jupyter-widgets/base",
            "top": null,
            "grid_column": null,
            "overflow_y": null,
            "overflow_x": null,
            "grid_auto_flow": null,
            "grid_area": null,
            "grid_template_columns": null,
            "flex": null,
            "_model_name": "LayoutModel",
            "justify_items": null,
            "grid_row": null,
            "max_height": null,
            "align_content": null,
            "visibility": null,
            "align_self": null,
            "height": null,
            "min_height": null,
            "padding": null,
            "grid_auto_rows": null,
            "grid_gap": null,
            "max_width": null,
            "order": null,
            "_view_module_version": "1.2.0",
            "grid_template_areas": null,
            "object_position": null,
            "object_fit": null,
            "grid_auto_columns": null,
            "margin": null,
            "display": null,
            "left": null
          }
        },
        "f2052ded402a4be2b6385c9cf2ae6a89": {
          "model_module": "@jupyter-widgets/controls",
          "model_name": "HBoxModel",
          "model_module_version": "1.5.0",
          "state": {
            "_view_name": "HBoxView",
            "_dom_classes": [],
            "_model_name": "HBoxModel",
            "_view_module": "@jupyter-widgets/controls",
            "_model_module_version": "1.5.0",
            "_view_count": null,
            "_view_module_version": "1.5.0",
            "box_style": "",
            "layout": "IPY_MODEL_c629cbac76374bf49d21d3d36010b3f0",
            "_model_module": "@jupyter-widgets/controls",
            "children": [
              "IPY_MODEL_73c16dde703f4770b6160bbc434acf09",
              "IPY_MODEL_225957fca77f491986c3d36075428de5",
              "IPY_MODEL_51e26ceaf09e42108ed6089f9c6f612d"
            ]
          }
        },
        "c629cbac76374bf49d21d3d36010b3f0": {
          "model_module": "@jupyter-widgets/base",
          "model_name": "LayoutModel",
          "model_module_version": "1.2.0",
          "state": {
            "_view_name": "LayoutView",
            "grid_template_rows": null,
            "right": null,
            "justify_content": null,
            "_view_module": "@jupyter-widgets/base",
            "overflow": null,
            "_model_module_version": "1.2.0",
            "_view_count": null,
            "flex_flow": null,
            "width": null,
            "min_width": null,
            "border": null,
            "align_items": null,
            "bottom": null,
            "_model_module": "@jupyter-widgets/base",
            "top": null,
            "grid_column": null,
            "overflow_y": null,
            "overflow_x": null,
            "grid_auto_flow": null,
            "grid_area": null,
            "grid_template_columns": null,
            "flex": null,
            "_model_name": "LayoutModel",
            "justify_items": null,
            "grid_row": null,
            "max_height": null,
            "align_content": null,
            "visibility": null,
            "align_self": null,
            "height": null,
            "min_height": null,
            "padding": null,
            "grid_auto_rows": null,
            "grid_gap": null,
            "max_width": null,
            "order": null,
            "_view_module_version": "1.2.0",
            "grid_template_areas": null,
            "object_position": null,
            "object_fit": null,
            "grid_auto_columns": null,
            "margin": null,
            "display": null,
            "left": null
          }
        },
        "73c16dde703f4770b6160bbc434acf09": {
          "model_module": "@jupyter-widgets/controls",
          "model_name": "HTMLModel",
          "model_module_version": "1.5.0",
          "state": {
            "_view_name": "HTMLView",
            "style": "IPY_MODEL_44aa6101f8984996b316b875f5edb741",
            "_dom_classes": [],
            "description": "",
            "_model_name": "HTMLModel",
            "placeholder": "​",
            "_view_module": "@jupyter-widgets/controls",
            "_model_module_version": "1.5.0",
            "value": "Downloading: 100%",
            "_view_count": null,
            "_view_module_version": "1.5.0",
            "description_tooltip": null,
            "_model_module": "@jupyter-widgets/controls",
            "layout": "IPY_MODEL_a1ae3b167eb144af82c8f09238de7144"
          }
        },
        "225957fca77f491986c3d36075428de5": {
          "model_module": "@jupyter-widgets/controls",
          "model_name": "FloatProgressModel",
          "model_module_version": "1.5.0",
          "state": {
            "_view_name": "ProgressView",
            "style": "IPY_MODEL_65b87fa0c4024ad3b6bd787fb8e5c170",
            "_dom_classes": [],
            "description": "",
            "_model_name": "FloatProgressModel",
            "bar_style": "success",
            "max": 570,
            "_view_module": "@jupyter-widgets/controls",
            "_model_module_version": "1.5.0",
            "value": 570,
            "_view_count": null,
            "_view_module_version": "1.5.0",
            "orientation": "horizontal",
            "min": 0,
            "description_tooltip": null,
            "_model_module": "@jupyter-widgets/controls",
            "layout": "IPY_MODEL_457a4405b7b548f89a3fb99863f25d03"
          }
        },
        "51e26ceaf09e42108ed6089f9c6f612d": {
          "model_module": "@jupyter-widgets/controls",
          "model_name": "HTMLModel",
          "model_module_version": "1.5.0",
          "state": {
            "_view_name": "HTMLView",
            "style": "IPY_MODEL_206a03db327446c18d14a2283f839914",
            "_dom_classes": [],
            "description": "",
            "_model_name": "HTMLModel",
            "placeholder": "​",
            "_view_module": "@jupyter-widgets/controls",
            "_model_module_version": "1.5.0",
            "value": " 570/570 [00:00&lt;00:00, 14.6kB/s]",
            "_view_count": null,
            "_view_module_version": "1.5.0",
            "description_tooltip": null,
            "_model_module": "@jupyter-widgets/controls",
            "layout": "IPY_MODEL_5fce0709c9a848af822322fa0deb3160"
          }
        },
        "44aa6101f8984996b316b875f5edb741": {
          "model_module": "@jupyter-widgets/controls",
          "model_name": "DescriptionStyleModel",
          "model_module_version": "1.5.0",
          "state": {
            "_view_name": "StyleView",
            "_model_name": "DescriptionStyleModel",
            "description_width": "",
            "_view_module": "@jupyter-widgets/base",
            "_model_module_version": "1.5.0",
            "_view_count": null,
            "_view_module_version": "1.2.0",
            "_model_module": "@jupyter-widgets/controls"
          }
        },
        "a1ae3b167eb144af82c8f09238de7144": {
          "model_module": "@jupyter-widgets/base",
          "model_name": "LayoutModel",
          "model_module_version": "1.2.0",
          "state": {
            "_view_name": "LayoutView",
            "grid_template_rows": null,
            "right": null,
            "justify_content": null,
            "_view_module": "@jupyter-widgets/base",
            "overflow": null,
            "_model_module_version": "1.2.0",
            "_view_count": null,
            "flex_flow": null,
            "width": null,
            "min_width": null,
            "border": null,
            "align_items": null,
            "bottom": null,
            "_model_module": "@jupyter-widgets/base",
            "top": null,
            "grid_column": null,
            "overflow_y": null,
            "overflow_x": null,
            "grid_auto_flow": null,
            "grid_area": null,
            "grid_template_columns": null,
            "flex": null,
            "_model_name": "LayoutModel",
            "justify_items": null,
            "grid_row": null,
            "max_height": null,
            "align_content": null,
            "visibility": null,
            "align_self": null,
            "height": null,
            "min_height": null,
            "padding": null,
            "grid_auto_rows": null,
            "grid_gap": null,
            "max_width": null,
            "order": null,
            "_view_module_version": "1.2.0",
            "grid_template_areas": null,
            "object_position": null,
            "object_fit": null,
            "grid_auto_columns": null,
            "margin": null,
            "display": null,
            "left": null
          }
        },
        "65b87fa0c4024ad3b6bd787fb8e5c170": {
          "model_module": "@jupyter-widgets/controls",
          "model_name": "ProgressStyleModel",
          "model_module_version": "1.5.0",
          "state": {
            "_view_name": "StyleView",
            "_model_name": "ProgressStyleModel",
            "description_width": "",
            "_view_module": "@jupyter-widgets/base",
            "_model_module_version": "1.5.0",
            "_view_count": null,
            "_view_module_version": "1.2.0",
            "bar_color": null,
            "_model_module": "@jupyter-widgets/controls"
          }
        },
        "457a4405b7b548f89a3fb99863f25d03": {
          "model_module": "@jupyter-widgets/base",
          "model_name": "LayoutModel",
          "model_module_version": "1.2.0",
          "state": {
            "_view_name": "LayoutView",
            "grid_template_rows": null,
            "right": null,
            "justify_content": null,
            "_view_module": "@jupyter-widgets/base",
            "overflow": null,
            "_model_module_version": "1.2.0",
            "_view_count": null,
            "flex_flow": null,
            "width": null,
            "min_width": null,
            "border": null,
            "align_items": null,
            "bottom": null,
            "_model_module": "@jupyter-widgets/base",
            "top": null,
            "grid_column": null,
            "overflow_y": null,
            "overflow_x": null,
            "grid_auto_flow": null,
            "grid_area": null,
            "grid_template_columns": null,
            "flex": null,
            "_model_name": "LayoutModel",
            "justify_items": null,
            "grid_row": null,
            "max_height": null,
            "align_content": null,
            "visibility": null,
            "align_self": null,
            "height": null,
            "min_height": null,
            "padding": null,
            "grid_auto_rows": null,
            "grid_gap": null,
            "max_width": null,
            "order": null,
            "_view_module_version": "1.2.0",
            "grid_template_areas": null,
            "object_position": null,
            "object_fit": null,
            "grid_auto_columns": null,
            "margin": null,
            "display": null,
            "left": null
          }
        },
        "206a03db327446c18d14a2283f839914": {
          "model_module": "@jupyter-widgets/controls",
          "model_name": "DescriptionStyleModel",
          "model_module_version": "1.5.0",
          "state": {
            "_view_name": "StyleView",
            "_model_name": "DescriptionStyleModel",
            "description_width": "",
            "_view_module": "@jupyter-widgets/base",
            "_model_module_version": "1.5.0",
            "_view_count": null,
            "_view_module_version": "1.2.0",
            "_model_module": "@jupyter-widgets/controls"
          }
        },
        "5fce0709c9a848af822322fa0deb3160": {
          "model_module": "@jupyter-widgets/base",
          "model_name": "LayoutModel",
          "model_module_version": "1.2.0",
          "state": {
            "_view_name": "LayoutView",
            "grid_template_rows": null,
            "right": null,
            "justify_content": null,
            "_view_module": "@jupyter-widgets/base",
            "overflow": null,
            "_model_module_version": "1.2.0",
            "_view_count": null,
            "flex_flow": null,
            "width": null,
            "min_width": null,
            "border": null,
            "align_items": null,
            "bottom": null,
            "_model_module": "@jupyter-widgets/base",
            "top": null,
            "grid_column": null,
            "overflow_y": null,
            "overflow_x": null,
            "grid_auto_flow": null,
            "grid_area": null,
            "grid_template_columns": null,
            "flex": null,
            "_model_name": "LayoutModel",
            "justify_items": null,
            "grid_row": null,
            "max_height": null,
            "align_content": null,
            "visibility": null,
            "align_self": null,
            "height": null,
            "min_height": null,
            "padding": null,
            "grid_auto_rows": null,
            "grid_gap": null,
            "max_width": null,
            "order": null,
            "_view_module_version": "1.2.0",
            "grid_template_areas": null,
            "object_position": null,
            "object_fit": null,
            "grid_auto_columns": null,
            "margin": null,
            "display": null,
            "left": null
          }
        },
        "720191586c0f4bf482c470d8f806ea4a": {
          "model_module": "@jupyter-widgets/controls",
          "model_name": "HBoxModel",
          "model_module_version": "1.5.0",
          "state": {
            "_view_name": "HBoxView",
            "_dom_classes": [],
            "_model_name": "HBoxModel",
            "_view_module": "@jupyter-widgets/controls",
            "_model_module_version": "1.5.0",
            "_view_count": null,
            "_view_module_version": "1.5.0",
            "box_style": "",
            "layout": "IPY_MODEL_a3334f71d4d04a9185e716cb6c162969",
            "_model_module": "@jupyter-widgets/controls",
            "children": [
              "IPY_MODEL_4e1f0406106046239cf5cfdd2ae06f92",
              "IPY_MODEL_6a9b34acdc1843559ca1fc8c0cda7f98",
              "IPY_MODEL_41885a271d76439da8525e5915014040"
            ]
          }
        },
        "a3334f71d4d04a9185e716cb6c162969": {
          "model_module": "@jupyter-widgets/base",
          "model_name": "LayoutModel",
          "model_module_version": "1.2.0",
          "state": {
            "_view_name": "LayoutView",
            "grid_template_rows": null,
            "right": null,
            "justify_content": null,
            "_view_module": "@jupyter-widgets/base",
            "overflow": null,
            "_model_module_version": "1.2.0",
            "_view_count": null,
            "flex_flow": null,
            "width": null,
            "min_width": null,
            "border": null,
            "align_items": null,
            "bottom": null,
            "_model_module": "@jupyter-widgets/base",
            "top": null,
            "grid_column": null,
            "overflow_y": null,
            "overflow_x": null,
            "grid_auto_flow": null,
            "grid_area": null,
            "grid_template_columns": null,
            "flex": null,
            "_model_name": "LayoutModel",
            "justify_items": null,
            "grid_row": null,
            "max_height": null,
            "align_content": null,
            "visibility": null,
            "align_self": null,
            "height": null,
            "min_height": null,
            "padding": null,
            "grid_auto_rows": null,
            "grid_gap": null,
            "max_width": null,
            "order": null,
            "_view_module_version": "1.2.0",
            "grid_template_areas": null,
            "object_position": null,
            "object_fit": null,
            "grid_auto_columns": null,
            "margin": null,
            "display": null,
            "left": null
          }
        },
        "4e1f0406106046239cf5cfdd2ae06f92": {
          "model_module": "@jupyter-widgets/controls",
          "model_name": "HTMLModel",
          "model_module_version": "1.5.0",
          "state": {
            "_view_name": "HTMLView",
            "style": "IPY_MODEL_351c1ef0b0e1406ca4b7246174984efa",
            "_dom_classes": [],
            "description": "",
            "_model_name": "HTMLModel",
            "placeholder": "​",
            "_view_module": "@jupyter-widgets/controls",
            "_model_module_version": "1.5.0",
            "value": "Downloading: 100%",
            "_view_count": null,
            "_view_module_version": "1.5.0",
            "description_tooltip": null,
            "_model_module": "@jupyter-widgets/controls",
            "layout": "IPY_MODEL_6705183dbcd94800aa882441efb175fb"
          }
        },
        "6a9b34acdc1843559ca1fc8c0cda7f98": {
          "model_module": "@jupyter-widgets/controls",
          "model_name": "FloatProgressModel",
          "model_module_version": "1.5.0",
          "state": {
            "_view_name": "ProgressView",
            "style": "IPY_MODEL_cf6e8efeb8b2446cb647544941003733",
            "_dom_classes": [],
            "description": "",
            "_model_name": "FloatProgressModel",
            "bar_style": "success",
            "max": 536063208,
            "_view_module": "@jupyter-widgets/controls",
            "_model_module_version": "1.5.0",
            "value": 536063208,
            "_view_count": null,
            "_view_module_version": "1.5.0",
            "orientation": "horizontal",
            "min": 0,
            "description_tooltip": null,
            "_model_module": "@jupyter-widgets/controls",
            "layout": "IPY_MODEL_f061c411679a4b1982440f241cae9360"
          }
        },
        "41885a271d76439da8525e5915014040": {
          "model_module": "@jupyter-widgets/controls",
          "model_name": "HTMLModel",
          "model_module_version": "1.5.0",
          "state": {
            "_view_name": "HTMLView",
            "style": "IPY_MODEL_38ccea034f5244ddb1b907a4e9a00783",
            "_dom_classes": [],
            "description": "",
            "_model_name": "HTMLModel",
            "placeholder": "​",
            "_view_module": "@jupyter-widgets/controls",
            "_model_module_version": "1.5.0",
            "value": " 511M/511M [00:26&lt;00:00, 16.3MB/s]",
            "_view_count": null,
            "_view_module_version": "1.5.0",
            "description_tooltip": null,
            "_model_module": "@jupyter-widgets/controls",
            "layout": "IPY_MODEL_29556ae2bf6d4d2e90c53c3a343382e2"
          }
        },
        "351c1ef0b0e1406ca4b7246174984efa": {
          "model_module": "@jupyter-widgets/controls",
          "model_name": "DescriptionStyleModel",
          "model_module_version": "1.5.0",
          "state": {
            "_view_name": "StyleView",
            "_model_name": "DescriptionStyleModel",
            "description_width": "",
            "_view_module": "@jupyter-widgets/base",
            "_model_module_version": "1.5.0",
            "_view_count": null,
            "_view_module_version": "1.2.0",
            "_model_module": "@jupyter-widgets/controls"
          }
        },
        "6705183dbcd94800aa882441efb175fb": {
          "model_module": "@jupyter-widgets/base",
          "model_name": "LayoutModel",
          "model_module_version": "1.2.0",
          "state": {
            "_view_name": "LayoutView",
            "grid_template_rows": null,
            "right": null,
            "justify_content": null,
            "_view_module": "@jupyter-widgets/base",
            "overflow": null,
            "_model_module_version": "1.2.0",
            "_view_count": null,
            "flex_flow": null,
            "width": null,
            "min_width": null,
            "border": null,
            "align_items": null,
            "bottom": null,
            "_model_module": "@jupyter-widgets/base",
            "top": null,
            "grid_column": null,
            "overflow_y": null,
            "overflow_x": null,
            "grid_auto_flow": null,
            "grid_area": null,
            "grid_template_columns": null,
            "flex": null,
            "_model_name": "LayoutModel",
            "justify_items": null,
            "grid_row": null,
            "max_height": null,
            "align_content": null,
            "visibility": null,
            "align_self": null,
            "height": null,
            "min_height": null,
            "padding": null,
            "grid_auto_rows": null,
            "grid_gap": null,
            "max_width": null,
            "order": null,
            "_view_module_version": "1.2.0",
            "grid_template_areas": null,
            "object_position": null,
            "object_fit": null,
            "grid_auto_columns": null,
            "margin": null,
            "display": null,
            "left": null
          }
        },
        "cf6e8efeb8b2446cb647544941003733": {
          "model_module": "@jupyter-widgets/controls",
          "model_name": "ProgressStyleModel",
          "model_module_version": "1.5.0",
          "state": {
            "_view_name": "StyleView",
            "_model_name": "ProgressStyleModel",
            "description_width": "",
            "_view_module": "@jupyter-widgets/base",
            "_model_module_version": "1.5.0",
            "_view_count": null,
            "_view_module_version": "1.2.0",
            "bar_color": null,
            "_model_module": "@jupyter-widgets/controls"
          }
        },
        "f061c411679a4b1982440f241cae9360": {
          "model_module": "@jupyter-widgets/base",
          "model_name": "LayoutModel",
          "model_module_version": "1.2.0",
          "state": {
            "_view_name": "LayoutView",
            "grid_template_rows": null,
            "right": null,
            "justify_content": null,
            "_view_module": "@jupyter-widgets/base",
            "overflow": null,
            "_model_module_version": "1.2.0",
            "_view_count": null,
            "flex_flow": null,
            "width": null,
            "min_width": null,
            "border": null,
            "align_items": null,
            "bottom": null,
            "_model_module": "@jupyter-widgets/base",
            "top": null,
            "grid_column": null,
            "overflow_y": null,
            "overflow_x": null,
            "grid_auto_flow": null,
            "grid_area": null,
            "grid_template_columns": null,
            "flex": null,
            "_model_name": "LayoutModel",
            "justify_items": null,
            "grid_row": null,
            "max_height": null,
            "align_content": null,
            "visibility": null,
            "align_self": null,
            "height": null,
            "min_height": null,
            "padding": null,
            "grid_auto_rows": null,
            "grid_gap": null,
            "max_width": null,
            "order": null,
            "_view_module_version": "1.2.0",
            "grid_template_areas": null,
            "object_position": null,
            "object_fit": null,
            "grid_auto_columns": null,
            "margin": null,
            "display": null,
            "left": null
          }
        },
        "38ccea034f5244ddb1b907a4e9a00783": {
          "model_module": "@jupyter-widgets/controls",
          "model_name": "DescriptionStyleModel",
          "model_module_version": "1.5.0",
          "state": {
            "_view_name": "StyleView",
            "_model_name": "DescriptionStyleModel",
            "description_width": "",
            "_view_module": "@jupyter-widgets/base",
            "_model_module_version": "1.5.0",
            "_view_count": null,
            "_view_module_version": "1.2.0",
            "_model_module": "@jupyter-widgets/controls"
          }
        },
        "29556ae2bf6d4d2e90c53c3a343382e2": {
          "model_module": "@jupyter-widgets/base",
          "model_name": "LayoutModel",
          "model_module_version": "1.2.0",
          "state": {
            "_view_name": "LayoutView",
            "grid_template_rows": null,
            "right": null,
            "justify_content": null,
            "_view_module": "@jupyter-widgets/base",
            "overflow": null,
            "_model_module_version": "1.2.0",
            "_view_count": null,
            "flex_flow": null,
            "width": null,
            "min_width": null,
            "border": null,
            "align_items": null,
            "bottom": null,
            "_model_module": "@jupyter-widgets/base",
            "top": null,
            "grid_column": null,
            "overflow_y": null,
            "overflow_x": null,
            "grid_auto_flow": null,
            "grid_area": null,
            "grid_template_columns": null,
            "flex": null,
            "_model_name": "LayoutModel",
            "justify_items": null,
            "grid_row": null,
            "max_height": null,
            "align_content": null,
            "visibility": null,
            "align_self": null,
            "height": null,
            "min_height": null,
            "padding": null,
            "grid_auto_rows": null,
            "grid_gap": null,
            "max_width": null,
            "order": null,
            "_view_module_version": "1.2.0",
            "grid_template_areas": null,
            "object_position": null,
            "object_fit": null,
            "grid_auto_columns": null,
            "margin": null,
            "display": null,
            "left": null
          }
        }
      }
    }
  },
  "nbformat": 4,
  "nbformat_minor": 0
}